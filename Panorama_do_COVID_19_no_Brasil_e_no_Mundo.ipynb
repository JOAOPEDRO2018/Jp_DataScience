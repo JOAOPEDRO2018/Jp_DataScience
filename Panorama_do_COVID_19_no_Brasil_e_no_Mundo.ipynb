{
  "nbformat": 4,
  "nbformat_minor": 0,
  "metadata": {
    "colab": {
      "name": "Panorama do COVID-19 no Brasil e no Mundo",
      "provenance": [],
      "collapsed_sections": [
        "BXDVEXGQLHu8",
        "Wcq-6sQ8gBfZ"
      ],
      "authorship_tag": "ABX9TyNtNWNU++dF/KlvLw9BFkGw",
      "include_colab_link": true
    },
    "kernelspec": {
      "name": "python3",
      "display_name": "Python 3"
    },
    "language_info": {
      "name": "python"
    }
  },
  "cells": [
    {
      "cell_type": "markdown",
      "metadata": {
        "id": "view-in-github",
        "colab_type": "text"
      },
      "source": [
        "<a href=\"https://colab.research.google.com/github/JOAOPEDRO2018/Jp_DataScience/blob/dados/Panorama_do_COVID_19_no_Brasil_e_no_Mundo.ipynb\" target=\"_parent\"><img src=\"https://colab.research.google.com/assets/colab-badge.svg\" alt=\"Open In Colab\"/></a>"
      ]
    },
    {
      "cell_type": "markdown",
      "metadata": {
        "id": "J-FyNLQtx7Nv"
      },
      "source": [
        "# Panorama do Covid-19 no Brasil e no Mundo.\n",
        "\n",
        "Segundo o Ministério da Saúde, a Covid-19 é uma infecção respiratória aguda causada pelo coronavírus SARS-CoV-2, com muitos casos graves e alta taxa de transmissibilidade, culminou em uma pandemia global. SARS-CoV deve sua origem no sul da China, os primeiros casos foram identificados em 2002 como uma incomum epidemia de pneumonia em Foshan, Guangdong, China, esse surto foi identificado como uma Síndrome Respiratória Aguda (SARS) um ano depois foi identificado um novo CoV como sendo o causador da SARS, CoV faz parte da família de Coronavírus que são um grupo de vírus de RNA de fita simples, com alta mutação, que causam doenças respiratórias, hepáticas e neurológicas com uma gravidade muito variável não somente em humanos, mas também em uma gama variada de animais, a nova doença então foi denominada  como SARS-CoV.\n",
        "\n",
        "\n",
        "<center><img alt=\"Colaboratory logo\" width=\"90%\" src=\"https://www.unicef.org/brazil/sites/unicef.org.brazil/files/styles/hero_mobile/public/warao-manaus_michell-mello.jpg\"></center>\n",
        "\n",
        "\n",
        "Em 2019 um novo surto de SARS apareceu em Wuhan, na província de Hubei, na China, a princípio com causas desconhecidas, infectando mais de 9 mil pessoas na China com 213 mortes e infectando 106 pessoas em 19 outros países até 31 de janeiro de 2020. Poucos dias depois a causa foi identificada como sendo um novo coronavírus, a princípio denominado de coronavírus-2 (SARS-CoV-2) e batizado pela Organização Mundial de Saúde de Coronavírus 2019 (Covid-19)"
      ]
    },
    {
      "cell_type": "markdown",
      "metadata": {
        "id": "rnZUHsdf6oP4"
      },
      "source": [
        "###Contextualização\n",
        "\n",
        "O objetivo desta análise é visualizar de forma interativa a partir de gráficos, quais foram o impacto do COVID-19 no Mundo e, como o dados do Brasil se comparam com o resto do Mundo."
      ]
    },
    {
      "cell_type": "markdown",
      "metadata": {
        "id": "enldJM5OLNAM"
      },
      "source": [
        "###Obtendo os dados"
      ]
    },
    {
      "cell_type": "markdown",
      "metadata": {
        "id": "BXDVEXGQLHu8"
      },
      "source": [
        "####Imports"
      ]
    },
    {
      "cell_type": "code",
      "metadata": {
        "id": "Qcr7_47UIq0E"
      },
      "source": [
        "import pandas as pd\n",
        "import numpy as np\n",
        "import matplotlib.pyplot as plt\n",
        "\n",
        "df = pd.read_csv('https://raw.githubusercontent.com/owid/covid-19-data/master/public/data/owid-covid-data.csv')"
      ],
      "execution_count": 1,
      "outputs": []
    },
    {
      "cell_type": "markdown",
      "metadata": {
        "id": "Z8YaBPSqLXoT"
      },
      "source": [
        "####Analisando os Dados\n"
      ]
    },
    {
      "cell_type": "code",
      "metadata": {
        "colab": {
          "base_uri": "https://localhost:8080/",
          "height": 312
        },
        "id": "O8gLaIy7I7JE",
        "outputId": "c32fdb41-c4b1-4de6-cc05-98e9ef5c858a"
      },
      "source": [
        "df.head()"
      ],
      "execution_count": 2,
      "outputs": [
        {
          "output_type": "execute_result",
          "data": {
            "text/html": [
              "<div>\n",
              "<style scoped>\n",
              "    .dataframe tbody tr th:only-of-type {\n",
              "        vertical-align: middle;\n",
              "    }\n",
              "\n",
              "    .dataframe tbody tr th {\n",
              "        vertical-align: top;\n",
              "    }\n",
              "\n",
              "    .dataframe thead th {\n",
              "        text-align: right;\n",
              "    }\n",
              "</style>\n",
              "<table border=\"1\" class=\"dataframe\">\n",
              "  <thead>\n",
              "    <tr style=\"text-align: right;\">\n",
              "      <th></th>\n",
              "      <th>iso_code</th>\n",
              "      <th>continent</th>\n",
              "      <th>location</th>\n",
              "      <th>date</th>\n",
              "      <th>total_cases</th>\n",
              "      <th>new_cases</th>\n",
              "      <th>new_cases_smoothed</th>\n",
              "      <th>total_deaths</th>\n",
              "      <th>new_deaths</th>\n",
              "      <th>new_deaths_smoothed</th>\n",
              "      <th>total_cases_per_million</th>\n",
              "      <th>new_cases_per_million</th>\n",
              "      <th>new_cases_smoothed_per_million</th>\n",
              "      <th>total_deaths_per_million</th>\n",
              "      <th>new_deaths_per_million</th>\n",
              "      <th>new_deaths_smoothed_per_million</th>\n",
              "      <th>reproduction_rate</th>\n",
              "      <th>icu_patients</th>\n",
              "      <th>icu_patients_per_million</th>\n",
              "      <th>hosp_patients</th>\n",
              "      <th>hosp_patients_per_million</th>\n",
              "      <th>weekly_icu_admissions</th>\n",
              "      <th>weekly_icu_admissions_per_million</th>\n",
              "      <th>weekly_hosp_admissions</th>\n",
              "      <th>weekly_hosp_admissions_per_million</th>\n",
              "      <th>new_tests</th>\n",
              "      <th>total_tests</th>\n",
              "      <th>total_tests_per_thousand</th>\n",
              "      <th>new_tests_per_thousand</th>\n",
              "      <th>new_tests_smoothed</th>\n",
              "      <th>new_tests_smoothed_per_thousand</th>\n",
              "      <th>positive_rate</th>\n",
              "      <th>tests_per_case</th>\n",
              "      <th>tests_units</th>\n",
              "      <th>total_vaccinations</th>\n",
              "      <th>people_vaccinated</th>\n",
              "      <th>people_fully_vaccinated</th>\n",
              "      <th>new_vaccinations</th>\n",
              "      <th>new_vaccinations_smoothed</th>\n",
              "      <th>total_vaccinations_per_hundred</th>\n",
              "      <th>people_vaccinated_per_hundred</th>\n",
              "      <th>people_fully_vaccinated_per_hundred</th>\n",
              "      <th>new_vaccinations_smoothed_per_million</th>\n",
              "      <th>stringency_index</th>\n",
              "      <th>population</th>\n",
              "      <th>population_density</th>\n",
              "      <th>median_age</th>\n",
              "      <th>aged_65_older</th>\n",
              "      <th>aged_70_older</th>\n",
              "      <th>gdp_per_capita</th>\n",
              "      <th>extreme_poverty</th>\n",
              "      <th>cardiovasc_death_rate</th>\n",
              "      <th>diabetes_prevalence</th>\n",
              "      <th>female_smokers</th>\n",
              "      <th>male_smokers</th>\n",
              "      <th>handwashing_facilities</th>\n",
              "      <th>hospital_beds_per_thousand</th>\n",
              "      <th>life_expectancy</th>\n",
              "      <th>human_development_index</th>\n",
              "      <th>excess_mortality</th>\n",
              "    </tr>\n",
              "  </thead>\n",
              "  <tbody>\n",
              "    <tr>\n",
              "      <th>0</th>\n",
              "      <td>AFG</td>\n",
              "      <td>Asia</td>\n",
              "      <td>Afghanistan</td>\n",
              "      <td>2020-02-24</td>\n",
              "      <td>1.0</td>\n",
              "      <td>1.0</td>\n",
              "      <td>NaN</td>\n",
              "      <td>NaN</td>\n",
              "      <td>NaN</td>\n",
              "      <td>NaN</td>\n",
              "      <td>0.026</td>\n",
              "      <td>0.026</td>\n",
              "      <td>NaN</td>\n",
              "      <td>NaN</td>\n",
              "      <td>NaN</td>\n",
              "      <td>NaN</td>\n",
              "      <td>NaN</td>\n",
              "      <td>NaN</td>\n",
              "      <td>NaN</td>\n",
              "      <td>NaN</td>\n",
              "      <td>NaN</td>\n",
              "      <td>NaN</td>\n",
              "      <td>NaN</td>\n",
              "      <td>NaN</td>\n",
              "      <td>NaN</td>\n",
              "      <td>NaN</td>\n",
              "      <td>NaN</td>\n",
              "      <td>NaN</td>\n",
              "      <td>NaN</td>\n",
              "      <td>NaN</td>\n",
              "      <td>NaN</td>\n",
              "      <td>NaN</td>\n",
              "      <td>NaN</td>\n",
              "      <td>NaN</td>\n",
              "      <td>NaN</td>\n",
              "      <td>NaN</td>\n",
              "      <td>NaN</td>\n",
              "      <td>NaN</td>\n",
              "      <td>NaN</td>\n",
              "      <td>NaN</td>\n",
              "      <td>NaN</td>\n",
              "      <td>NaN</td>\n",
              "      <td>NaN</td>\n",
              "      <td>8.33</td>\n",
              "      <td>38928341.0</td>\n",
              "      <td>54.422</td>\n",
              "      <td>18.6</td>\n",
              "      <td>2.581</td>\n",
              "      <td>1.337</td>\n",
              "      <td>1803.987</td>\n",
              "      <td>NaN</td>\n",
              "      <td>597.029</td>\n",
              "      <td>9.59</td>\n",
              "      <td>NaN</td>\n",
              "      <td>NaN</td>\n",
              "      <td>37.746</td>\n",
              "      <td>0.5</td>\n",
              "      <td>64.83</td>\n",
              "      <td>0.511</td>\n",
              "      <td>NaN</td>\n",
              "    </tr>\n",
              "    <tr>\n",
              "      <th>1</th>\n",
              "      <td>AFG</td>\n",
              "      <td>Asia</td>\n",
              "      <td>Afghanistan</td>\n",
              "      <td>2020-02-25</td>\n",
              "      <td>1.0</td>\n",
              "      <td>0.0</td>\n",
              "      <td>NaN</td>\n",
              "      <td>NaN</td>\n",
              "      <td>NaN</td>\n",
              "      <td>NaN</td>\n",
              "      <td>0.026</td>\n",
              "      <td>0.000</td>\n",
              "      <td>NaN</td>\n",
              "      <td>NaN</td>\n",
              "      <td>NaN</td>\n",
              "      <td>NaN</td>\n",
              "      <td>NaN</td>\n",
              "      <td>NaN</td>\n",
              "      <td>NaN</td>\n",
              "      <td>NaN</td>\n",
              "      <td>NaN</td>\n",
              "      <td>NaN</td>\n",
              "      <td>NaN</td>\n",
              "      <td>NaN</td>\n",
              "      <td>NaN</td>\n",
              "      <td>NaN</td>\n",
              "      <td>NaN</td>\n",
              "      <td>NaN</td>\n",
              "      <td>NaN</td>\n",
              "      <td>NaN</td>\n",
              "      <td>NaN</td>\n",
              "      <td>NaN</td>\n",
              "      <td>NaN</td>\n",
              "      <td>NaN</td>\n",
              "      <td>NaN</td>\n",
              "      <td>NaN</td>\n",
              "      <td>NaN</td>\n",
              "      <td>NaN</td>\n",
              "      <td>NaN</td>\n",
              "      <td>NaN</td>\n",
              "      <td>NaN</td>\n",
              "      <td>NaN</td>\n",
              "      <td>NaN</td>\n",
              "      <td>8.33</td>\n",
              "      <td>38928341.0</td>\n",
              "      <td>54.422</td>\n",
              "      <td>18.6</td>\n",
              "      <td>2.581</td>\n",
              "      <td>1.337</td>\n",
              "      <td>1803.987</td>\n",
              "      <td>NaN</td>\n",
              "      <td>597.029</td>\n",
              "      <td>9.59</td>\n",
              "      <td>NaN</td>\n",
              "      <td>NaN</td>\n",
              "      <td>37.746</td>\n",
              "      <td>0.5</td>\n",
              "      <td>64.83</td>\n",
              "      <td>0.511</td>\n",
              "      <td>NaN</td>\n",
              "    </tr>\n",
              "    <tr>\n",
              "      <th>2</th>\n",
              "      <td>AFG</td>\n",
              "      <td>Asia</td>\n",
              "      <td>Afghanistan</td>\n",
              "      <td>2020-02-26</td>\n",
              "      <td>1.0</td>\n",
              "      <td>0.0</td>\n",
              "      <td>NaN</td>\n",
              "      <td>NaN</td>\n",
              "      <td>NaN</td>\n",
              "      <td>NaN</td>\n",
              "      <td>0.026</td>\n",
              "      <td>0.000</td>\n",
              "      <td>NaN</td>\n",
              "      <td>NaN</td>\n",
              "      <td>NaN</td>\n",
              "      <td>NaN</td>\n",
              "      <td>NaN</td>\n",
              "      <td>NaN</td>\n",
              "      <td>NaN</td>\n",
              "      <td>NaN</td>\n",
              "      <td>NaN</td>\n",
              "      <td>NaN</td>\n",
              "      <td>NaN</td>\n",
              "      <td>NaN</td>\n",
              "      <td>NaN</td>\n",
              "      <td>NaN</td>\n",
              "      <td>NaN</td>\n",
              "      <td>NaN</td>\n",
              "      <td>NaN</td>\n",
              "      <td>NaN</td>\n",
              "      <td>NaN</td>\n",
              "      <td>NaN</td>\n",
              "      <td>NaN</td>\n",
              "      <td>NaN</td>\n",
              "      <td>NaN</td>\n",
              "      <td>NaN</td>\n",
              "      <td>NaN</td>\n",
              "      <td>NaN</td>\n",
              "      <td>NaN</td>\n",
              "      <td>NaN</td>\n",
              "      <td>NaN</td>\n",
              "      <td>NaN</td>\n",
              "      <td>NaN</td>\n",
              "      <td>8.33</td>\n",
              "      <td>38928341.0</td>\n",
              "      <td>54.422</td>\n",
              "      <td>18.6</td>\n",
              "      <td>2.581</td>\n",
              "      <td>1.337</td>\n",
              "      <td>1803.987</td>\n",
              "      <td>NaN</td>\n",
              "      <td>597.029</td>\n",
              "      <td>9.59</td>\n",
              "      <td>NaN</td>\n",
              "      <td>NaN</td>\n",
              "      <td>37.746</td>\n",
              "      <td>0.5</td>\n",
              "      <td>64.83</td>\n",
              "      <td>0.511</td>\n",
              "      <td>NaN</td>\n",
              "    </tr>\n",
              "    <tr>\n",
              "      <th>3</th>\n",
              "      <td>AFG</td>\n",
              "      <td>Asia</td>\n",
              "      <td>Afghanistan</td>\n",
              "      <td>2020-02-27</td>\n",
              "      <td>1.0</td>\n",
              "      <td>0.0</td>\n",
              "      <td>NaN</td>\n",
              "      <td>NaN</td>\n",
              "      <td>NaN</td>\n",
              "      <td>NaN</td>\n",
              "      <td>0.026</td>\n",
              "      <td>0.000</td>\n",
              "      <td>NaN</td>\n",
              "      <td>NaN</td>\n",
              "      <td>NaN</td>\n",
              "      <td>NaN</td>\n",
              "      <td>NaN</td>\n",
              "      <td>NaN</td>\n",
              "      <td>NaN</td>\n",
              "      <td>NaN</td>\n",
              "      <td>NaN</td>\n",
              "      <td>NaN</td>\n",
              "      <td>NaN</td>\n",
              "      <td>NaN</td>\n",
              "      <td>NaN</td>\n",
              "      <td>NaN</td>\n",
              "      <td>NaN</td>\n",
              "      <td>NaN</td>\n",
              "      <td>NaN</td>\n",
              "      <td>NaN</td>\n",
              "      <td>NaN</td>\n",
              "      <td>NaN</td>\n",
              "      <td>NaN</td>\n",
              "      <td>NaN</td>\n",
              "      <td>NaN</td>\n",
              "      <td>NaN</td>\n",
              "      <td>NaN</td>\n",
              "      <td>NaN</td>\n",
              "      <td>NaN</td>\n",
              "      <td>NaN</td>\n",
              "      <td>NaN</td>\n",
              "      <td>NaN</td>\n",
              "      <td>NaN</td>\n",
              "      <td>8.33</td>\n",
              "      <td>38928341.0</td>\n",
              "      <td>54.422</td>\n",
              "      <td>18.6</td>\n",
              "      <td>2.581</td>\n",
              "      <td>1.337</td>\n",
              "      <td>1803.987</td>\n",
              "      <td>NaN</td>\n",
              "      <td>597.029</td>\n",
              "      <td>9.59</td>\n",
              "      <td>NaN</td>\n",
              "      <td>NaN</td>\n",
              "      <td>37.746</td>\n",
              "      <td>0.5</td>\n",
              "      <td>64.83</td>\n",
              "      <td>0.511</td>\n",
              "      <td>NaN</td>\n",
              "    </tr>\n",
              "    <tr>\n",
              "      <th>4</th>\n",
              "      <td>AFG</td>\n",
              "      <td>Asia</td>\n",
              "      <td>Afghanistan</td>\n",
              "      <td>2020-02-28</td>\n",
              "      <td>1.0</td>\n",
              "      <td>0.0</td>\n",
              "      <td>NaN</td>\n",
              "      <td>NaN</td>\n",
              "      <td>NaN</td>\n",
              "      <td>NaN</td>\n",
              "      <td>0.026</td>\n",
              "      <td>0.000</td>\n",
              "      <td>NaN</td>\n",
              "      <td>NaN</td>\n",
              "      <td>NaN</td>\n",
              "      <td>NaN</td>\n",
              "      <td>NaN</td>\n",
              "      <td>NaN</td>\n",
              "      <td>NaN</td>\n",
              "      <td>NaN</td>\n",
              "      <td>NaN</td>\n",
              "      <td>NaN</td>\n",
              "      <td>NaN</td>\n",
              "      <td>NaN</td>\n",
              "      <td>NaN</td>\n",
              "      <td>NaN</td>\n",
              "      <td>NaN</td>\n",
              "      <td>NaN</td>\n",
              "      <td>NaN</td>\n",
              "      <td>NaN</td>\n",
              "      <td>NaN</td>\n",
              "      <td>NaN</td>\n",
              "      <td>NaN</td>\n",
              "      <td>NaN</td>\n",
              "      <td>NaN</td>\n",
              "      <td>NaN</td>\n",
              "      <td>NaN</td>\n",
              "      <td>NaN</td>\n",
              "      <td>NaN</td>\n",
              "      <td>NaN</td>\n",
              "      <td>NaN</td>\n",
              "      <td>NaN</td>\n",
              "      <td>NaN</td>\n",
              "      <td>8.33</td>\n",
              "      <td>38928341.0</td>\n",
              "      <td>54.422</td>\n",
              "      <td>18.6</td>\n",
              "      <td>2.581</td>\n",
              "      <td>1.337</td>\n",
              "      <td>1803.987</td>\n",
              "      <td>NaN</td>\n",
              "      <td>597.029</td>\n",
              "      <td>9.59</td>\n",
              "      <td>NaN</td>\n",
              "      <td>NaN</td>\n",
              "      <td>37.746</td>\n",
              "      <td>0.5</td>\n",
              "      <td>64.83</td>\n",
              "      <td>0.511</td>\n",
              "      <td>NaN</td>\n",
              "    </tr>\n",
              "  </tbody>\n",
              "</table>\n",
              "</div>"
            ],
            "text/plain": [
              "  iso_code continent  ... human_development_index excess_mortality\n",
              "0      AFG      Asia  ...                   0.511              NaN\n",
              "1      AFG      Asia  ...                   0.511              NaN\n",
              "2      AFG      Asia  ...                   0.511              NaN\n",
              "3      AFG      Asia  ...                   0.511              NaN\n",
              "4      AFG      Asia  ...                   0.511              NaN\n",
              "\n",
              "[5 rows x 60 columns]"
            ]
          },
          "metadata": {
            "tags": []
          },
          "execution_count": 2
        }
      ]
    },
    {
      "cell_type": "markdown",
      "metadata": {
        "id": "L829o2BpLvCb"
      },
      "source": [
        "``df.info`` é util para entender como os dados estão distribuidos no dataset, no caso vemos que existe uma coluna ``date`` que pode ser transformada para o tipo data e ser usada como index, além de já ter uma previa de da quantidade de valores nulos em cada coluna."
      ]
    },
    {
      "cell_type": "code",
      "metadata": {
        "id": "Yj2Djx45Mk9Q",
        "colab": {
          "base_uri": "https://localhost:8080/"
        },
        "outputId": "32857c9f-861d-4749-e39f-4144064ddb7a"
      },
      "source": [
        "df.info()"
      ],
      "execution_count": 3,
      "outputs": [
        {
          "output_type": "stream",
          "text": [
            "<class 'pandas.core.frame.DataFrame'>\n",
            "RangeIndex: 105229 entries, 0 to 105228\n",
            "Data columns (total 60 columns):\n",
            " #   Column                                 Non-Null Count   Dtype  \n",
            "---  ------                                 --------------   -----  \n",
            " 0   iso_code                               105229 non-null  object \n",
            " 1   continent                              100335 non-null  object \n",
            " 2   location                               105229 non-null  object \n",
            " 3   date                                   105229 non-null  object \n",
            " 4   total_cases                            101006 non-null  float64\n",
            " 5   new_cases                              101003 non-null  float64\n",
            " 6   new_cases_smoothed                     99993 non-null   float64\n",
            " 7   total_deaths                           90699 non-null   float64\n",
            " 8   new_deaths                             90854 non-null   float64\n",
            " 9   new_deaths_smoothed                    99993 non-null   float64\n",
            " 10  total_cases_per_million                100470 non-null  float64\n",
            " 11  new_cases_per_million                  100467 non-null  float64\n",
            " 12  new_cases_smoothed_per_million         99462 non-null   float64\n",
            " 13  total_deaths_per_million               90176 non-null   float64\n",
            " 14  new_deaths_per_million                 90331 non-null   float64\n",
            " 15  new_deaths_smoothed_per_million        99462 non-null   float64\n",
            " 16  reproduction_rate                      84817 non-null   float64\n",
            " 17  icu_patients                           10857 non-null   float64\n",
            " 18  icu_patients_per_million               10857 non-null   float64\n",
            " 19  hosp_patients                          13113 non-null   float64\n",
            " 20  hosp_patients_per_million              13113 non-null   float64\n",
            " 21  weekly_icu_admissions                  966 non-null     float64\n",
            " 22  weekly_icu_admissions_per_million      966 non-null     float64\n",
            " 23  weekly_hosp_admissions                 1720 non-null    float64\n",
            " 24  weekly_hosp_admissions_per_million     1720 non-null    float64\n",
            " 25  new_tests                              46931 non-null   float64\n",
            " 26  total_tests                            46626 non-null   float64\n",
            " 27  total_tests_per_thousand               46626 non-null   float64\n",
            " 28  new_tests_per_thousand                 46931 non-null   float64\n",
            " 29  new_tests_smoothed                     54861 non-null   float64\n",
            " 30  new_tests_smoothed_per_thousand        54861 non-null   float64\n",
            " 31  positive_rate                          51257 non-null   float64\n",
            " 32  tests_per_case                         50625 non-null   float64\n",
            " 33  tests_units                            56612 non-null   object \n",
            " 34  total_vaccinations                     19485 non-null   float64\n",
            " 35  people_vaccinated                      18620 non-null   float64\n",
            " 36  people_fully_vaccinated                15692 non-null   float64\n",
            " 37  new_vaccinations                       16224 non-null   float64\n",
            " 38  new_vaccinations_smoothed              33933 non-null   float64\n",
            " 39  total_vaccinations_per_hundred         19485 non-null   float64\n",
            " 40  people_vaccinated_per_hundred          18620 non-null   float64\n",
            " 41  people_fully_vaccinated_per_hundred    15692 non-null   float64\n",
            " 42  new_vaccinations_smoothed_per_million  33933 non-null   float64\n",
            " 43  stringency_index                       88070 non-null   float64\n",
            " 44  population                             104528 non-null  float64\n",
            " 45  population_density                     97676 non-null   float64\n",
            " 46  median_age                             93759 non-null   float64\n",
            " 47  aged_65_older                          92709 non-null   float64\n",
            " 48  aged_70_older                          93242 non-null   float64\n",
            " 49  gdp_per_capita                         94159 non-null   float64\n",
            " 50  extreme_poverty                        63425 non-null   float64\n",
            " 51  cardiovasc_death_rate                  94115 non-null   float64\n",
            " 52  diabetes_prevalence                    96649 non-null   float64\n",
            " 53  female_smokers                         73574 non-null   float64\n",
            " 54  male_smokers                           72498 non-null   float64\n",
            " 55  handwashing_facilities                 47273 non-null   float64\n",
            " 56  hospital_beds_per_thousand             85682 non-null   float64\n",
            " 57  life_expectancy                        99901 non-null   float64\n",
            " 58  human_development_index                94233 non-null   float64\n",
            " 59  excess_mortality                       3671 non-null    float64\n",
            "dtypes: float64(55), object(5)\n",
            "memory usage: 48.2+ MB\n"
          ],
          "name": "stdout"
        }
      ]
    },
    {
      "cell_type": "code",
      "metadata": {
        "id": "llYzdyh2Vw5H"
      },
      "source": [
        "#tranformar coluna data para datetime, assim o dataset ficará mais organizado\n",
        "df['date'] = pd.to_datetime(df['date'])"
      ],
      "execution_count": 4,
      "outputs": []
    },
    {
      "cell_type": "code",
      "metadata": {
        "id": "xqHuk0ElaRgw"
      },
      "source": [
        "#Atribuindo a coluna date como index\n",
        "df.set_index('date', inplace=True)"
      ],
      "execution_count": 5,
      "outputs": []
    },
    {
      "cell_type": "code",
      "metadata": {
        "colab": {
          "base_uri": "https://localhost:8080/",
          "height": 343
        },
        "id": "l2jzD0fcPHTD",
        "outputId": "f84c536f-8b3c-4cea-887f-4da983ec22d6"
      },
      "source": [
        "df.tail(5)"
      ],
      "execution_count": 6,
      "outputs": [
        {
          "output_type": "execute_result",
          "data": {
            "text/html": [
              "<div>\n",
              "<style scoped>\n",
              "    .dataframe tbody tr th:only-of-type {\n",
              "        vertical-align: middle;\n",
              "    }\n",
              "\n",
              "    .dataframe tbody tr th {\n",
              "        vertical-align: top;\n",
              "    }\n",
              "\n",
              "    .dataframe thead th {\n",
              "        text-align: right;\n",
              "    }\n",
              "</style>\n",
              "<table border=\"1\" class=\"dataframe\">\n",
              "  <thead>\n",
              "    <tr style=\"text-align: right;\">\n",
              "      <th></th>\n",
              "      <th>iso_code</th>\n",
              "      <th>continent</th>\n",
              "      <th>location</th>\n",
              "      <th>total_cases</th>\n",
              "      <th>new_cases</th>\n",
              "      <th>new_cases_smoothed</th>\n",
              "      <th>total_deaths</th>\n",
              "      <th>new_deaths</th>\n",
              "      <th>new_deaths_smoothed</th>\n",
              "      <th>total_cases_per_million</th>\n",
              "      <th>new_cases_per_million</th>\n",
              "      <th>new_cases_smoothed_per_million</th>\n",
              "      <th>total_deaths_per_million</th>\n",
              "      <th>new_deaths_per_million</th>\n",
              "      <th>new_deaths_smoothed_per_million</th>\n",
              "      <th>reproduction_rate</th>\n",
              "      <th>icu_patients</th>\n",
              "      <th>icu_patients_per_million</th>\n",
              "      <th>hosp_patients</th>\n",
              "      <th>hosp_patients_per_million</th>\n",
              "      <th>weekly_icu_admissions</th>\n",
              "      <th>weekly_icu_admissions_per_million</th>\n",
              "      <th>weekly_hosp_admissions</th>\n",
              "      <th>weekly_hosp_admissions_per_million</th>\n",
              "      <th>new_tests</th>\n",
              "      <th>total_tests</th>\n",
              "      <th>total_tests_per_thousand</th>\n",
              "      <th>new_tests_per_thousand</th>\n",
              "      <th>new_tests_smoothed</th>\n",
              "      <th>new_tests_smoothed_per_thousand</th>\n",
              "      <th>positive_rate</th>\n",
              "      <th>tests_per_case</th>\n",
              "      <th>tests_units</th>\n",
              "      <th>total_vaccinations</th>\n",
              "      <th>people_vaccinated</th>\n",
              "      <th>people_fully_vaccinated</th>\n",
              "      <th>new_vaccinations</th>\n",
              "      <th>new_vaccinations_smoothed</th>\n",
              "      <th>total_vaccinations_per_hundred</th>\n",
              "      <th>people_vaccinated_per_hundred</th>\n",
              "      <th>people_fully_vaccinated_per_hundred</th>\n",
              "      <th>new_vaccinations_smoothed_per_million</th>\n",
              "      <th>stringency_index</th>\n",
              "      <th>population</th>\n",
              "      <th>population_density</th>\n",
              "      <th>median_age</th>\n",
              "      <th>aged_65_older</th>\n",
              "      <th>aged_70_older</th>\n",
              "      <th>gdp_per_capita</th>\n",
              "      <th>extreme_poverty</th>\n",
              "      <th>cardiovasc_death_rate</th>\n",
              "      <th>diabetes_prevalence</th>\n",
              "      <th>female_smokers</th>\n",
              "      <th>male_smokers</th>\n",
              "      <th>handwashing_facilities</th>\n",
              "      <th>hospital_beds_per_thousand</th>\n",
              "      <th>life_expectancy</th>\n",
              "      <th>human_development_index</th>\n",
              "      <th>excess_mortality</th>\n",
              "    </tr>\n",
              "    <tr>\n",
              "      <th>date</th>\n",
              "      <th></th>\n",
              "      <th></th>\n",
              "      <th></th>\n",
              "      <th></th>\n",
              "      <th></th>\n",
              "      <th></th>\n",
              "      <th></th>\n",
              "      <th></th>\n",
              "      <th></th>\n",
              "      <th></th>\n",
              "      <th></th>\n",
              "      <th></th>\n",
              "      <th></th>\n",
              "      <th></th>\n",
              "      <th></th>\n",
              "      <th></th>\n",
              "      <th></th>\n",
              "      <th></th>\n",
              "      <th></th>\n",
              "      <th></th>\n",
              "      <th></th>\n",
              "      <th></th>\n",
              "      <th></th>\n",
              "      <th></th>\n",
              "      <th></th>\n",
              "      <th></th>\n",
              "      <th></th>\n",
              "      <th></th>\n",
              "      <th></th>\n",
              "      <th></th>\n",
              "      <th></th>\n",
              "      <th></th>\n",
              "      <th></th>\n",
              "      <th></th>\n",
              "      <th></th>\n",
              "      <th></th>\n",
              "      <th></th>\n",
              "      <th></th>\n",
              "      <th></th>\n",
              "      <th></th>\n",
              "      <th></th>\n",
              "      <th></th>\n",
              "      <th></th>\n",
              "      <th></th>\n",
              "      <th></th>\n",
              "      <th></th>\n",
              "      <th></th>\n",
              "      <th></th>\n",
              "      <th></th>\n",
              "      <th></th>\n",
              "      <th></th>\n",
              "      <th></th>\n",
              "      <th></th>\n",
              "      <th></th>\n",
              "      <th></th>\n",
              "      <th></th>\n",
              "      <th></th>\n",
              "      <th></th>\n",
              "      <th></th>\n",
              "    </tr>\n",
              "  </thead>\n",
              "  <tbody>\n",
              "    <tr>\n",
              "      <th>2021-07-22</th>\n",
              "      <td>ZWE</td>\n",
              "      <td>Africa</td>\n",
              "      <td>Zimbabwe</td>\n",
              "      <td>93421.0</td>\n",
              "      <td>2301.0</td>\n",
              "      <td>2078.429</td>\n",
              "      <td>2870.0</td>\n",
              "      <td>61.0</td>\n",
              "      <td>64.571</td>\n",
              "      <td>6285.505</td>\n",
              "      <td>154.815</td>\n",
              "      <td>139.840</td>\n",
              "      <td>193.098</td>\n",
              "      <td>4.104</td>\n",
              "      <td>4.344</td>\n",
              "      <td>1.18</td>\n",
              "      <td>NaN</td>\n",
              "      <td>NaN</td>\n",
              "      <td>NaN</td>\n",
              "      <td>NaN</td>\n",
              "      <td>NaN</td>\n",
              "      <td>NaN</td>\n",
              "      <td>NaN</td>\n",
              "      <td>NaN</td>\n",
              "      <td>14987.0</td>\n",
              "      <td>872248.0</td>\n",
              "      <td>58.686</td>\n",
              "      <td>1.008</td>\n",
              "      <td>10365.0</td>\n",
              "      <td>0.697</td>\n",
              "      <td>0.201</td>\n",
              "      <td>5.0</td>\n",
              "      <td>tests performed</td>\n",
              "      <td>2017101.0</td>\n",
              "      <td>1352514.0</td>\n",
              "      <td>664587.0</td>\n",
              "      <td>67629.0</td>\n",
              "      <td>50034.0</td>\n",
              "      <td>13.57</td>\n",
              "      <td>9.10</td>\n",
              "      <td>4.47</td>\n",
              "      <td>3366.0</td>\n",
              "      <td>NaN</td>\n",
              "      <td>14862927.0</td>\n",
              "      <td>42.729</td>\n",
              "      <td>19.6</td>\n",
              "      <td>2.822</td>\n",
              "      <td>1.882</td>\n",
              "      <td>1899.775</td>\n",
              "      <td>21.4</td>\n",
              "      <td>307.846</td>\n",
              "      <td>1.82</td>\n",
              "      <td>1.6</td>\n",
              "      <td>30.7</td>\n",
              "      <td>36.791</td>\n",
              "      <td>1.7</td>\n",
              "      <td>61.49</td>\n",
              "      <td>0.571</td>\n",
              "      <td>NaN</td>\n",
              "    </tr>\n",
              "    <tr>\n",
              "      <th>2021-07-23</th>\n",
              "      <td>ZWE</td>\n",
              "      <td>Africa</td>\n",
              "      <td>Zimbabwe</td>\n",
              "      <td>95686.0</td>\n",
              "      <td>2265.0</td>\n",
              "      <td>2074.000</td>\n",
              "      <td>2961.0</td>\n",
              "      <td>91.0</td>\n",
              "      <td>63.000</td>\n",
              "      <td>6437.897</td>\n",
              "      <td>152.393</td>\n",
              "      <td>139.542</td>\n",
              "      <td>199.221</td>\n",
              "      <td>6.123</td>\n",
              "      <td>4.239</td>\n",
              "      <td>1.17</td>\n",
              "      <td>NaN</td>\n",
              "      <td>NaN</td>\n",
              "      <td>NaN</td>\n",
              "      <td>NaN</td>\n",
              "      <td>NaN</td>\n",
              "      <td>NaN</td>\n",
              "      <td>NaN</td>\n",
              "      <td>NaN</td>\n",
              "      <td>NaN</td>\n",
              "      <td>NaN</td>\n",
              "      <td>NaN</td>\n",
              "      <td>NaN</td>\n",
              "      <td>NaN</td>\n",
              "      <td>NaN</td>\n",
              "      <td>NaN</td>\n",
              "      <td>NaN</td>\n",
              "      <td>NaN</td>\n",
              "      <td>2072060.0</td>\n",
              "      <td>1400905.0</td>\n",
              "      <td>671155.0</td>\n",
              "      <td>54959.0</td>\n",
              "      <td>48617.0</td>\n",
              "      <td>13.94</td>\n",
              "      <td>9.43</td>\n",
              "      <td>4.52</td>\n",
              "      <td>3271.0</td>\n",
              "      <td>NaN</td>\n",
              "      <td>14862927.0</td>\n",
              "      <td>42.729</td>\n",
              "      <td>19.6</td>\n",
              "      <td>2.822</td>\n",
              "      <td>1.882</td>\n",
              "      <td>1899.775</td>\n",
              "      <td>21.4</td>\n",
              "      <td>307.846</td>\n",
              "      <td>1.82</td>\n",
              "      <td>1.6</td>\n",
              "      <td>30.7</td>\n",
              "      <td>36.791</td>\n",
              "      <td>1.7</td>\n",
              "      <td>61.49</td>\n",
              "      <td>0.571</td>\n",
              "      <td>NaN</td>\n",
              "    </tr>\n",
              "    <tr>\n",
              "      <th>2021-07-24</th>\n",
              "      <td>ZWE</td>\n",
              "      <td>Africa</td>\n",
              "      <td>Zimbabwe</td>\n",
              "      <td>97277.0</td>\n",
              "      <td>1591.0</td>\n",
              "      <td>2094.857</td>\n",
              "      <td>3050.0</td>\n",
              "      <td>89.0</td>\n",
              "      <td>66.000</td>\n",
              "      <td>6544.942</td>\n",
              "      <td>107.045</td>\n",
              "      <td>140.945</td>\n",
              "      <td>205.209</td>\n",
              "      <td>5.988</td>\n",
              "      <td>4.441</td>\n",
              "      <td>1.17</td>\n",
              "      <td>NaN</td>\n",
              "      <td>NaN</td>\n",
              "      <td>NaN</td>\n",
              "      <td>NaN</td>\n",
              "      <td>NaN</td>\n",
              "      <td>NaN</td>\n",
              "      <td>NaN</td>\n",
              "      <td>NaN</td>\n",
              "      <td>NaN</td>\n",
              "      <td>NaN</td>\n",
              "      <td>NaN</td>\n",
              "      <td>NaN</td>\n",
              "      <td>NaN</td>\n",
              "      <td>NaN</td>\n",
              "      <td>NaN</td>\n",
              "      <td>NaN</td>\n",
              "      <td>NaN</td>\n",
              "      <td>2116664.0</td>\n",
              "      <td>1438890.0</td>\n",
              "      <td>677774.0</td>\n",
              "      <td>44604.0</td>\n",
              "      <td>49319.0</td>\n",
              "      <td>14.24</td>\n",
              "      <td>9.68</td>\n",
              "      <td>4.56</td>\n",
              "      <td>3318.0</td>\n",
              "      <td>NaN</td>\n",
              "      <td>14862927.0</td>\n",
              "      <td>42.729</td>\n",
              "      <td>19.6</td>\n",
              "      <td>2.822</td>\n",
              "      <td>1.882</td>\n",
              "      <td>1899.775</td>\n",
              "      <td>21.4</td>\n",
              "      <td>307.846</td>\n",
              "      <td>1.82</td>\n",
              "      <td>1.6</td>\n",
              "      <td>30.7</td>\n",
              "      <td>36.791</td>\n",
              "      <td>1.7</td>\n",
              "      <td>61.49</td>\n",
              "      <td>0.571</td>\n",
              "      <td>NaN</td>\n",
              "    </tr>\n",
              "    <tr>\n",
              "      <th>2021-07-25</th>\n",
              "      <td>ZWE</td>\n",
              "      <td>Africa</td>\n",
              "      <td>Zimbabwe</td>\n",
              "      <td>97894.0</td>\n",
              "      <td>617.0</td>\n",
              "      <td>2039.286</td>\n",
              "      <td>3094.0</td>\n",
              "      <td>44.0</td>\n",
              "      <td>67.429</td>\n",
              "      <td>6586.455</td>\n",
              "      <td>41.513</td>\n",
              "      <td>137.206</td>\n",
              "      <td>208.169</td>\n",
              "      <td>2.960</td>\n",
              "      <td>4.537</td>\n",
              "      <td>NaN</td>\n",
              "      <td>NaN</td>\n",
              "      <td>NaN</td>\n",
              "      <td>NaN</td>\n",
              "      <td>NaN</td>\n",
              "      <td>NaN</td>\n",
              "      <td>NaN</td>\n",
              "      <td>NaN</td>\n",
              "      <td>NaN</td>\n",
              "      <td>NaN</td>\n",
              "      <td>NaN</td>\n",
              "      <td>NaN</td>\n",
              "      <td>NaN</td>\n",
              "      <td>NaN</td>\n",
              "      <td>NaN</td>\n",
              "      <td>NaN</td>\n",
              "      <td>NaN</td>\n",
              "      <td>NaN</td>\n",
              "      <td>2127402.0</td>\n",
              "      <td>1447342.0</td>\n",
              "      <td>680060.0</td>\n",
              "      <td>10738.0</td>\n",
              "      <td>48838.0</td>\n",
              "      <td>14.31</td>\n",
              "      <td>9.74</td>\n",
              "      <td>4.58</td>\n",
              "      <td>3286.0</td>\n",
              "      <td>NaN</td>\n",
              "      <td>14862927.0</td>\n",
              "      <td>42.729</td>\n",
              "      <td>19.6</td>\n",
              "      <td>2.822</td>\n",
              "      <td>1.882</td>\n",
              "      <td>1899.775</td>\n",
              "      <td>21.4</td>\n",
              "      <td>307.846</td>\n",
              "      <td>1.82</td>\n",
              "      <td>1.6</td>\n",
              "      <td>30.7</td>\n",
              "      <td>36.791</td>\n",
              "      <td>1.7</td>\n",
              "      <td>61.49</td>\n",
              "      <td>0.571</td>\n",
              "      <td>NaN</td>\n",
              "    </tr>\n",
              "    <tr>\n",
              "      <th>2021-07-26</th>\n",
              "      <td>ZWE</td>\n",
              "      <td>Africa</td>\n",
              "      <td>Zimbabwe</td>\n",
              "      <td>99944.0</td>\n",
              "      <td>2050.0</td>\n",
              "      <td>2030.286</td>\n",
              "      <td>3173.0</td>\n",
              "      <td>79.0</td>\n",
              "      <td>68.000</td>\n",
              "      <td>6724.382</td>\n",
              "      <td>137.927</td>\n",
              "      <td>136.601</td>\n",
              "      <td>213.484</td>\n",
              "      <td>5.315</td>\n",
              "      <td>4.575</td>\n",
              "      <td>NaN</td>\n",
              "      <td>NaN</td>\n",
              "      <td>NaN</td>\n",
              "      <td>NaN</td>\n",
              "      <td>NaN</td>\n",
              "      <td>NaN</td>\n",
              "      <td>NaN</td>\n",
              "      <td>NaN</td>\n",
              "      <td>NaN</td>\n",
              "      <td>NaN</td>\n",
              "      <td>NaN</td>\n",
              "      <td>NaN</td>\n",
              "      <td>NaN</td>\n",
              "      <td>NaN</td>\n",
              "      <td>NaN</td>\n",
              "      <td>NaN</td>\n",
              "      <td>NaN</td>\n",
              "      <td>NaN</td>\n",
              "      <td>NaN</td>\n",
              "      <td>NaN</td>\n",
              "      <td>NaN</td>\n",
              "      <td>NaN</td>\n",
              "      <td>NaN</td>\n",
              "      <td>NaN</td>\n",
              "      <td>NaN</td>\n",
              "      <td>NaN</td>\n",
              "      <td>NaN</td>\n",
              "      <td>NaN</td>\n",
              "      <td>14862927.0</td>\n",
              "      <td>42.729</td>\n",
              "      <td>19.6</td>\n",
              "      <td>2.822</td>\n",
              "      <td>1.882</td>\n",
              "      <td>1899.775</td>\n",
              "      <td>21.4</td>\n",
              "      <td>307.846</td>\n",
              "      <td>1.82</td>\n",
              "      <td>1.6</td>\n",
              "      <td>30.7</td>\n",
              "      <td>36.791</td>\n",
              "      <td>1.7</td>\n",
              "      <td>61.49</td>\n",
              "      <td>0.571</td>\n",
              "      <td>NaN</td>\n",
              "    </tr>\n",
              "  </tbody>\n",
              "</table>\n",
              "</div>"
            ],
            "text/plain": [
              "           iso_code continent  ... human_development_index  excess_mortality\n",
              "date                           ...                                          \n",
              "2021-07-22      ZWE    Africa  ...                   0.571               NaN\n",
              "2021-07-23      ZWE    Africa  ...                   0.571               NaN\n",
              "2021-07-24      ZWE    Africa  ...                   0.571               NaN\n",
              "2021-07-25      ZWE    Africa  ...                   0.571               NaN\n",
              "2021-07-26      ZWE    Africa  ...                   0.571               NaN\n",
              "\n",
              "[5 rows x 59 columns]"
            ]
          },
          "metadata": {
            "tags": []
          },
          "execution_count": 6
        }
      ]
    },
    {
      "cell_type": "markdown",
      "metadata": {
        "id": "Wcq-6sQ8gBfZ"
      },
      "source": [
        "####Mapa de Variáveis\n",
        "Já tranformamos a coluna de data para Datetime e definimos como index, agora a próxima etapa será entender o que cada coluna significa para isso será criado um mapa para o entendimento do mesmo.\n"
      ]
    },
    {
      "cell_type": "markdown",
      "metadata": {
        "id": "sM_AubpV9On3"
      },
      "source": [
        "\n",
        "\n",
        "``iso_code``:(International Organization for Standardization) significa o código do país\n",
        "\n",
        "``continent``: Continente local\n",
        "\n",
        "``location``: País local\n",
        "\n",
        "``date``: Data da observação\n",
        "\n",
        "``total_cases``: Total de casos de COVID-19\n",
        "\n",
        "``new_cases``: Novos casos confirmados de COVID-19\n",
        "\n",
        "``new_cases_smoothed``: Novos casos com suavização de 7 dias\n",
        "\n",
        "``total_deaths``: Total de mortes pela COVID-19\n",
        "\n",
        "``new_deaths``: Novas mortes pela COVID-19\n",
        "\n",
        "``new_deaths_smoothed``:Novas mortes com suavização de 7-dias\n",
        "\n",
        "``total_cases_per_million``: Total de casos por milhão\n",
        "\n",
        "``new_cases_per_million``: Novos casos por milhão\n",
        "\n",
        "``new_cases_smoothed_per_million``: Novos casos por milhão com suavização de 7-dias\n",
        "\n",
        "``total_deaths_per_million``: Total de mortes por milhão\n",
        "\n",
        "``new_deaths_per_million``: Novas mortes por milhão\n",
        "\n",
        "``new_deaths_smoothed_per_million``: Novas mortes por milhão com suavização de 7-dias\n",
        "\n",
        "``reproduction_rate``: Estimativa em tempo real da taxa de reprodução efetiva (R) da COVID-19.\n",
        "\n",
        "``icu_patients``: Número de pacientes COVID-19 em unidades de terapia intensiva (UTIs) no mesmo dia\n",
        "\n",
        "``icu_patients_per_million``: Número de pacientes COVID-19 em unidades de terapia intensiva (UTIs) no mesmo dia, por milhão.\n",
        "\n",
        "``hosp_patients``: Número de pacientes da COVID-19 no hospital em um determinado dia.\n",
        "\n",
        "``hosp_patients_per_million``: Número de pacientes da COVID-19 no hospital em um determinado dia, por milhão.\n",
        "\n",
        "``weekly_icu_admissions``: Número de pacientes COVID-19 recém admitidos em unidades de terapia intensiva (UTIs) na mesma semana.\n",
        "\n",
        "``weekly_icu_admissions_per_million`` Número de pacientes COVID-19 recém admitidos em unidades de terapia intensiva (UTIs) na mesma semana, por milhão.\n",
        "\n",
        "``weekly_hosp_admissions``:\tNúmero de pacientes COVID-19 recém admitidos em hospitais na mesma semana\n",
        "\n",
        "``weekly_hosp_admissions_per_million``:\tNúmero de pacientes COVID-19 recém admitidos em hospitais na mesma semana, por milhão. \n",
        "\n",
        "``total_tests``: Total de teste de COVID-19 realizados\n",
        "\n",
        "``new_tests``: Novos testes para a COVID-19 (apenas calculados para dias consecutivos)\n",
        "\n",
        "``total_tests_per_thousand``: Total de testes por mil\n",
        "\n",
        "``new_tests_per_thousand``Novos testes de COVID-19 por mil\n",
        "\n",
        "``new_tests_smoothed``: Novos testes para COVID-19, suavizado.\n",
        "\n",
        "``new_tests_smoothed_per_thousand``: Novos testes para COVID-19, suavizados, por mil.\n",
        "\n",
        "``positive_rate``: A parte dos testes de COVID-19 que são positivos, dada como média móvel de 7 dias.\n",
        "\n",
        "``tests_per_case``: Testes realizados por novo caso confirmado de COVID-19, dado como uma média móvel de 7 dias.\n",
        "\n",
        "``tests_units``: Tipos de unidades usadas pelo local para relatar seus dados de teste\n",
        "\n",
        "``total_vaccinations``: Número total de doses de vacinação COVID-19 administradas\n",
        "\n",
        "``people_vaccinated``: Número total de pessoas que receberam pelo menos uma dose de vacina\n",
        "\n",
        "``people_fully_vaccinated``: Número total de pessoas que receberam todas as doses prescritas pelo protocolo de vacinação\n",
        "\n",
        "``new_vaccinations``: Novas doses de vacinação COVID-19 administradas (calculadas apenas para dias consecutivos)\n",
        "\n",
        "``new_vaccinations_smoothed``: Novas doses de vacinação COVID-19 administradas (7 dias de suvização).\n",
        "\n",
        "``total_vaccinations_per_hundred``: Número total de doses de vacinação COVID-19 administradas por 100 pessoas na população total\n",
        "\n",
        "``people_vaccinated_per_hundred``: Número total de pessoas que receberam pelo menos uma dose de vacina por 100 pessoas na população total\n",
        "\n",
        "``people_fully_vaccinated_per_hundred``: Número total de pessoas que receberam todas as doses prescritas pelo protocolo de vacinação por 100 pessoas na população total\n",
        "\n",
        "``new_vaccinations_smoothed_per_million``: Novas doses de vacinação COVID-19 administradas (suavizadas em 7 dias) por milhão de pessoas na população total\n",
        "\n",
        "``stringency_index``: Índice de Restrição de Resposta do Governo: medida composta com base em 9 indicadores de resposta (fechamentos de escolas, fechamentos de locais de trabalho e proibições de viagens, etc) valores de 0 a 100 (100 = resposta mais estrita)\n",
        "\n",
        "``population``: População em 2020\n",
        "\n",
        "``population_density``: Densidade populacional(Número de pessoas dividido por área, medido em quilômetros quadrados)\n",
        "\n",
        "``median_age``:Idade média da população\n",
        "\n",
        "``aged_65_older``: Parcela da população com 65 anos ou mais\n",
        "\n",
        "``aged_70_older``: Parcela da população com 70 anos ou mais em 2015\n",
        "\n",
        "``gdp_per_capita``: Produto interno bruto em paridade de poder de compra\n",
        "\n",
        "``extreme_poverty``: Parcela da população que vive em pobreza extrema, ano mais recente disponível desde 2010\n",
        "\n",
        "``cardiovasc_death_rate``: Taxa de mortalidade por doenças cardiovasculares em 2017 \n",
        "\n",
        "``diabetes_prevalence``: Prevalência de diabetes (% da população de 20 a 79 anos) em 2017\n",
        "\n",
        "``female_smokers``: Parcela de mulheres que fumam, ano mais recente disponível\n",
        "\n",
        "``male_smokers``: Parcela de homens que fumam, ano mais recente disponível\n",
        "\n",
        "``handwashing_facilities``: Parcela da população com instalações básicas para lavagem das mãos no local\n",
        "\n",
        "``hospital_beds_per_thousand``: Leitos hospitalares por 1.000 pessoas, ano mais recente disponível desde 2010\n",
        "\n",
        "``life_expectancy``: Expectativa de vida ao nascer em 2019\n",
        "\n",
        "``human_development_index``: Indice de desenvolvimento humano"
      ]
    },
    {
      "cell_type": "markdown",
      "metadata": {
        "id": "Ro-qaflFQLV8"
      },
      "source": [
        "###Tratamento dos Dados"
      ]
    },
    {
      "cell_type": "markdown",
      "metadata": {
        "id": "3LrgfhbaQnU8"
      },
      "source": [
        "\n",
        "\n",
        "> O dataset possue muitos dados, o que é bom para uma analise bem fundamentada e geração de insights, porém é importante resaltar se todas essas linhas estão prenchidas.\n",
        "\n",
        "\n"
      ]
    },
    {
      "cell_type": "code",
      "metadata": {
        "id": "jvVCTSulacyg",
        "colab": {
          "base_uri": "https://localhost:8080/"
        },
        "outputId": "1666bacb-4b65-4349-fa8e-8a763157caa9"
      },
      "source": [
        "df.shape"
      ],
      "execution_count": 7,
      "outputs": [
        {
          "output_type": "execute_result",
          "data": {
            "text/plain": [
              "(105229, 59)"
            ]
          },
          "metadata": {
            "tags": []
          },
          "execution_count": 7
        }
      ]
    },
    {
      "cell_type": "markdown",
      "metadata": {
        "id": "aP0CU3A6IC7u"
      },
      "source": [
        "\n",
        "\n",
        "> Importante analisar a porcentagem de valores nulos do dataset, neste exemplo é possível ver que algumas colunas chegam a ter níveis muito altos de valores NaN, para nossa análise a melhor opção é excluí-los. \n",
        "\n"
      ]
    },
    {
      "cell_type": "code",
      "metadata": {
        "id": "qZ7bJeUm-E6h",
        "colab": {
          "base_uri": "https://localhost:8080/"
        },
        "outputId": "d86dbd38-3770-4378-c2c3-26eae98e55fb"
      },
      "source": [
        "#Chegado porcentagem de elementos nulos\n",
        "#df.isnull().sum()/df.shape[0]*100\n",
        "(df.isnull().sum()/df.shape[0]*100).sort_values(ascending=False)"
      ],
      "execution_count": 8,
      "outputs": [
        {
          "output_type": "execute_result",
          "data": {
            "text/plain": [
              "weekly_icu_admissions                    99.082002\n",
              "weekly_icu_admissions_per_million        99.082002\n",
              "weekly_hosp_admissions                   98.365470\n",
              "weekly_hosp_admissions_per_million       98.365470\n",
              "excess_mortality                         96.511418\n",
              "icu_patients                             89.682502\n",
              "icu_patients_per_million                 89.682502\n",
              "hosp_patients                            87.538606\n",
              "hosp_patients_per_million                87.538606\n",
              "people_fully_vaccinated_per_hundred      85.087761\n",
              "people_fully_vaccinated                  85.087761\n",
              "new_vaccinations                         84.582197\n",
              "people_vaccinated                        82.305258\n",
              "people_vaccinated_per_hundred            82.305258\n",
              "total_vaccinations_per_hundred           81.483241\n",
              "total_vaccinations                       81.483241\n",
              "new_vaccinations_smoothed_per_million    67.753186\n",
              "new_vaccinations_smoothed                67.753186\n",
              "total_tests                              55.690922\n",
              "total_tests_per_thousand                 55.690922\n",
              "new_tests_per_thousand                   55.401078\n",
              "new_tests                                55.401078\n",
              "handwashing_facilities                   55.076072\n",
              "tests_per_case                           51.890639\n",
              "positive_rate                            51.290044\n",
              "new_tests_smoothed                       47.865132\n",
              "new_tests_smoothed_per_thousand          47.865132\n",
              "tests_units                              46.201142\n",
              "extreme_poverty                          39.726691\n",
              "male_smokers                             31.104543\n",
              "female_smokers                           30.082012\n",
              "reproduction_rate                        19.397695\n",
              "hospital_beds_per_thousand               18.575678\n",
              "stringency_index                         16.306341\n",
              "total_deaths_per_million                 14.304992\n",
              "new_deaths_per_million                   14.157694\n",
              "total_deaths                             13.807981\n",
              "new_deaths                               13.660683\n",
              "aged_65_older                            11.897861\n",
              "aged_70_older                            11.391346\n",
              "median_age                               10.900037\n",
              "cardiovasc_death_rate                    10.561727\n",
              "gdp_per_capita                           10.519914\n",
              "human_development_index                  10.449591\n",
              "diabetes_prevalence                       8.153646\n",
              "population_density                        7.177679\n",
              "new_deaths_smoothed_per_million           5.480428\n",
              "new_cases_smoothed_per_million            5.480428\n",
              "life_expectancy                           5.063243\n",
              "new_cases_smoothed                        4.975815\n",
              "new_deaths_smoothed                       4.975815\n",
              "continent                                 4.650809\n",
              "new_cases_per_million                     4.525368\n",
              "total_cases_per_million                   4.522518\n",
              "new_cases                                 4.016003\n",
              "total_cases                               4.013152\n",
              "population                                0.666166\n",
              "location                                  0.000000\n",
              "iso_code                                  0.000000\n",
              "dtype: float64"
            ]
          },
          "metadata": {
            "tags": []
          },
          "execution_count": 8
        }
      ]
    },
    {
      "cell_type": "code",
      "metadata": {
        "colab": {
          "base_uri": "https://localhost:8080/"
        },
        "id": "VZpQqxqzm1Nn",
        "outputId": "cf8707a3-8dbd-4c33-9ad0-36d792829433"
      },
      "source": [
        "#Quantidade de valores nulos em cada tabela\n",
        "df.isnull().sum()"
      ],
      "execution_count": 9,
      "outputs": [
        {
          "output_type": "execute_result",
          "data": {
            "text/plain": [
              "iso_code                                      0\n",
              "continent                                  4894\n",
              "location                                      0\n",
              "total_cases                                4223\n",
              "new_cases                                  4226\n",
              "new_cases_smoothed                         5236\n",
              "total_deaths                              14530\n",
              "new_deaths                                14375\n",
              "new_deaths_smoothed                        5236\n",
              "total_cases_per_million                    4759\n",
              "new_cases_per_million                      4762\n",
              "new_cases_smoothed_per_million             5767\n",
              "total_deaths_per_million                  15053\n",
              "new_deaths_per_million                    14898\n",
              "new_deaths_smoothed_per_million            5767\n",
              "reproduction_rate                         20412\n",
              "icu_patients                              94372\n",
              "icu_patients_per_million                  94372\n",
              "hosp_patients                             92116\n",
              "hosp_patients_per_million                 92116\n",
              "weekly_icu_admissions                    104263\n",
              "weekly_icu_admissions_per_million        104263\n",
              "weekly_hosp_admissions                   103509\n",
              "weekly_hosp_admissions_per_million       103509\n",
              "new_tests                                 58298\n",
              "total_tests                               58603\n",
              "total_tests_per_thousand                  58603\n",
              "new_tests_per_thousand                    58298\n",
              "new_tests_smoothed                        50368\n",
              "new_tests_smoothed_per_thousand           50368\n",
              "positive_rate                             53972\n",
              "tests_per_case                            54604\n",
              "tests_units                               48617\n",
              "total_vaccinations                        85744\n",
              "people_vaccinated                         86609\n",
              "people_fully_vaccinated                   89537\n",
              "new_vaccinations                          89005\n",
              "new_vaccinations_smoothed                 71296\n",
              "total_vaccinations_per_hundred            85744\n",
              "people_vaccinated_per_hundred             86609\n",
              "people_fully_vaccinated_per_hundred       89537\n",
              "new_vaccinations_smoothed_per_million     71296\n",
              "stringency_index                          17159\n",
              "population                                  701\n",
              "population_density                         7553\n",
              "median_age                                11470\n",
              "aged_65_older                             12520\n",
              "aged_70_older                             11987\n",
              "gdp_per_capita                            11070\n",
              "extreme_poverty                           41804\n",
              "cardiovasc_death_rate                     11114\n",
              "diabetes_prevalence                        8580\n",
              "female_smokers                            31655\n",
              "male_smokers                              32731\n",
              "handwashing_facilities                    57956\n",
              "hospital_beds_per_thousand                19547\n",
              "life_expectancy                            5328\n",
              "human_development_index                   10996\n",
              "excess_mortality                         101558\n",
              "dtype: int64"
            ]
          },
          "metadata": {
            "tags": []
          },
          "execution_count": 9
        }
      ]
    },
    {
      "cell_type": "code",
      "metadata": {
        "colab": {
          "base_uri": "https://localhost:8080/"
        },
        "id": "Yz4AUFCGyKsL",
        "outputId": "892e1d04-1c4b-46ba-ee9d-aec67e03e3dd"
      },
      "source": [
        "#quantidade de linhas\n",
        "df.shape[0]"
      ],
      "execution_count": 10,
      "outputs": [
        {
          "output_type": "execute_result",
          "data": {
            "text/plain": [
              "105229"
            ]
          },
          "metadata": {
            "tags": []
          },
          "execution_count": 10
        }
      ]
    },
    {
      "cell_type": "code",
      "metadata": {
        "id": "uerpXC7ODxUF"
      },
      "source": [
        "#copiando o dataset df para df2, para poder trabalhar sem alterar o dataset original \n",
        "df2 = df"
      ],
      "execution_count": 11,
      "outputs": []
    },
    {
      "cell_type": "code",
      "metadata": {
        "id": "uceK9U5_yNhh"
      },
      "source": [
        "#Excluindo as colunas com até 90% de valores missing\n",
        "df2 = df2.dropna(thresh=int(df2.shape[0]*.1), axis=1)"
      ],
      "execution_count": 12,
      "outputs": []
    },
    {
      "cell_type": "markdown",
      "metadata": {
        "id": "XNbr32VcSO0h"
      },
      "source": [
        "\n",
        "\n",
        "> Veja que agora não temos aquelas colunas com porcentagens tão alta de valores missing\n",
        "\n"
      ]
    },
    {
      "cell_type": "code",
      "metadata": {
        "colab": {
          "base_uri": "https://localhost:8080/"
        },
        "id": "ucKolIz5Btf9",
        "outputId": "5d302647-758e-4075-cdc8-8672720c3f24"
      },
      "source": [
        "df2.isnull().sum()/df.shape[0]*100"
      ],
      "execution_count": 13,
      "outputs": [
        {
          "output_type": "execute_result",
          "data": {
            "text/plain": [
              "iso_code                                  0.000000\n",
              "continent                                 4.650809\n",
              "location                                  0.000000\n",
              "total_cases                               4.013152\n",
              "new_cases                                 4.016003\n",
              "new_cases_smoothed                        4.975815\n",
              "total_deaths                             13.807981\n",
              "new_deaths                               13.660683\n",
              "new_deaths_smoothed                       4.975815\n",
              "total_cases_per_million                   4.522518\n",
              "new_cases_per_million                     4.525368\n",
              "new_cases_smoothed_per_million            5.480428\n",
              "total_deaths_per_million                 14.304992\n",
              "new_deaths_per_million                   14.157694\n",
              "new_deaths_smoothed_per_million           5.480428\n",
              "reproduction_rate                        19.397695\n",
              "icu_patients                             89.682502\n",
              "icu_patients_per_million                 89.682502\n",
              "hosp_patients                            87.538606\n",
              "hosp_patients_per_million                87.538606\n",
              "new_tests                                55.401078\n",
              "total_tests                              55.690922\n",
              "total_tests_per_thousand                 55.690922\n",
              "new_tests_per_thousand                   55.401078\n",
              "new_tests_smoothed                       47.865132\n",
              "new_tests_smoothed_per_thousand          47.865132\n",
              "positive_rate                            51.290044\n",
              "tests_per_case                           51.890639\n",
              "tests_units                              46.201142\n",
              "total_vaccinations                       81.483241\n",
              "people_vaccinated                        82.305258\n",
              "people_fully_vaccinated                  85.087761\n",
              "new_vaccinations                         84.582197\n",
              "new_vaccinations_smoothed                67.753186\n",
              "total_vaccinations_per_hundred           81.483241\n",
              "people_vaccinated_per_hundred            82.305258\n",
              "people_fully_vaccinated_per_hundred      85.087761\n",
              "new_vaccinations_smoothed_per_million    67.753186\n",
              "stringency_index                         16.306341\n",
              "population                                0.666166\n",
              "population_density                        7.177679\n",
              "median_age                               10.900037\n",
              "aged_65_older                            11.897861\n",
              "aged_70_older                            11.391346\n",
              "gdp_per_capita                           10.519914\n",
              "extreme_poverty                          39.726691\n",
              "cardiovasc_death_rate                    10.561727\n",
              "diabetes_prevalence                       8.153646\n",
              "female_smokers                           30.082012\n",
              "male_smokers                             31.104543\n",
              "handwashing_facilities                   55.076072\n",
              "hospital_beds_per_thousand               18.575678\n",
              "life_expectancy                           5.063243\n",
              "human_development_index                  10.449591\n",
              "dtype: float64"
            ]
          },
          "metadata": {
            "tags": []
          },
          "execution_count": 13
        }
      ]
    },
    {
      "cell_type": "markdown",
      "metadata": {
        "id": "CdKoWncwG4hE"
      },
      "source": [
        "###Análise Exploratória\n"
      ]
    },
    {
      "cell_type": "markdown",
      "metadata": {
        "id": "qo4Ix7MRprbl"
      },
      "source": [
        "#### 5 Paises com maior número de mortes\n",
        "Valor atualizado no dia \"2021-07-04\"(EUA format). \n",
        "\n",
        "A coluna ``locations`` mostra os continentes Europa, Africa, etc porém não queremos ver continentes e sim países então no código acima filtramos todos os continentes permanecendo somente os paises.\n",
        "\n",
        "`top5_Countries` irá mostrar os PAISES com maior número de mortes.\n",
        "\n"
      ]
    },
    {
      "cell_type": "code",
      "metadata": {
        "id": "1d9cBny23g5C",
        "cellView": "form"
      },
      "source": [
        "#@title\n",
        "#gráfico de barras paras os 5 paises com maior número de mortos\n",
        "\n",
        "top5_Countries = df2.loc[(df.index == \"2021-07-04\") & (df.location!=\"World\") & (df.location!=\"North America\") & (df.location!='South America') &\n",
        "                          (df.location!='Europe') & (df.location!='Africa') & (df.location!=\"Asia\") & (df['location']!=\"European Union\"),\n",
        "                         ['location', 'total_deaths']].sort_values(by='total_deaths', ascending=False)[0:5]\n"
      ],
      "execution_count": 14,
      "outputs": []
    },
    {
      "cell_type": "code",
      "metadata": {
        "colab": {
          "base_uri": "https://localhost:8080/",
          "height": 265
        },
        "id": "wfhwRXYrIajV",
        "outputId": "8427608d-6438-41d3-f398-f6422ccce2ea"
      },
      "source": [
        "#maior número de mortes acumulado por país\n",
        "plt.bar('location', 'total_deaths', data=top5_Countries)\n",
        "plt.show()"
      ],
      "execution_count": 15,
      "outputs": [
        {
          "output_type": "display_data",
          "data": {
            "image/png": "[encoded data removed]",
            "text/plain": [
              "<Figure size 432x288 with 1 Axes>"
            ]
          },
          "metadata": {
            "tags": [],
            "needs_background": "light"
          }
        }
      ]
    },
    {
      "cell_type": "markdown",
      "metadata": {
        "id": "SLYuA_K0qqzF"
      },
      "source": [
        "Os 5 maiores valores de `locations` mostra o número de mortes se encontra nos continentes da Europa e America do Sul, o que faz total sentido já que os grupos são na verdade um conjunto de vários paises."
      ]
    },
    {
      "cell_type": "code",
      "metadata": {
        "id": "YtC1GYJXn_NL"
      },
      "source": [
        "top5_locations = df2.loc[df.index == \"2021-07-04\", ['location', 'total_deaths']].sort_values(by='total_deaths', ascending=False)[1:6]"
      ],
      "execution_count": 16,
      "outputs": []
    },
    {
      "cell_type": "code",
      "metadata": {
        "id": "qNNvGdg2LLbF",
        "colab": {
          "base_uri": "https://localhost:8080/",
          "height": 360
        },
        "outputId": "f5390660-e777-405b-e54a-0f2dd711929e"
      },
      "source": [
        "top5_locations.plot(kind=\"bar\", x='location', y='total_deaths')\n",
        "plt.show()"
      ],
      "execution_count": 17,
      "outputs": [
        {
          "output_type": "display_data",
          "data": {
            "image/png": "[encoded data removed]",
            "text/plain": [
              "<Figure size 432x288 with 1 Axes>"
            ]
          },
          "metadata": {
            "tags": [],
            "needs_background": "light"
          }
        }
      ]
    },
    {
      "cell_type": "markdown",
      "metadata": {
        "id": "l_P0u0iBmqJV"
      },
      "source": [
        "#### Fumantes e número de mortes\n",
        "Analisando a relação de pessoas fumantes e o número de mortes vemos que na verdade não existe uma correlação muito forte, na análise gráfica vemos que o sexo masculino possue uma corelaão maior que o publico feminino porém nada conclusivo. "
      ]
    },
    {
      "cell_type": "code",
      "metadata": {
        "id": "G3uCf5YiQEy2",
        "colab": {
          "base_uri": "https://localhost:8080/",
          "height": 236
        },
        "outputId": "b8379bbb-26b2-4eef-daff-60c25a489d30"
      },
      "source": [
        "#Pegando a data mais recente juntamente com os valores NÃO nulos de fumantes(ambos os sexos) e ordenando por mortes por milhão\n",
        "df_fumo = df2.loc[(df2.index == \"2021-07-04\") & (df2['male_smokers'].isna() == False) & (df2['female_smokers'].isna() == False) \n",
        "& (df2['total_deaths_per_million'] >= 0),['male_smokers', 'female_smokers', 'total_deaths_per_million']].sort_values(by='total_deaths_per_million', ascending=False)[0:]\n",
        "\n",
        "df_fumo.head()"
      ],
      "execution_count": 18,
      "outputs": [
        {
          "output_type": "execute_result",
          "data": {
            "text/html": [
              "<div>\n",
              "<style scoped>\n",
              "    .dataframe tbody tr th:only-of-type {\n",
              "        vertical-align: middle;\n",
              "    }\n",
              "\n",
              "    .dataframe tbody tr th {\n",
              "        vertical-align: top;\n",
              "    }\n",
              "\n",
              "    .dataframe thead th {\n",
              "        text-align: right;\n",
              "    }\n",
              "</style>\n",
              "<table border=\"1\" class=\"dataframe\">\n",
              "  <thead>\n",
              "    <tr style=\"text-align: right;\">\n",
              "      <th></th>\n",
              "      <th>male_smokers</th>\n",
              "      <th>female_smokers</th>\n",
              "      <th>total_deaths_per_million</th>\n",
              "    </tr>\n",
              "    <tr>\n",
              "      <th>date</th>\n",
              "      <th></th>\n",
              "      <th></th>\n",
              "      <th></th>\n",
              "    </tr>\n",
              "  </thead>\n",
              "  <tbody>\n",
              "    <tr>\n",
              "      <th>2021-07-04</th>\n",
              "      <td>34.8</td>\n",
              "      <td>26.8</td>\n",
              "      <td>3104.649</td>\n",
              "    </tr>\n",
              "    <tr>\n",
              "      <th>2021-07-04</th>\n",
              "      <td>47.7</td>\n",
              "      <td>30.2</td>\n",
              "      <td>2946.524</td>\n",
              "    </tr>\n",
              "    <tr>\n",
              "      <th>2021-07-04</th>\n",
              "      <td>38.3</td>\n",
              "      <td>30.5</td>\n",
              "      <td>2830.334</td>\n",
              "    </tr>\n",
              "    <tr>\n",
              "      <th>2021-07-04</th>\n",
              "      <td>44.4</td>\n",
              "      <td>30.1</td>\n",
              "      <td>2602.597</td>\n",
              "    </tr>\n",
              "    <tr>\n",
              "      <th>2021-07-04</th>\n",
              "      <td>47.9</td>\n",
              "      <td>44.0</td>\n",
              "      <td>2571.402</td>\n",
              "    </tr>\n",
              "  </tbody>\n",
              "</table>\n",
              "</div>"
            ],
            "text/plain": [
              "            male_smokers  female_smokers  total_deaths_per_million\n",
              "date                                                              \n",
              "2021-07-04          34.8            26.8                  3104.649\n",
              "2021-07-04          47.7            30.2                  2946.524\n",
              "2021-07-04          38.3            30.5                  2830.334\n",
              "2021-07-04          44.4            30.1                  2602.597\n",
              "2021-07-04          47.9            44.0                  2571.402"
            ]
          },
          "metadata": {
            "tags": []
          },
          "execution_count": 18
        }
      ]
    },
    {
      "cell_type": "code",
      "metadata": {
        "colab": {
          "base_uri": "https://localhost:8080/",
          "height": 279
        },
        "id": "PQduBC4OBvL4",
        "cellView": "form",
        "outputId": "8aa36ebb-4088-4870-e2eb-e29d285547d2"
      },
      "source": [
        "#@title\n",
        "fig, (ax1, ax2) = plt.subplots(nrows=1, ncols=2, figsize=(14,4))\n",
        "plt.subplot(1,2,1)\n",
        "plt.scatter(df_fumo.total_deaths_per_million, df_fumo.male_smokers)\n",
        "plt.ylabel('porcentagem de fumantes (feminino)')\n",
        "plt.xlabel('total de mortes por milhão')\n",
        "\n",
        "plt.subplot(1,2,2)\n",
        "plt.scatter(df_fumo.total_deaths_per_million, df_fumo.female_smokers)\n",
        "plt.ylabel('porcentagem de fumantes (masculino)')\n",
        "plt.xlabel('total de mortes por milhão')\n",
        "\n",
        "plt.show()"
      ],
      "execution_count": 19,
      "outputs": [
        {
          "output_type": "display_data",
          "data": {
            "image/png": "[encoded data removed]",
            "text/plain": [
              "<Figure size 1008x288 with 2 Axes>"
            ]
          },
          "metadata": {
            "tags": [],
            "needs_background": "light"
          }
        }
      ]
    },
    {
      "cell_type": "markdown",
      "metadata": {
        "id": "zWjYnWTtT00K"
      },
      "source": [
        "#### Renda per capita VS total de casos\n",
        "Relacionar a renda per capita com o total de casos, a fim de indetificar a contaminação é diferente em paises ricos e pobres.\n",
        "\n",
        "Como é possivel visualizar no gráfico ordenado por renda,a relação da renda per capita com total de casos é de que maioria dos casos, mesmo não sendo muitos, se concentram nos países de renda per capita baixa. Para que essa relação tenha valor também fazemos a relação de total de casos com IDH(indice de desenvolvimento humano) "
      ]
    },
    {
      "cell_type": "markdown",
      "metadata": {
        "id": "FSM8Xqch8VJa"
      },
      "source": [
        "####Renda per capita vs Total de casos"
      ]
    },
    {
      "cell_type": "code",
      "metadata": {
        "colab": {
          "base_uri": "https://localhost:8080/"
        },
        "id": "nqETwmMYTrqi",
        "outputId": "178ef053-d344-4a92-d0a7-8596af50275a"
      },
      "source": [
        "#ordenado do 2 elemento para frente, uma vez que o primeiro na lista é o Word e não queremos ver o mundo\n",
        "#e sim as partes dele.\n",
        "df_renda = df2.loc[(df2.index == \"2021-07-04\") & (df2['gdp_per_capita'].isna() == False) \n",
        "& (df2['total_cases_per_million'] >= 0),['location', 'gdp_per_capita', 'total_cases_per_million']].sort_values(by='gdp_per_capita', ascending=False)[0:]\n",
        "print(\"Renda: \\n\", df_renda)"
      ],
      "execution_count": 20,
      "outputs": [
        {
          "output_type": "stream",
          "text": [
            "Renda: \n",
            "                                 location  ...  total_cases_per_million\n",
            "date                                      ...                         \n",
            "2021-07-04                         Qatar  ...                77254.205\n",
            "2021-07-04                    Luxembourg  ...               113472.401\n",
            "2021-07-04                     Singapore  ...                10703.133\n",
            "2021-07-04                        Brunei  ...                  598.880\n",
            "2021-07-04                       Ireland  ...                55552.315\n",
            "...                                  ...  ...                      ...\n",
            "2021-07-04                         Niger  ...                  227.458\n",
            "2021-07-04  Democratic Republic of Congo  ...                  470.973\n",
            "2021-07-04                       Liberia  ...                  893.691\n",
            "2021-07-04                       Burundi  ...                  462.039\n",
            "2021-07-04      Central African Republic  ...                 1478.540\n",
            "\n",
            "[185 rows x 3 columns]\n"
          ],
          "name": "stdout"
        }
      ]
    },
    {
      "cell_type": "code",
      "metadata": {
        "id": "dleDtQnXJ005"
      },
      "source": [
        "#pegando somente os dados do array\n",
        "df_Rarray = df_renda.values"
      ],
      "execution_count": 21,
      "outputs": []
    },
    {
      "cell_type": "code",
      "metadata": {
        "id": "-pi-V1wfpDe0",
        "cellView": "form"
      },
      "source": [
        "#@title\n",
        "#normalização do array de renda\n",
        "Rnormalized1 = (df_Rarray[:,1] - min(df_Rarray[:,1])) / (max(df_Rarray[:,1]) - min(df_Rarray[:,1]))\n",
        "Rnormalized2 = (df_Rarray[:,2] - min(df_Rarray[:,2])) / (max(df_Rarray[:,2]) - min(df_Rarray[:,2]))"
      ],
      "execution_count": 22,
      "outputs": []
    },
    {
      "cell_type": "code",
      "metadata": {
        "id": "mr_X9kvKhjLT",
        "colab": {
          "base_uri": "https://localhost:8080/"
        },
        "cellView": "form",
        "outputId": "1006fff6-ae5a-4736-b99b-e704ddd365eb"
      },
      "source": [
        "#@title\n",
        "df01 = pd.DataFrame(df_Rarray[:,0])\n",
        "df02 = pd.DataFrame(Rnormalized1)\n",
        "df03 = pd.DataFrame(Rnormalized2)\n",
        "dfR_unido = pd.concat([df01, df02, df03], axis=1, join='inner')\n",
        "dfR_unido.set_axis(['pais', 'renda per capita', 'total de casos'], axis=1, inplace=True)\n",
        "print(dfR_unido)"
      ],
      "execution_count": 23,
      "outputs": [
        {
          "output_type": "stream",
          "text": [
            "                             pais renda per capita total de casos\n",
            "0                           Qatar                1       0.479078\n",
            "1                      Luxembourg         0.805136       0.703704\n",
            "2                       Singapore         0.729947       0.066328\n",
            "3                          Brunei         0.611898     0.00366141\n",
            "4                         Ireland          0.57342       0.344483\n",
            "..                            ...              ...            ...\n",
            "180                         Niger       0.00227703     0.00135785\n",
            "181  Democratic Republic of Congo       0.00126333     0.00286813\n",
            "182                       Liberia      0.000787345     0.00548983\n",
            "183                       Burundi      0.000352485     0.00281272\n",
            "184      Central African Republic                0     0.00911707\n",
            "\n",
            "[185 rows x 3 columns]\n"
          ],
          "name": "stdout"
        }
      ]
    },
    {
      "cell_type": "code",
      "metadata": {
        "colab": {
          "base_uri": "https://localhost:8080/",
          "height": 279
        },
        "id": "3B5IOpZ2WLbz",
        "outputId": "5cf2cd4e-61ea-48bd-ae43-8657bd7940e8"
      },
      "source": [
        "#@title\n",
        "labels = dfR_unido.pais\n",
        "y1 = dfR_unido['renda per capita']\n",
        "y2 = dfR_unido['total de casos']\n",
        "\n",
        "fig, ax1 = plt.subplots(nrows=1, ncols=1, figsize=(14,4))\n",
        "plt.subplot(1,2,1)\n",
        "plt.scatter(y1, y2)\n",
        "plt.ylabel('renda per capita')\n",
        "plt.xlabel('total de casos por milhão')\n",
        "\n",
        "\n",
        "plt.show()"
      ],
      "execution_count": 24,
      "outputs": [
        {
          "output_type": "display_data",
          "data": {
            "image/png": "[encoded data removed]",
            "text/plain": [
              "<Figure size 1008x288 with 1 Axes>"
            ]
          },
          "metadata": {
            "tags": [],
            "needs_background": "light"
          }
        }
      ]
    },
    {
      "cell_type": "markdown",
      "metadata": {
        "id": "OI60TWk98Qic"
      },
      "source": [
        "####IDH vs Total de casos"
      ]
    },
    {
      "cell_type": "code",
      "metadata": {
        "colab": {
          "base_uri": "https://localhost:8080/",
          "height": 454
        },
        "id": "R9qea3h_j69i",
        "outputId": "ba07fcf9-2e3c-469d-db2d-065762a76f7a"
      },
      "source": [
        "#filtrando com loc o IDH e totl de casos p/ milhão\n",
        "df_idh = df2.loc[(df2.index == \"2021-07-04\") & (df2['human_development_index'].isna() == False) \n",
        "& (df2['total_cases_per_million'] >= 0),['location', 'human_development_index', 'total_cases_per_million']].sort_values(by='human_development_index', ascending=False)[1:]\n",
        "df_idh"
      ],
      "execution_count": 25,
      "outputs": [
        {
          "output_type": "execute_result",
          "data": {
            "text/html": [
              "<div>\n",
              "<style scoped>\n",
              "    .dataframe tbody tr th:only-of-type {\n",
              "        vertical-align: middle;\n",
              "    }\n",
              "\n",
              "    .dataframe tbody tr th {\n",
              "        vertical-align: top;\n",
              "    }\n",
              "\n",
              "    .dataframe thead th {\n",
              "        text-align: right;\n",
              "    }\n",
              "</style>\n",
              "<table border=\"1\" class=\"dataframe\">\n",
              "  <thead>\n",
              "    <tr style=\"text-align: right;\">\n",
              "      <th></th>\n",
              "      <th>location</th>\n",
              "      <th>human_development_index</th>\n",
              "      <th>total_cases_per_million</th>\n",
              "    </tr>\n",
              "    <tr>\n",
              "      <th>date</th>\n",
              "      <th></th>\n",
              "      <th></th>\n",
              "      <th></th>\n",
              "    </tr>\n",
              "  </thead>\n",
              "  <tbody>\n",
              "    <tr>\n",
              "      <th>2021-07-04</th>\n",
              "      <td>Ireland</td>\n",
              "      <td>0.955</td>\n",
              "      <td>55552.315</td>\n",
              "    </tr>\n",
              "    <tr>\n",
              "      <th>2021-07-04</th>\n",
              "      <td>Switzerland</td>\n",
              "      <td>0.955</td>\n",
              "      <td>81266.903</td>\n",
              "    </tr>\n",
              "    <tr>\n",
              "      <th>2021-07-04</th>\n",
              "      <td>Hong Kong</td>\n",
              "      <td>0.949</td>\n",
              "      <td>1592.906</td>\n",
              "    </tr>\n",
              "    <tr>\n",
              "      <th>2021-07-04</th>\n",
              "      <td>Iceland</td>\n",
              "      <td>0.949</td>\n",
              "      <td>19498.901</td>\n",
              "    </tr>\n",
              "    <tr>\n",
              "      <th>2021-07-04</th>\n",
              "      <td>Germany</td>\n",
              "      <td>0.947</td>\n",
              "      <td>44620.363</td>\n",
              "    </tr>\n",
              "    <tr>\n",
              "      <th>...</th>\n",
              "      <td>...</td>\n",
              "      <td>...</td>\n",
              "      <td>...</td>\n",
              "    </tr>\n",
              "    <tr>\n",
              "      <th>2021-07-04</th>\n",
              "      <td>Burundi</td>\n",
              "      <td>0.433</td>\n",
              "      <td>462.039</td>\n",
              "    </tr>\n",
              "    <tr>\n",
              "      <th>2021-07-04</th>\n",
              "      <td>South Sudan</td>\n",
              "      <td>0.433</td>\n",
              "      <td>970.722</td>\n",
              "    </tr>\n",
              "    <tr>\n",
              "      <th>2021-07-04</th>\n",
              "      <td>Chad</td>\n",
              "      <td>0.398</td>\n",
              "      <td>301.415</td>\n",
              "    </tr>\n",
              "    <tr>\n",
              "      <th>2021-07-04</th>\n",
              "      <td>Central African Republic</td>\n",
              "      <td>0.397</td>\n",
              "      <td>1478.540</td>\n",
              "    </tr>\n",
              "    <tr>\n",
              "      <th>2021-07-04</th>\n",
              "      <td>Niger</td>\n",
              "      <td>0.394</td>\n",
              "      <td>227.458</td>\n",
              "    </tr>\n",
              "  </tbody>\n",
              "</table>\n",
              "<p>186 rows × 3 columns</p>\n",
              "</div>"
            ],
            "text/plain": [
              "                            location  ...  total_cases_per_million\n",
              "date                                  ...                         \n",
              "2021-07-04                   Ireland  ...                55552.315\n",
              "2021-07-04               Switzerland  ...                81266.903\n",
              "2021-07-04                 Hong Kong  ...                 1592.906\n",
              "2021-07-04                   Iceland  ...                19498.901\n",
              "2021-07-04                   Germany  ...                44620.363\n",
              "...                              ...  ...                      ...\n",
              "2021-07-04                   Burundi  ...                  462.039\n",
              "2021-07-04               South Sudan  ...                  970.722\n",
              "2021-07-04                      Chad  ...                  301.415\n",
              "2021-07-04  Central African Republic  ...                 1478.540\n",
              "2021-07-04                     Niger  ...                  227.458\n",
              "\n",
              "[186 rows x 3 columns]"
            ]
          },
          "metadata": {
            "tags": []
          },
          "execution_count": 25
        }
      ]
    },
    {
      "cell_type": "code",
      "metadata": {
        "id": "4KfUXJHXm7Oh"
      },
      "source": [
        "#pegando somente os dados do array\n",
        "df_Iarray = df_idh.values"
      ],
      "execution_count": 26,
      "outputs": []
    },
    {
      "cell_type": "code",
      "metadata": {
        "id": "Eun7e-OMonaw"
      },
      "source": [
        "#normalização do array de IDH e casos por milhão\n",
        "Inormalized1 = (df_Iarray[:,1] - min(df_Iarray[:,1])) / (max(df_Iarray[:,1]) - min(df_Iarray[:,1]))\n",
        "Inormalized2 = (df_Iarray[:,2] - min(df_Iarray[:,2])) / (max(df_Iarray[:,2]) - min(df_Iarray[:,2]))"
      ],
      "execution_count": 27,
      "outputs": []
    },
    {
      "cell_type": "code",
      "metadata": {
        "colab": {
          "base_uri": "https://localhost:8080/"
        },
        "id": "U12J1t0-ow3Q",
        "outputId": "aecc6a61-ae2d-4d02-b41b-fa08584f5be9"
      },
      "source": [
        "#Unindo em um único array os dados normalizados com os nomes\n",
        "df01 = pd.DataFrame(df_Iarray[:,0])\n",
        "df02 = pd.DataFrame(Inormalized1)\n",
        "df03 = pd.DataFrame(Inormalized2)\n",
        "dfI_unido = pd.concat([df01, df02, df03], axis=1, join='inner')\n",
        "dfI_unido.set_axis(['pais', 'IDH', 'total de casos por milhão'], axis=1, inplace=True)\n",
        "print(dfI_unido)"
      ],
      "execution_count": 28,
      "outputs": [
        {
          "output_type": "stream",
          "text": [
            "                         pais         IDH total de casos por milhão\n",
            "0                     Ireland           1                  0.308363\n",
            "1                 Switzerland           1                  0.451123\n",
            "2                   Hong Kong    0.989305                0.00879604\n",
            "3                     Iceland    0.989305                  0.108205\n",
            "4                     Germany     0.98574                  0.247672\n",
            "..                        ...         ...                       ...\n",
            "181                   Burundi   0.0695187                 0.0025178\n",
            "182               South Sudan   0.0695187                0.00534186\n",
            "183                      Chad  0.00713012                0.00162606\n",
            "184  Central African Republic  0.00534759                0.00816111\n",
            "185                     Niger           0                0.00121547\n",
            "\n",
            "[186 rows x 3 columns]\n"
          ],
          "name": "stdout"
        }
      ]
    },
    {
      "cell_type": "code",
      "metadata": {
        "colab": {
          "base_uri": "https://localhost:8080/",
          "height": 279
        },
        "id": "HCfTS3Wqo58Q",
        "outputId": "aa973e61-5198-44e7-9179-4ccbd7d73092"
      },
      "source": [
        "#@title\n",
        "#plotando o gráfico\n",
        "labels = dfI_unido.pais\n",
        "y1 = dfI_unido['IDH']\n",
        "y2 = dfI_unido['total de casos por milhão']\n",
        "\n",
        "fig, ax1 = plt.subplots(nrows=1, ncols=1, figsize=(14,4))\n",
        "plt.subplot(1,2,1)\n",
        "plt.scatter(y1, y2)\n",
        "plt.ylabel('IDH')\n",
        "plt.xlabel('total de casos por milhão')\n",
        "\n",
        "\n",
        "plt.show()"
      ],
      "execution_count": 29,
      "outputs": [
        {
          "output_type": "display_data",
          "data": {
            "image/png": "[encoded data removed]",
            "text/plain": [
              "<Figure size 1008x288 with 1 Axes>"
            ]
          },
          "metadata": {
            "tags": [],
            "needs_background": "light"
          }
        }
      ]
    },
    {
      "cell_type": "markdown",
      "metadata": {
        "id": "9cFg89hOt6U5"
      },
      "source": [
        "Os dados de  total de casos mostram que paises com IDH maior possuem uma alta taxa de casos registrados, já os paises com IDH baixo tem menos casos registrados.  Existem vários fatores que podem fazer isso acontecer e analisar somente a relação entre duas variáveis é algo muito superfluo para se ter uma conclução. Alguns desses fatores só pode ser observado por quem vive o dia a dia no local que é algo não perceptivel apenas analisando dados. Uma hipótese formulada pelo autor é de que os paises com IDH mais alto possuem uma melhor estrutura para coletar dados de forma mais precisa, além de ter uma contagem populacional e de infectados mais exata, em comparação com os paises de IDH baixo, da tal são economicamente mais pobres. "
      ]
    },
    {
      "cell_type": "markdown",
      "metadata": {
        "id": "0UDYl7Sn8p9q"
      },
      "source": [
        "####Evolução do total de casos no mundo"
      ]
    },
    {
      "cell_type": "code",
      "metadata": {
        "id": "hbc3VYiJpnpA"
      },
      "source": [
        "df_casos_mundo = df2.loc[(df2.location == 'World')\n",
        "& (df2['total_cases'] >= 0),['location', 'total_cases']].sort_values(by='total_cases', ascending=False)"
      ],
      "execution_count": 30,
      "outputs": []
    },
    {
      "cell_type": "code",
      "metadata": {
        "colab": {
          "base_uri": "https://localhost:8080/",
          "height": 297
        },
        "id": "ufwgkcpPWIy0",
        "outputId": "7cd6381a-a68e-4961-ca49-8a3641c10dc0"
      },
      "source": [
        "#@title\n",
        "fig, ax = plt.subplots()\n",
        "\n",
        "df_casos_mundo['total_cases'].plot(kind='line', ax=ax)\n",
        "plt.xlabel('Data')\n",
        "plt.ylabel('Total de casos')\n",
        "plt.tight_layout()"
      ],
      "execution_count": 31,
      "outputs": [
        {
          "output_type": "display_data",
          "data": {
            "image/png": "[encoded data removed]",
            "text/plain": [
              "<Figure size 432x288 with 1 Axes>"
            ]
          },
          "metadata": {
            "tags": [],
            "needs_background": "light"
          }
        }
      ]
    },
    {
      "cell_type": "markdown",
      "metadata": {
        "id": "kqIdFy3XpT48"
      },
      "source": [
        "####Analise exploratória para o Brasil\n"
      ]
    },
    {
      "cell_type": "code",
      "metadata": {
        "id": "g0-8UuIldlQj"
      },
      "source": [
        "df_casos_Brasil = df2.loc[(df2.location == 'Brazil')\n",
        "& (df2['total_cases'] >= 0),['location', 'total_cases']].sort_values(by='total_cases', ascending=False)"
      ],
      "execution_count": 32,
      "outputs": []
    },
    {
      "cell_type": "code",
      "metadata": {
        "colab": {
          "base_uri": "https://localhost:8080/",
          "height": 297
        },
        "id": "wv7IfRiMyIuf",
        "outputId": "aa54423c-94d0-403a-b2ed-f4257937db2e"
      },
      "source": [
        "fig, ax = plt.subplots()\n",
        "df_casos_Brasil['total_cases'].plot(kind='line', ax=ax)\n",
        "plt.xlabel('Data')\n",
        "plt.ylabel('Total de casos')\n",
        "plt.tight_layout()"
      ],
      "execution_count": 33,
      "outputs": [
        {
          "output_type": "display_data",
          "data": {
            "image/png": "[encoded data removed]",
            "text/plain": [
              "<Figure size 432x288 with 1 Axes>"
            ]
          },
          "metadata": {
            "tags": [],
            "needs_background": "light"
          }
        }
      ]
    },
    {
      "cell_type": "markdown",
      "metadata": {
        "id": "NR4zA3_az3HV"
      },
      "source": [
        "Até 04/07/2021 o Brasil registrou 18769808.0 casos confirmados de Covid."
      ]
    },
    {
      "cell_type": "code",
      "metadata": {
        "id": "sS1V7IYn0toQ"
      },
      "source": [
        "import seaborn as sns"
      ],
      "execution_count": 34,
      "outputs": []
    },
    {
      "cell_type": "code",
      "metadata": {
        "colab": {
          "base_uri": "https://localhost:8080/"
        },
        "id": "CB7lDkrgyqAL",
        "outputId": "1e642513-4f76-43c2-8f12-f9c15023b2b1"
      },
      "source": [
        "df_casos_Brasil.loc[(df_casos_Brasil.index == \"2021-07-04\"), 'total_cases']"
      ],
      "execution_count": 35,
      "outputs": [
        {
          "output_type": "execute_result",
          "data": {
            "text/plain": [
              "date\n",
              "2021-07-04    18769808.0\n",
              "Name: total_cases, dtype: float64"
            ]
          },
          "metadata": {
            "tags": []
          },
          "execution_count": 35
        }
      ]
    },
    {
      "cell_type": "code",
      "metadata": {
        "id": "5Z8BzUrV9yP0"
      },
      "source": [
        " df_cases = df2.loc[(df.location!=\"World\") & (df.location!=\"North America\") & (df.location!='South America') &\n",
        "                          (df.location!='Europe') & (df.location!='Africa') & (df.location!=\"Asia\") & (df['location']!=\"European Union\"),\n",
        "                         ['location', 'total_cases', 'total_cases_per_million']]"
      ],
      "execution_count": 36,
      "outputs": []
    },
    {
      "cell_type": "code",
      "metadata": {
        "id": "Ia8B0dox0jEb"
      },
      "source": [
        "df_date = df_cases.reset_index()"
      ],
      "execution_count": 37,
      "outputs": []
    },
    {
      "cell_type": "markdown",
      "metadata": {
        "id": "IJlKlJ5a7FVe"
      },
      "source": [
        "Comparado ao resto do mundo o Brasil esta em terceiro lugar na contagem de casos confirmados.\n",
        "\n",
        "A India se deparou com um surto por conta de pessimas medidas tomadas em relação a pandemia. Em março,o governo Indiano chegou a afirmar que estava na \"fase final\" da pandemia de Covid-19.\n",
        "\n",
        "Uma combinação de fatores levou ao atual desastre humanitário, de acordo com o cientista Gautam Menon, em entrevista à agência Deutsche Welle.\n",
        "\n",
        "\"A negligência por parte dos cidadãos e das autoridades fez todos baixarem a guarda. Possíveis reinfecções por causa da perda de anticorpos e o surgimento de novas variantes contribuíram para o surto”, afirmou Menon."
      ]
    },
    {
      "cell_type": "code",
      "metadata": {
        "colab": {
          "base_uri": "https://localhost:8080/",
          "height": 545
        },
        "id": "1Sza50zezBTc",
        "cellView": "form",
        "outputId": "007991a1-937a-43a4-b719-9d7b135b43e8"
      },
      "source": [
        "#@title\n",
        "fig, ax = plt.subplots(figsize=(12,8))\n",
        "sns.set_style('dark')\n",
        "font = {'family': 'arial',\n",
        "        'color':  'black',\n",
        "        'weight': 'normal',\n",
        "        'size': 10}\n",
        "\n",
        "df_date.loc[df_date.location == 'Brazil'].plot('date', 'total_cases', kind='line', ax=ax, linewidth=2, legend=False)\n",
        "df_date.loc[df_date.location == 'India'].plot('date', 'total_cases', kind='line', ax=ax, color=\"lightgray\", legend=False)\n",
        "df_date.loc[df_date.location == 'Russia'].plot('date', 'total_cases', kind='line', ax=ax, color=\"lightgray\", legend=False)\n",
        "df_date.loc[df_date.location == 'France'].plot('date', 'total_cases', kind='line', ax=ax, color=\"lightgray\", legend=False)\n",
        "df_date.loc[df_date.location == 'Turkey'].plot('date', 'total_cases', kind='line', ax=ax, color=\"lightgray\", legend=False)\n",
        "df_date.loc[df_date.location == 'United States'].plot('date', 'total_cases', kind='line', ax=ax, color=\"lightgray\", legend=False)\n",
        "\n",
        "plt.text(x='2021-07-04', y=20000000, s='Brasil', fontdict=font)\n",
        "plt.text(x='2021-07-04', y=7000000, s='França', fontdict=font)\n",
        "plt.text(x='2021-07-04', y=6100000, s='Russia', fontdict=font)\n",
        "plt.text(x='2021-07-04', y=5000000, s='Turquia', fontdict=font)\n",
        "plt.text(x='2021-07-04', y=31000000, s='India', fontdict=font)\n",
        "plt.text(x='2021-07-04', y=34399900, s='United States', fontdict=font)\n",
        "\n",
        "plt.title(\"Casos confirmados de COVID-19 por milhão de habitantes\", fontsize=15)\n",
        "plt.xticks(color=\"gray\")\n",
        "plt.yticks(color=\"gray\")\n",
        "\n",
        "plt.show()"
      ],
      "execution_count": 38,
      "outputs": [
        {
          "output_type": "stream",
          "text": [
            "findfont: Font family ['arial'] not found. Falling back to DejaVu Sans.\n"
          ],
          "name": "stderr"
        },
        {
          "output_type": "display_data",
          "data": {
            "image/png": "[encoded data removed]",
            "text/plain": [
              "<Figure size 864x576 with 1 Axes>"
            ]
          },
          "metadata": {
            "tags": [],
            "needs_background": "dark"
          }
        }
      ]
    },
    {
      "cell_type": "markdown",
      "metadata": {
        "id": "ZGRj0CRAsNv3"
      },
      "source": [
        "Vamos analisar a Evolução da Vacinação no Brasil e comparar com os paises que mais vacinam"
      ]
    },
    {
      "cell_type": "code",
      "metadata": {
        "id": "Brb_qLwV82kH"
      },
      "source": [
        "df_casos_Brasil = df2.loc[(df2.location == 'Brazil')\n",
        "& (df2['total_cases'] >= 0),['location', 'total_vaccinations']].sort_values(by='total_vaccinations', ascending=False)"
      ],
      "execution_count": 39,
      "outputs": []
    },
    {
      "cell_type": "code",
      "metadata": {
        "colab": {
          "base_uri": "https://localhost:8080/",
          "height": 297
        },
        "id": "AmzkEtO9st2E",
        "outputId": "8b188501-985e-4172-bd97-4d6f32e76c0e"
      },
      "source": [
        "fig, ax = plt.subplots()\n",
        "df_casos_Brasil['total_vaccinations'].plot(kind='line', ax=ax)\n",
        "plt.xlabel('Data')\n",
        "plt.tight_layout()"
      ],
      "execution_count": 40,
      "outputs": [
        {
          "output_type": "display_data",
          "data": {
            "image/png": "[encoded data removed]",
            "text/plain": [
              "<Figure size 432x288 with 1 Axes>"
            ]
          },
          "metadata": {
            "tags": []
          }
        }
      ]
    },
    {
      "cell_type": "markdown",
      "metadata": {
        "id": "BrY8HnwJbJCE"
      },
      "source": [
        "Em relação ao total de vacinados munidalmente o Brasil se encontra em Quarta posição, apesar de não ser a ideal ainda sim está entre os 10 paises que mais vacina. Até o presente momento(20/07/2021) foram **126643283** vacinas aplicadas\n",
        "\n"
      ]
    },
    {
      "cell_type": "code",
      "metadata": {
        "id": "xRHUJW-m7Y7C"
      },
      "source": [
        " df_vacina = df2.loc[(df.location!=\"World\") & (df.location!=\"North America\") & (df.location!='South America') &\n",
        "                          (df.location!='Europe') & (df.location!='Africa') & (df.location!=\"Asia\") & (df['location']!=\"European Union\"),\n",
        "                         ['location', 'total_vaccinations']]"
      ],
      "execution_count": 41,
      "outputs": []
    },
    {
      "cell_type": "code",
      "metadata": {
        "id": "VXNpq-ka7Rrt"
      },
      "source": [
        "df_vacina.dropna(inplace=True)"
      ],
      "execution_count": 42,
      "outputs": []
    },
    {
      "cell_type": "code",
      "metadata": {
        "id": "jB8z2NVpmeLc"
      },
      "source": [
        "df_vacina = df_vacina.reset_index()"
      ],
      "execution_count": 43,
      "outputs": []
    },
    {
      "cell_type": "code",
      "metadata": {
        "colab": {
          "base_uri": "https://localhost:8080/",
          "height": 81
        },
        "id": "1jLbcgwxj8ZA",
        "outputId": "5466a70e-92c7-48c6-b45f-47018dace420"
      },
      "source": [
        "df_vacina.loc[(df_vacina.date == '2021-07-20') & (df_vacina.location == \"Brazil\"), ['location', 'total_vaccinations']].sort_values(by='total_vaccinations', ascending=False)[0:6]"
      ],
      "execution_count": 44,
      "outputs": [
        {
          "output_type": "execute_result",
          "data": {
            "text/html": [
              "<div>\n",
              "<style scoped>\n",
              "    .dataframe tbody tr th:only-of-type {\n",
              "        vertical-align: middle;\n",
              "    }\n",
              "\n",
              "    .dataframe tbody tr th {\n",
              "        vertical-align: top;\n",
              "    }\n",
              "\n",
              "    .dataframe thead th {\n",
              "        text-align: right;\n",
              "    }\n",
              "</style>\n",
              "<table border=\"1\" class=\"dataframe\">\n",
              "  <thead>\n",
              "    <tr style=\"text-align: right;\">\n",
              "      <th></th>\n",
              "      <th>location</th>\n",
              "      <th>total_vaccinations</th>\n",
              "    </tr>\n",
              "  </thead>\n",
              "  <tbody>\n",
              "    <tr>\n",
              "      <th>2180</th>\n",
              "      <td>Brazil</td>\n",
              "      <td>126643283.0</td>\n",
              "    </tr>\n",
              "  </tbody>\n",
              "</table>\n",
              "</div>"
            ],
            "text/plain": [
              "     location  total_vaccinations\n",
              "2180   Brazil         126643283.0"
            ]
          },
          "metadata": {
            "tags": []
          },
          "execution_count": 44
        }
      ]
    },
    {
      "cell_type": "code",
      "metadata": {
        "id": "HEx8wjjUj6ck"
      },
      "source": [
        "df_vacina['total_vaccinations'] = (df_vacina['total_vaccinations'] - min(df_vacina['total_vaccinations'])) / (max(df_vacina['total_vaccinations']) - min(df_vacina['total_vaccinations']))"
      ],
      "execution_count": 45,
      "outputs": []
    },
    {
      "cell_type": "code",
      "metadata": {
        "colab": {
          "base_uri": "https://localhost:8080/",
          "height": 236
        },
        "id": "sp-vfmuJ8U3d",
        "outputId": "c7043735-4df2-4173-b5a7-5db7aa84dfc4"
      },
      "source": [
        "df_vacina.loc[(df_vacina.date == '2021-07-20'), ['location', 'total_vaccinations']].sort_values(by='total_vaccinations', ascending=False)[0:6]"
      ],
      "execution_count": 46,
      "outputs": [
        {
          "output_type": "execute_result",
          "data": {
            "text/html": [
              "<div>\n",
              "<style scoped>\n",
              "    .dataframe tbody tr th:only-of-type {\n",
              "        vertical-align: middle;\n",
              "    }\n",
              "\n",
              "    .dataframe tbody tr th {\n",
              "        vertical-align: top;\n",
              "    }\n",
              "\n",
              "    .dataframe thead th {\n",
              "        text-align: right;\n",
              "    }\n",
              "</style>\n",
              "<table border=\"1\" class=\"dataframe\">\n",
              "  <thead>\n",
              "    <tr style=\"text-align: right;\">\n",
              "      <th></th>\n",
              "      <th>location</th>\n",
              "      <th>total_vaccinations</th>\n",
              "    </tr>\n",
              "  </thead>\n",
              "  <tbody>\n",
              "    <tr>\n",
              "      <th>3328</th>\n",
              "      <td>China</td>\n",
              "      <td>0.944192</td>\n",
              "    </tr>\n",
              "    <tr>\n",
              "      <th>7293</th>\n",
              "      <td>India</td>\n",
              "      <td>0.265330</td>\n",
              "    </tr>\n",
              "    <tr>\n",
              "      <th>17384</th>\n",
              "      <td>United States</td>\n",
              "      <td>0.216168</td>\n",
              "    </tr>\n",
              "    <tr>\n",
              "      <th>2180</th>\n",
              "      <td>Brazil</td>\n",
              "      <td>0.080877</td>\n",
              "    </tr>\n",
              "    <tr>\n",
              "      <th>5994</th>\n",
              "      <td>Germany</td>\n",
              "      <td>0.055700</td>\n",
              "    </tr>\n",
              "    <tr>\n",
              "      <th>17182</th>\n",
              "      <td>United Kingdom</td>\n",
              "      <td>0.052874</td>\n",
              "    </tr>\n",
              "  </tbody>\n",
              "</table>\n",
              "</div>"
            ],
            "text/plain": [
              "             location  total_vaccinations\n",
              "3328            China            0.944192\n",
              "7293            India            0.265330\n",
              "17384   United States            0.216168\n",
              "2180           Brazil            0.080877\n",
              "5994          Germany            0.055700\n",
              "17182  United Kingdom            0.052874"
            ]
          },
          "metadata": {
            "tags": []
          },
          "execution_count": 46
        }
      ]
    },
    {
      "cell_type": "code",
      "metadata": {
        "colab": {
          "base_uri": "https://localhost:8080/",
          "height": 861
        },
        "id": "Z8RHH5EGmogc",
        "cellView": "form",
        "outputId": "5b8eea69-9e59-4952-e1b7-ca2effadff71"
      },
      "source": [
        "#@title\n",
        "fig, ax = plt.subplots(figsize=(18,14))\n",
        "sns.set_style('dark')\n",
        "font = {'family': 'arial',\n",
        "        'color':  'black',\n",
        "        'weight': 'normal',\n",
        "        'size': 12}\n",
        "\n",
        "df_vacina.loc[df_vacina.location == 'Brazil'].plot('date', 'total_vaccinations', kind='line', lw=2, ax=ax, linewidth=2, legend=False);\n",
        "df_vacina.loc[df_vacina.location == 'China'].plot('date', 'total_vaccinations', kind='line', lw=2, ax=ax, color=\"lightgray\", legend=False);\n",
        "df_vacina.loc[df_vacina.location == 'United States'].plot('date', 'total_vaccinations', kind='line', lw=2, ax=ax, color=\"lightgray\", legend=False);\n",
        "df_vacina.loc[df_vacina.location == 'India'].plot('date', 'total_vaccinations', kind='line', lw=2, ax=ax, color=\"lightgray\", legend=False);\n",
        "df_vacina.loc[df_vacina.location == 'Germany'].plot('date', 'total_vaccinations', kind='line', lw=2, ax=ax, color=\"lightgray\", legend=False);\n",
        "df_vacina.loc[df_vacina.location == 'United Kingdom'].plot('date', 'total_vaccinations', kind='line', lw=2, ax=ax, color=\"lightgray\", legend=False);\n",
        "\n",
        "plt.text(x='2021-07-19', y=0.1, s='Brasil', fontdict=font)\n",
        "plt.text(x='2021-07-19', y=1, s='China', fontdict=font)\n",
        "plt.text(x='2021-07-19', y=0.3, s='India', fontdict=font)\n",
        "plt.text(x='2021-07-19', y=0.22, s='United States', fontdict=font)\n",
        "plt.text(x='2021-07-19', y=0.03, s='Germany', fontdict=font)\n",
        "plt.text(x='2021-07-19', y=0.05, s='United Kingdom', fontdict=font)\n",
        "\n",
        "plt.title(\"Top 5 paises com maior número de vacinação\", fontsize=15)\n",
        "plt.xticks(color=\"gray\")\n",
        "plt.yticks(color=\"gray\")\n",
        "\n",
        "plt.show()"
      ],
      "execution_count": 47,
      "outputs": [
        {
          "output_type": "stream",
          "text": [
            "/usr/local/lib/python3.7/dist-packages/pandas/plotting/_matplotlib/core.py:668: MatplotlibDeprecationWarning: Saw kwargs ['lw', 'linewidth'] which are all aliases for 'linewidth'.  Kept value from 'linewidth'.  Passing multiple aliases for the same property will raise a TypeError in 3.3.\n",
            "  return ax.plot(*args, **kwds)\n",
            "findfont: Font family ['arial'] not found. Falling back to DejaVu Sans.\n"
          ],
          "name": "stderr"
        },
        {
          "output_type": "display_data",
          "data": {
            "image/png": "[encoded data removed]",
            "text/plain": [
              "<Figure size 1296x1008 with 1 Axes>"
            ]
          },
          "metadata": {
            "tags": []
          }
        }
      ]
    },
    {
      "cell_type": "markdown",
      "metadata": {
        "id": "u9jBWaSsKPm3"
      },
      "source": [
        "###Previna-se\n",
        "\n",
        "<center><img alt=\"Colaboratory logo\" width=\"60%\" src=\"https://www.aemflo-cdlsj.org.br/ckfinder/images/Coronavirus_Prancheta%201.png\"></center>"
      ]
    }
  ]
}