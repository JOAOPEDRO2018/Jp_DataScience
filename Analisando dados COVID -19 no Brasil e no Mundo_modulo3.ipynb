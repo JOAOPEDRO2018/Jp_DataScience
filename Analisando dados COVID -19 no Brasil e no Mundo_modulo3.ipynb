{
  "nbformat": 4,
  "nbformat_minor": 0,
  "metadata": {
    "colab": {
      "name": "Panorama do COVID-19 no Mundo - modulo3",
      "provenance": [],
      "collapsed_sections": [
        "BXDVEXGQLHu8",
        "Wcq-6sQ8gBfZ"
      ],
      "authorship_tag": "ABX9TyP9GZ9o67tpoZb2FBhAFVyH",
      "include_colab_link": true
    },
    "kernelspec": {
      "name": "python3",
      "display_name": "Python 3"
    },
    "language_info": {
      "name": "python"
    }
  },
  "cells": [
    {
      "cell_type": "markdown",
      "metadata": {
        "id": "view-in-github",
        "colab_type": "text"
      },
      "source": [
        "<a href=\"https://colab.research.google.com/github/JOAOPEDRO2018/Jp_DataScience/blob/dados/Analisando%20dados%20COVID%20-19%20no%20Brasil%20e%20no%20Mundo_modulo3.ipynb\" target=\"_parent\"><img src=\"https://colab.research.google.com/assets/colab-badge.svg\" alt=\"Open In Colab\"/></a>"
      ]
    },
    {
      "cell_type": "markdown",
      "metadata": {
        "id": "J-FyNLQtx7Nv"
      },
      "source": [
        "# Panorama do Covid-19 no Brasil e no Mundo.\n",
        "\n",
        "Segundo o Ministério da Saúde, a Covid-19 é uma infecção respiratória aguda causada pelo coronavírus SARS-CoV-2, com muitos casos graves e alta taxa de transmissibilidade, culminou em uma pandemia global. SARS-CoV deve sua origem no sul da China, os primeiros casos foram identificados em 2002 como uma incomum epidemia de pneumonia em Foshan, Guangdong, China, esse surto foi identificado como uma Síndrome Respiratória Aguda (SARS) um ano depois foi identificado um novo CoV como sendo o causador da SARS, CoV faz parte da família de Coronavírus que são um grupo de vírus de RNA de fita simples, com alta mutação, que causam doenças respiratórias, hepáticas e neurológicas com uma gravidade muito variável não somente em humanos, mas também em uma gama variada de animais, a nova doença então foi denominada  como SARS-CoV.\n",
        "\n",
        "\n",
        "<center><img alt=\"Colaboratory logo\" width=\"90%\" src=\"https://www.unicef.org/brazil/sites/unicef.org.brazil/files/styles/hero_mobile/public/warao-manaus_michell-mello.jpg\"></center>\n",
        "\n",
        "\n",
        "Em 2019 um novo surto de SARS apareceu em Wuhan, na província de Hubei, na China, a princípio com causas desconhecidas, infectando mais de 9 mil pessoas na China com 213 mortes e infectando 106 pessoas em 19 outros países até 31 de janeiro de 2020. Poucos dias depois a causa foi identificada como sendo um novo coronavírus, a princípio denominado de coronavírus-2 (SARS-CoV-2) e batizado pela Organização Mundial de Saúde de Coronavírus 2019 (Covid-19)"
      ]
    },
    {
      "cell_type": "markdown",
      "metadata": {
        "id": "rnZUHsdf6oP4"
      },
      "source": [
        "###Contextualização\n",
        "\n",
        "O objetivo desta análise é visualizar de forma interativa a partir de gráficos, quais foram o impacto do COVID-19 no Mundo e, como o dados do Brasil se comparam com o resto do Mundo."
      ]
    },
    {
      "cell_type": "markdown",
      "metadata": {
        "id": "enldJM5OLNAM"
      },
      "source": [
        "###Obtendo os dados"
      ]
    },
    {
      "cell_type": "markdown",
      "metadata": {
        "id": "BXDVEXGQLHu8"
      },
      "source": [
        "####Imports"
      ]
    },
    {
      "cell_type": "code",
      "metadata": {
        "id": "Qcr7_47UIq0E"
      },
      "source": [
        "import pandas as pd\n",
        "import numpy as np\n",
        "import matplotlib.pyplot as plt\n",
        "\n",
        "df = pd.read_csv('https://raw.githubusercontent.com/owid/covid-19-data/master/public/data/owid-covid-data.csv')"
      ],
      "execution_count": 320,
      "outputs": []
    },
    {
      "cell_type": "markdown",
      "metadata": {
        "id": "Z8YaBPSqLXoT"
      },
      "source": [
        "####Analisando os Dados\n"
      ]
    },
    {
      "cell_type": "code",
      "metadata": {
        "colab": {
          "base_uri": "https://localhost:8080/",
          "height": 312
        },
        "id": "O8gLaIy7I7JE",
        "outputId": "77746345-8cfb-4bd7-8266-a5a7cecdd6ea"
      },
      "source": [
        "df.head()"
      ],
      "execution_count": 321,
      "outputs": [
        {
          "output_type": "execute_result",
          "data": {
            "text/html": [
              "<div>\n",
              "<style scoped>\n",
              "    .dataframe tbody tr th:only-of-type {\n",
              "        vertical-align: middle;\n",
              "    }\n",
              "\n",
              "    .dataframe tbody tr th {\n",
              "        vertical-align: top;\n",
              "    }\n",
              "\n",
              "    .dataframe thead th {\n",
              "        text-align: right;\n",
              "    }\n",
              "</style>\n",
              "<table border=\"1\" class=\"dataframe\">\n",
              "  <thead>\n",
              "    <tr style=\"text-align: right;\">\n",
              "      <th></th>\n",
              "      <th>iso_code</th>\n",
              "      <th>continent</th>\n",
              "      <th>location</th>\n",
              "      <th>date</th>\n",
              "      <th>total_cases</th>\n",
              "      <th>new_cases</th>\n",
              "      <th>new_cases_smoothed</th>\n",
              "      <th>total_deaths</th>\n",
              "      <th>new_deaths</th>\n",
              "      <th>new_deaths_smoothed</th>\n",
              "      <th>total_cases_per_million</th>\n",
              "      <th>new_cases_per_million</th>\n",
              "      <th>new_cases_smoothed_per_million</th>\n",
              "      <th>total_deaths_per_million</th>\n",
              "      <th>new_deaths_per_million</th>\n",
              "      <th>new_deaths_smoothed_per_million</th>\n",
              "      <th>reproduction_rate</th>\n",
              "      <th>icu_patients</th>\n",
              "      <th>icu_patients_per_million</th>\n",
              "      <th>hosp_patients</th>\n",
              "      <th>hosp_patients_per_million</th>\n",
              "      <th>weekly_icu_admissions</th>\n",
              "      <th>weekly_icu_admissions_per_million</th>\n",
              "      <th>weekly_hosp_admissions</th>\n",
              "      <th>weekly_hosp_admissions_per_million</th>\n",
              "      <th>new_tests</th>\n",
              "      <th>total_tests</th>\n",
              "      <th>total_tests_per_thousand</th>\n",
              "      <th>new_tests_per_thousand</th>\n",
              "      <th>new_tests_smoothed</th>\n",
              "      <th>new_tests_smoothed_per_thousand</th>\n",
              "      <th>positive_rate</th>\n",
              "      <th>tests_per_case</th>\n",
              "      <th>tests_units</th>\n",
              "      <th>total_vaccinations</th>\n",
              "      <th>people_vaccinated</th>\n",
              "      <th>people_fully_vaccinated</th>\n",
              "      <th>new_vaccinations</th>\n",
              "      <th>new_vaccinations_smoothed</th>\n",
              "      <th>total_vaccinations_per_hundred</th>\n",
              "      <th>people_vaccinated_per_hundred</th>\n",
              "      <th>people_fully_vaccinated_per_hundred</th>\n",
              "      <th>new_vaccinations_smoothed_per_million</th>\n",
              "      <th>stringency_index</th>\n",
              "      <th>population</th>\n",
              "      <th>population_density</th>\n",
              "      <th>median_age</th>\n",
              "      <th>aged_65_older</th>\n",
              "      <th>aged_70_older</th>\n",
              "      <th>gdp_per_capita</th>\n",
              "      <th>extreme_poverty</th>\n",
              "      <th>cardiovasc_death_rate</th>\n",
              "      <th>diabetes_prevalence</th>\n",
              "      <th>female_smokers</th>\n",
              "      <th>male_smokers</th>\n",
              "      <th>handwashing_facilities</th>\n",
              "      <th>hospital_beds_per_thousand</th>\n",
              "      <th>life_expectancy</th>\n",
              "      <th>human_development_index</th>\n",
              "      <th>excess_mortality</th>\n",
              "    </tr>\n",
              "  </thead>\n",
              "  <tbody>\n",
              "    <tr>\n",
              "      <th>0</th>\n",
              "      <td>AFG</td>\n",
              "      <td>Asia</td>\n",
              "      <td>Afghanistan</td>\n",
              "      <td>2020-02-24</td>\n",
              "      <td>1.0</td>\n",
              "      <td>1.0</td>\n",
              "      <td>NaN</td>\n",
              "      <td>NaN</td>\n",
              "      <td>NaN</td>\n",
              "      <td>NaN</td>\n",
              "      <td>0.026</td>\n",
              "      <td>0.026</td>\n",
              "      <td>NaN</td>\n",
              "      <td>NaN</td>\n",
              "      <td>NaN</td>\n",
              "      <td>NaN</td>\n",
              "      <td>NaN</td>\n",
              "      <td>NaN</td>\n",
              "      <td>NaN</td>\n",
              "      <td>NaN</td>\n",
              "      <td>NaN</td>\n",
              "      <td>NaN</td>\n",
              "      <td>NaN</td>\n",
              "      <td>NaN</td>\n",
              "      <td>NaN</td>\n",
              "      <td>NaN</td>\n",
              "      <td>NaN</td>\n",
              "      <td>NaN</td>\n",
              "      <td>NaN</td>\n",
              "      <td>NaN</td>\n",
              "      <td>NaN</td>\n",
              "      <td>NaN</td>\n",
              "      <td>NaN</td>\n",
              "      <td>NaN</td>\n",
              "      <td>NaN</td>\n",
              "      <td>NaN</td>\n",
              "      <td>NaN</td>\n",
              "      <td>NaN</td>\n",
              "      <td>NaN</td>\n",
              "      <td>NaN</td>\n",
              "      <td>NaN</td>\n",
              "      <td>NaN</td>\n",
              "      <td>NaN</td>\n",
              "      <td>8.33</td>\n",
              "      <td>38928341.0</td>\n",
              "      <td>54.422</td>\n",
              "      <td>18.6</td>\n",
              "      <td>2.581</td>\n",
              "      <td>1.337</td>\n",
              "      <td>1803.987</td>\n",
              "      <td>NaN</td>\n",
              "      <td>597.029</td>\n",
              "      <td>9.59</td>\n",
              "      <td>NaN</td>\n",
              "      <td>NaN</td>\n",
              "      <td>37.746</td>\n",
              "      <td>0.5</td>\n",
              "      <td>64.83</td>\n",
              "      <td>0.511</td>\n",
              "      <td>NaN</td>\n",
              "    </tr>\n",
              "    <tr>\n",
              "      <th>1</th>\n",
              "      <td>AFG</td>\n",
              "      <td>Asia</td>\n",
              "      <td>Afghanistan</td>\n",
              "      <td>2020-02-25</td>\n",
              "      <td>1.0</td>\n",
              "      <td>0.0</td>\n",
              "      <td>NaN</td>\n",
              "      <td>NaN</td>\n",
              "      <td>NaN</td>\n",
              "      <td>NaN</td>\n",
              "      <td>0.026</td>\n",
              "      <td>0.000</td>\n",
              "      <td>NaN</td>\n",
              "      <td>NaN</td>\n",
              "      <td>NaN</td>\n",
              "      <td>NaN</td>\n",
              "      <td>NaN</td>\n",
              "      <td>NaN</td>\n",
              "      <td>NaN</td>\n",
              "      <td>NaN</td>\n",
              "      <td>NaN</td>\n",
              "      <td>NaN</td>\n",
              "      <td>NaN</td>\n",
              "      <td>NaN</td>\n",
              "      <td>NaN</td>\n",
              "      <td>NaN</td>\n",
              "      <td>NaN</td>\n",
              "      <td>NaN</td>\n",
              "      <td>NaN</td>\n",
              "      <td>NaN</td>\n",
              "      <td>NaN</td>\n",
              "      <td>NaN</td>\n",
              "      <td>NaN</td>\n",
              "      <td>NaN</td>\n",
              "      <td>NaN</td>\n",
              "      <td>NaN</td>\n",
              "      <td>NaN</td>\n",
              "      <td>NaN</td>\n",
              "      <td>NaN</td>\n",
              "      <td>NaN</td>\n",
              "      <td>NaN</td>\n",
              "      <td>NaN</td>\n",
              "      <td>NaN</td>\n",
              "      <td>8.33</td>\n",
              "      <td>38928341.0</td>\n",
              "      <td>54.422</td>\n",
              "      <td>18.6</td>\n",
              "      <td>2.581</td>\n",
              "      <td>1.337</td>\n",
              "      <td>1803.987</td>\n",
              "      <td>NaN</td>\n",
              "      <td>597.029</td>\n",
              "      <td>9.59</td>\n",
              "      <td>NaN</td>\n",
              "      <td>NaN</td>\n",
              "      <td>37.746</td>\n",
              "      <td>0.5</td>\n",
              "      <td>64.83</td>\n",
              "      <td>0.511</td>\n",
              "      <td>NaN</td>\n",
              "    </tr>\n",
              "    <tr>\n",
              "      <th>2</th>\n",
              "      <td>AFG</td>\n",
              "      <td>Asia</td>\n",
              "      <td>Afghanistan</td>\n",
              "      <td>2020-02-26</td>\n",
              "      <td>1.0</td>\n",
              "      <td>0.0</td>\n",
              "      <td>NaN</td>\n",
              "      <td>NaN</td>\n",
              "      <td>NaN</td>\n",
              "      <td>NaN</td>\n",
              "      <td>0.026</td>\n",
              "      <td>0.000</td>\n",
              "      <td>NaN</td>\n",
              "      <td>NaN</td>\n",
              "      <td>NaN</td>\n",
              "      <td>NaN</td>\n",
              "      <td>NaN</td>\n",
              "      <td>NaN</td>\n",
              "      <td>NaN</td>\n",
              "      <td>NaN</td>\n",
              "      <td>NaN</td>\n",
              "      <td>NaN</td>\n",
              "      <td>NaN</td>\n",
              "      <td>NaN</td>\n",
              "      <td>NaN</td>\n",
              "      <td>NaN</td>\n",
              "      <td>NaN</td>\n",
              "      <td>NaN</td>\n",
              "      <td>NaN</td>\n",
              "      <td>NaN</td>\n",
              "      <td>NaN</td>\n",
              "      <td>NaN</td>\n",
              "      <td>NaN</td>\n",
              "      <td>NaN</td>\n",
              "      <td>NaN</td>\n",
              "      <td>NaN</td>\n",
              "      <td>NaN</td>\n",
              "      <td>NaN</td>\n",
              "      <td>NaN</td>\n",
              "      <td>NaN</td>\n",
              "      <td>NaN</td>\n",
              "      <td>NaN</td>\n",
              "      <td>NaN</td>\n",
              "      <td>8.33</td>\n",
              "      <td>38928341.0</td>\n",
              "      <td>54.422</td>\n",
              "      <td>18.6</td>\n",
              "      <td>2.581</td>\n",
              "      <td>1.337</td>\n",
              "      <td>1803.987</td>\n",
              "      <td>NaN</td>\n",
              "      <td>597.029</td>\n",
              "      <td>9.59</td>\n",
              "      <td>NaN</td>\n",
              "      <td>NaN</td>\n",
              "      <td>37.746</td>\n",
              "      <td>0.5</td>\n",
              "      <td>64.83</td>\n",
              "      <td>0.511</td>\n",
              "      <td>NaN</td>\n",
              "    </tr>\n",
              "    <tr>\n",
              "      <th>3</th>\n",
              "      <td>AFG</td>\n",
              "      <td>Asia</td>\n",
              "      <td>Afghanistan</td>\n",
              "      <td>2020-02-27</td>\n",
              "      <td>1.0</td>\n",
              "      <td>0.0</td>\n",
              "      <td>NaN</td>\n",
              "      <td>NaN</td>\n",
              "      <td>NaN</td>\n",
              "      <td>NaN</td>\n",
              "      <td>0.026</td>\n",
              "      <td>0.000</td>\n",
              "      <td>NaN</td>\n",
              "      <td>NaN</td>\n",
              "      <td>NaN</td>\n",
              "      <td>NaN</td>\n",
              "      <td>NaN</td>\n",
              "      <td>NaN</td>\n",
              "      <td>NaN</td>\n",
              "      <td>NaN</td>\n",
              "      <td>NaN</td>\n",
              "      <td>NaN</td>\n",
              "      <td>NaN</td>\n",
              "      <td>NaN</td>\n",
              "      <td>NaN</td>\n",
              "      <td>NaN</td>\n",
              "      <td>NaN</td>\n",
              "      <td>NaN</td>\n",
              "      <td>NaN</td>\n",
              "      <td>NaN</td>\n",
              "      <td>NaN</td>\n",
              "      <td>NaN</td>\n",
              "      <td>NaN</td>\n",
              "      <td>NaN</td>\n",
              "      <td>NaN</td>\n",
              "      <td>NaN</td>\n",
              "      <td>NaN</td>\n",
              "      <td>NaN</td>\n",
              "      <td>NaN</td>\n",
              "      <td>NaN</td>\n",
              "      <td>NaN</td>\n",
              "      <td>NaN</td>\n",
              "      <td>NaN</td>\n",
              "      <td>8.33</td>\n",
              "      <td>38928341.0</td>\n",
              "      <td>54.422</td>\n",
              "      <td>18.6</td>\n",
              "      <td>2.581</td>\n",
              "      <td>1.337</td>\n",
              "      <td>1803.987</td>\n",
              "      <td>NaN</td>\n",
              "      <td>597.029</td>\n",
              "      <td>9.59</td>\n",
              "      <td>NaN</td>\n",
              "      <td>NaN</td>\n",
              "      <td>37.746</td>\n",
              "      <td>0.5</td>\n",
              "      <td>64.83</td>\n",
              "      <td>0.511</td>\n",
              "      <td>NaN</td>\n",
              "    </tr>\n",
              "    <tr>\n",
              "      <th>4</th>\n",
              "      <td>AFG</td>\n",
              "      <td>Asia</td>\n",
              "      <td>Afghanistan</td>\n",
              "      <td>2020-02-28</td>\n",
              "      <td>1.0</td>\n",
              "      <td>0.0</td>\n",
              "      <td>NaN</td>\n",
              "      <td>NaN</td>\n",
              "      <td>NaN</td>\n",
              "      <td>NaN</td>\n",
              "      <td>0.026</td>\n",
              "      <td>0.000</td>\n",
              "      <td>NaN</td>\n",
              "      <td>NaN</td>\n",
              "      <td>NaN</td>\n",
              "      <td>NaN</td>\n",
              "      <td>NaN</td>\n",
              "      <td>NaN</td>\n",
              "      <td>NaN</td>\n",
              "      <td>NaN</td>\n",
              "      <td>NaN</td>\n",
              "      <td>NaN</td>\n",
              "      <td>NaN</td>\n",
              "      <td>NaN</td>\n",
              "      <td>NaN</td>\n",
              "      <td>NaN</td>\n",
              "      <td>NaN</td>\n",
              "      <td>NaN</td>\n",
              "      <td>NaN</td>\n",
              "      <td>NaN</td>\n",
              "      <td>NaN</td>\n",
              "      <td>NaN</td>\n",
              "      <td>NaN</td>\n",
              "      <td>NaN</td>\n",
              "      <td>NaN</td>\n",
              "      <td>NaN</td>\n",
              "      <td>NaN</td>\n",
              "      <td>NaN</td>\n",
              "      <td>NaN</td>\n",
              "      <td>NaN</td>\n",
              "      <td>NaN</td>\n",
              "      <td>NaN</td>\n",
              "      <td>NaN</td>\n",
              "      <td>8.33</td>\n",
              "      <td>38928341.0</td>\n",
              "      <td>54.422</td>\n",
              "      <td>18.6</td>\n",
              "      <td>2.581</td>\n",
              "      <td>1.337</td>\n",
              "      <td>1803.987</td>\n",
              "      <td>NaN</td>\n",
              "      <td>597.029</td>\n",
              "      <td>9.59</td>\n",
              "      <td>NaN</td>\n",
              "      <td>NaN</td>\n",
              "      <td>37.746</td>\n",
              "      <td>0.5</td>\n",
              "      <td>64.83</td>\n",
              "      <td>0.511</td>\n",
              "      <td>NaN</td>\n",
              "    </tr>\n",
              "  </tbody>\n",
              "</table>\n",
              "</div>"
            ],
            "text/plain": [
              "  iso_code continent  ... human_development_index excess_mortality\n",
              "0      AFG      Asia  ...                   0.511              NaN\n",
              "1      AFG      Asia  ...                   0.511              NaN\n",
              "2      AFG      Asia  ...                   0.511              NaN\n",
              "3      AFG      Asia  ...                   0.511              NaN\n",
              "4      AFG      Asia  ...                   0.511              NaN\n",
              "\n",
              "[5 rows x 60 columns]"
            ]
          },
          "metadata": {
            "tags": []
          },
          "execution_count": 321
        }
      ]
    },
    {
      "cell_type": "markdown",
      "metadata": {
        "id": "L829o2BpLvCb"
      },
      "source": [
        "``df.info`` é util para entender como os dados estão distribuidos no dataset, no caso vemos que existe uma coluna ``date`` que pode ser transformada para o tipo data e ser usada como index, além de já ter uma previa de da quantidade de valores nulos em cada coluna."
      ]
    },
    {
      "cell_type": "code",
      "metadata": {
        "id": "Yj2Djx45Mk9Q",
        "colab": {
          "base_uri": "https://localhost:8080/"
        },
        "outputId": "a0bbfb93-0b83-4e7e-d02d-a24cea2166a1"
      },
      "source": [
        "df.info()"
      ],
      "execution_count": 322,
      "outputs": [
        {
          "output_type": "stream",
          "text": [
            "<class 'pandas.core.frame.DataFrame'>\n",
            "RangeIndex: 104802 entries, 0 to 104801\n",
            "Data columns (total 60 columns):\n",
            " #   Column                                 Non-Null Count   Dtype  \n",
            "---  ------                                 --------------   -----  \n",
            " 0   iso_code                               104802 non-null  object \n",
            " 1   continent                              99926 non-null   object \n",
            " 2   location                               104802 non-null  object \n",
            " 3   date                                   104802 non-null  object \n",
            " 4   total_cases                            100604 non-null  float64\n",
            " 5   new_cases                              100601 non-null  float64\n",
            " 6   new_cases_smoothed                     99591 non-null   float64\n",
            " 7   total_deaths                           90311 non-null   float64\n",
            " 8   new_deaths                             90466 non-null   float64\n",
            " 9   new_deaths_smoothed                    99591 non-null   float64\n",
            " 10  total_cases_per_million                100070 non-null  float64\n",
            " 11  new_cases_per_million                  100067 non-null  float64\n",
            " 12  new_cases_smoothed_per_million         99062 non-null   float64\n",
            " 13  total_deaths_per_million               89790 non-null   float64\n",
            " 14  new_deaths_per_million                 89945 non-null   float64\n",
            " 15  new_deaths_smoothed_per_million        99062 non-null   float64\n",
            " 16  reproduction_rate                      84632 non-null   float64\n",
            " 17  icu_patients                           10850 non-null   float64\n",
            " 18  icu_patients_per_million               10850 non-null   float64\n",
            " 19  hosp_patients                          13108 non-null   float64\n",
            " 20  hosp_patients_per_million              13108 non-null   float64\n",
            " 21  weekly_icu_admissions                  966 non-null     float64\n",
            " 22  weekly_icu_admissions_per_million      966 non-null     float64\n",
            " 23  weekly_hosp_admissions                 1720 non-null    float64\n",
            " 24  weekly_hosp_admissions_per_million     1720 non-null    float64\n",
            " 25  new_tests                              46778 non-null   float64\n",
            " 26  total_tests                            46471 non-null   float64\n",
            " 27  total_tests_per_thousand               46471 non-null   float64\n",
            " 28  new_tests_per_thousand                 46778 non-null   float64\n",
            " 29  new_tests_smoothed                     54597 non-null   float64\n",
            " 30  new_tests_smoothed_per_thousand        54597 non-null   float64\n",
            " 31  positive_rate                          50986 non-null   float64\n",
            " 32  tests_per_case                         50367 non-null   float64\n",
            " 33  tests_units                            56345 non-null   object \n",
            " 34  total_vaccinations                     19170 non-null   float64\n",
            " 35  people_vaccinated                      18356 non-null   float64\n",
            " 36  people_fully_vaccinated                15432 non-null   float64\n",
            " 37  new_vaccinations                       15971 non-null   float64\n",
            " 38  new_vaccinations_smoothed              33484 non-null   float64\n",
            " 39  total_vaccinations_per_hundred         19170 non-null   float64\n",
            " 40  people_vaccinated_per_hundred          18356 non-null   float64\n",
            " 41  people_fully_vaccinated_per_hundred    15432 non-null   float64\n",
            " 42  new_vaccinations_smoothed_per_million  33484 non-null   float64\n",
            " 43  stringency_index                       87432 non-null   float64\n",
            " 44  population                             104103 non-null  float64\n",
            " 45  population_density                     97279 non-null   float64\n",
            " 46  median_age                             93386 non-null   float64\n",
            " 47  aged_65_older                          92340 non-null   float64\n",
            " 48  aged_70_older                          92871 non-null   float64\n",
            " 49  gdp_per_capita                         93784 non-null   float64\n",
            " 50  extreme_poverty                        63175 non-null   float64\n",
            " 51  cardiovasc_death_rate                  93740 non-null   float64\n",
            " 52  diabetes_prevalence                    96265 non-null   float64\n",
            " 53  female_smokers                         73286 non-null   float64\n",
            " 54  male_smokers                           72214 non-null   float64\n",
            " 55  handwashing_facilities                 47083 non-null   float64\n",
            " 56  hospital_beds_per_thousand             85346 non-null   float64\n",
            " 57  life_expectancy                        99498 non-null   float64\n",
            " 58  human_development_index                93859 non-null   float64\n",
            " 59  excess_mortality                       3671 non-null    float64\n",
            "dtypes: float64(55), object(5)\n",
            "memory usage: 48.0+ MB\n"
          ],
          "name": "stdout"
        }
      ]
    },
    {
      "cell_type": "code",
      "metadata": {
        "id": "llYzdyh2Vw5H"
      },
      "source": [
        "#tranformar coluna data para datetime, assim o dataset ficará mais organizado\n",
        "df['date'] = pd.to_datetime(df['date'])"
      ],
      "execution_count": 323,
      "outputs": []
    },
    {
      "cell_type": "code",
      "metadata": {
        "id": "xqHuk0ElaRgw"
      },
      "source": [
        "#Atribuindo a coluna date como index\n",
        "df.set_index('date', inplace=True)"
      ],
      "execution_count": 324,
      "outputs": []
    },
    {
      "cell_type": "code",
      "metadata": {
        "colab": {
          "base_uri": "https://localhost:8080/",
          "height": 343
        },
        "id": "l2jzD0fcPHTD",
        "outputId": "0157d109-1dc7-436c-c399-87bf2c76bccc"
      },
      "source": [
        "df.tail(5)"
      ],
      "execution_count": 325,
      "outputs": [
        {
          "output_type": "execute_result",
          "data": {
            "text/html": [
              "<div>\n",
              "<style scoped>\n",
              "    .dataframe tbody tr th:only-of-type {\n",
              "        vertical-align: middle;\n",
              "    }\n",
              "\n",
              "    .dataframe tbody tr th {\n",
              "        vertical-align: top;\n",
              "    }\n",
              "\n",
              "    .dataframe thead th {\n",
              "        text-align: right;\n",
              "    }\n",
              "</style>\n",
              "<table border=\"1\" class=\"dataframe\">\n",
              "  <thead>\n",
              "    <tr style=\"text-align: right;\">\n",
              "      <th></th>\n",
              "      <th>iso_code</th>\n",
              "      <th>continent</th>\n",
              "      <th>location</th>\n",
              "      <th>total_cases</th>\n",
              "      <th>new_cases</th>\n",
              "      <th>new_cases_smoothed</th>\n",
              "      <th>total_deaths</th>\n",
              "      <th>new_deaths</th>\n",
              "      <th>new_deaths_smoothed</th>\n",
              "      <th>total_cases_per_million</th>\n",
              "      <th>new_cases_per_million</th>\n",
              "      <th>new_cases_smoothed_per_million</th>\n",
              "      <th>total_deaths_per_million</th>\n",
              "      <th>new_deaths_per_million</th>\n",
              "      <th>new_deaths_smoothed_per_million</th>\n",
              "      <th>reproduction_rate</th>\n",
              "      <th>icu_patients</th>\n",
              "      <th>icu_patients_per_million</th>\n",
              "      <th>hosp_patients</th>\n",
              "      <th>hosp_patients_per_million</th>\n",
              "      <th>weekly_icu_admissions</th>\n",
              "      <th>weekly_icu_admissions_per_million</th>\n",
              "      <th>weekly_hosp_admissions</th>\n",
              "      <th>weekly_hosp_admissions_per_million</th>\n",
              "      <th>new_tests</th>\n",
              "      <th>total_tests</th>\n",
              "      <th>total_tests_per_thousand</th>\n",
              "      <th>new_tests_per_thousand</th>\n",
              "      <th>new_tests_smoothed</th>\n",
              "      <th>new_tests_smoothed_per_thousand</th>\n",
              "      <th>positive_rate</th>\n",
              "      <th>tests_per_case</th>\n",
              "      <th>tests_units</th>\n",
              "      <th>total_vaccinations</th>\n",
              "      <th>people_vaccinated</th>\n",
              "      <th>people_fully_vaccinated</th>\n",
              "      <th>new_vaccinations</th>\n",
              "      <th>new_vaccinations_smoothed</th>\n",
              "      <th>total_vaccinations_per_hundred</th>\n",
              "      <th>people_vaccinated_per_hundred</th>\n",
              "      <th>people_fully_vaccinated_per_hundred</th>\n",
              "      <th>new_vaccinations_smoothed_per_million</th>\n",
              "      <th>stringency_index</th>\n",
              "      <th>population</th>\n",
              "      <th>population_density</th>\n",
              "      <th>median_age</th>\n",
              "      <th>aged_65_older</th>\n",
              "      <th>aged_70_older</th>\n",
              "      <th>gdp_per_capita</th>\n",
              "      <th>extreme_poverty</th>\n",
              "      <th>cardiovasc_death_rate</th>\n",
              "      <th>diabetes_prevalence</th>\n",
              "      <th>female_smokers</th>\n",
              "      <th>male_smokers</th>\n",
              "      <th>handwashing_facilities</th>\n",
              "      <th>hospital_beds_per_thousand</th>\n",
              "      <th>life_expectancy</th>\n",
              "      <th>human_development_index</th>\n",
              "      <th>excess_mortality</th>\n",
              "    </tr>\n",
              "    <tr>\n",
              "      <th>date</th>\n",
              "      <th></th>\n",
              "      <th></th>\n",
              "      <th></th>\n",
              "      <th></th>\n",
              "      <th></th>\n",
              "      <th></th>\n",
              "      <th></th>\n",
              "      <th></th>\n",
              "      <th></th>\n",
              "      <th></th>\n",
              "      <th></th>\n",
              "      <th></th>\n",
              "      <th></th>\n",
              "      <th></th>\n",
              "      <th></th>\n",
              "      <th></th>\n",
              "      <th></th>\n",
              "      <th></th>\n",
              "      <th></th>\n",
              "      <th></th>\n",
              "      <th></th>\n",
              "      <th></th>\n",
              "      <th></th>\n",
              "      <th></th>\n",
              "      <th></th>\n",
              "      <th></th>\n",
              "      <th></th>\n",
              "      <th></th>\n",
              "      <th></th>\n",
              "      <th></th>\n",
              "      <th></th>\n",
              "      <th></th>\n",
              "      <th></th>\n",
              "      <th></th>\n",
              "      <th></th>\n",
              "      <th></th>\n",
              "      <th></th>\n",
              "      <th></th>\n",
              "      <th></th>\n",
              "      <th></th>\n",
              "      <th></th>\n",
              "      <th></th>\n",
              "      <th></th>\n",
              "      <th></th>\n",
              "      <th></th>\n",
              "      <th></th>\n",
              "      <th></th>\n",
              "      <th></th>\n",
              "      <th></th>\n",
              "      <th></th>\n",
              "      <th></th>\n",
              "      <th></th>\n",
              "      <th></th>\n",
              "      <th></th>\n",
              "      <th></th>\n",
              "      <th></th>\n",
              "      <th></th>\n",
              "      <th></th>\n",
              "      <th></th>\n",
              "    </tr>\n",
              "  </thead>\n",
              "  <tbody>\n",
              "    <tr>\n",
              "      <th>2021-07-20</th>\n",
              "      <td>ZWE</td>\n",
              "      <td>Africa</td>\n",
              "      <td>Zimbabwe</td>\n",
              "      <td>88415.0</td>\n",
              "      <td>2683.0</td>\n",
              "      <td>2163.429</td>\n",
              "      <td>2747.0</td>\n",
              "      <td>50.0</td>\n",
              "      <td>67.571</td>\n",
              "      <td>5948.694</td>\n",
              "      <td>180.516</td>\n",
              "      <td>145.559</td>\n",
              "      <td>184.822</td>\n",
              "      <td>3.364</td>\n",
              "      <td>4.546</td>\n",
              "      <td>1.21</td>\n",
              "      <td>NaN</td>\n",
              "      <td>NaN</td>\n",
              "      <td>NaN</td>\n",
              "      <td>NaN</td>\n",
              "      <td>NaN</td>\n",
              "      <td>NaN</td>\n",
              "      <td>NaN</td>\n",
              "      <td>NaN</td>\n",
              "      <td>11254.0</td>\n",
              "      <td>844625.0</td>\n",
              "      <td>56.828</td>\n",
              "      <td>0.757</td>\n",
              "      <td>11166.0</td>\n",
              "      <td>0.751</td>\n",
              "      <td>0.194</td>\n",
              "      <td>5.2</td>\n",
              "      <td>tests performed</td>\n",
              "      <td>1897337.0</td>\n",
              "      <td>1247494.0</td>\n",
              "      <td>649843.0</td>\n",
              "      <td>69699.0</td>\n",
              "      <td>45971.0</td>\n",
              "      <td>12.77</td>\n",
              "      <td>8.39</td>\n",
              "      <td>4.37</td>\n",
              "      <td>3093.0</td>\n",
              "      <td>NaN</td>\n",
              "      <td>14862927.0</td>\n",
              "      <td>42.729</td>\n",
              "      <td>19.6</td>\n",
              "      <td>2.822</td>\n",
              "      <td>1.882</td>\n",
              "      <td>1899.775</td>\n",
              "      <td>21.4</td>\n",
              "      <td>307.846</td>\n",
              "      <td>1.82</td>\n",
              "      <td>1.6</td>\n",
              "      <td>30.7</td>\n",
              "      <td>36.791</td>\n",
              "      <td>1.7</td>\n",
              "      <td>61.49</td>\n",
              "      <td>0.571</td>\n",
              "      <td>NaN</td>\n",
              "    </tr>\n",
              "    <tr>\n",
              "      <th>2021-07-21</th>\n",
              "      <td>ZWE</td>\n",
              "      <td>Africa</td>\n",
              "      <td>Zimbabwe</td>\n",
              "      <td>91120.0</td>\n",
              "      <td>2705.0</td>\n",
              "      <td>2105.571</td>\n",
              "      <td>2809.0</td>\n",
              "      <td>62.0</td>\n",
              "      <td>68.143</td>\n",
              "      <td>6130.690</td>\n",
              "      <td>181.996</td>\n",
              "      <td>141.666</td>\n",
              "      <td>188.994</td>\n",
              "      <td>4.171</td>\n",
              "      <td>4.585</td>\n",
              "      <td>1.20</td>\n",
              "      <td>NaN</td>\n",
              "      <td>NaN</td>\n",
              "      <td>NaN</td>\n",
              "      <td>NaN</td>\n",
              "      <td>NaN</td>\n",
              "      <td>NaN</td>\n",
              "      <td>NaN</td>\n",
              "      <td>NaN</td>\n",
              "      <td>12636.0</td>\n",
              "      <td>857261.0</td>\n",
              "      <td>57.678</td>\n",
              "      <td>0.850</td>\n",
              "      <td>11171.0</td>\n",
              "      <td>0.752</td>\n",
              "      <td>0.188</td>\n",
              "      <td>5.3</td>\n",
              "      <td>tests performed</td>\n",
              "      <td>1949472.0</td>\n",
              "      <td>1292642.0</td>\n",
              "      <td>656830.0</td>\n",
              "      <td>52135.0</td>\n",
              "      <td>47976.0</td>\n",
              "      <td>13.12</td>\n",
              "      <td>8.70</td>\n",
              "      <td>4.42</td>\n",
              "      <td>3228.0</td>\n",
              "      <td>NaN</td>\n",
              "      <td>14862927.0</td>\n",
              "      <td>42.729</td>\n",
              "      <td>19.6</td>\n",
              "      <td>2.822</td>\n",
              "      <td>1.882</td>\n",
              "      <td>1899.775</td>\n",
              "      <td>21.4</td>\n",
              "      <td>307.846</td>\n",
              "      <td>1.82</td>\n",
              "      <td>1.6</td>\n",
              "      <td>30.7</td>\n",
              "      <td>36.791</td>\n",
              "      <td>1.7</td>\n",
              "      <td>61.49</td>\n",
              "      <td>0.571</td>\n",
              "      <td>NaN</td>\n",
              "    </tr>\n",
              "    <tr>\n",
              "      <th>2021-07-22</th>\n",
              "      <td>ZWE</td>\n",
              "      <td>Africa</td>\n",
              "      <td>Zimbabwe</td>\n",
              "      <td>93421.0</td>\n",
              "      <td>2301.0</td>\n",
              "      <td>2078.429</td>\n",
              "      <td>2870.0</td>\n",
              "      <td>61.0</td>\n",
              "      <td>64.571</td>\n",
              "      <td>6285.505</td>\n",
              "      <td>154.815</td>\n",
              "      <td>139.840</td>\n",
              "      <td>193.098</td>\n",
              "      <td>4.104</td>\n",
              "      <td>4.344</td>\n",
              "      <td>1.19</td>\n",
              "      <td>NaN</td>\n",
              "      <td>NaN</td>\n",
              "      <td>NaN</td>\n",
              "      <td>NaN</td>\n",
              "      <td>NaN</td>\n",
              "      <td>NaN</td>\n",
              "      <td>NaN</td>\n",
              "      <td>NaN</td>\n",
              "      <td>14987.0</td>\n",
              "      <td>872248.0</td>\n",
              "      <td>58.686</td>\n",
              "      <td>1.008</td>\n",
              "      <td>10365.0</td>\n",
              "      <td>0.697</td>\n",
              "      <td>0.201</td>\n",
              "      <td>5.0</td>\n",
              "      <td>tests performed</td>\n",
              "      <td>2017101.0</td>\n",
              "      <td>1352514.0</td>\n",
              "      <td>664587.0</td>\n",
              "      <td>67629.0</td>\n",
              "      <td>50034.0</td>\n",
              "      <td>13.57</td>\n",
              "      <td>9.10</td>\n",
              "      <td>4.47</td>\n",
              "      <td>3366.0</td>\n",
              "      <td>NaN</td>\n",
              "      <td>14862927.0</td>\n",
              "      <td>42.729</td>\n",
              "      <td>19.6</td>\n",
              "      <td>2.822</td>\n",
              "      <td>1.882</td>\n",
              "      <td>1899.775</td>\n",
              "      <td>21.4</td>\n",
              "      <td>307.846</td>\n",
              "      <td>1.82</td>\n",
              "      <td>1.6</td>\n",
              "      <td>30.7</td>\n",
              "      <td>36.791</td>\n",
              "      <td>1.7</td>\n",
              "      <td>61.49</td>\n",
              "      <td>0.571</td>\n",
              "      <td>NaN</td>\n",
              "    </tr>\n",
              "    <tr>\n",
              "      <th>2021-07-23</th>\n",
              "      <td>ZWE</td>\n",
              "      <td>Africa</td>\n",
              "      <td>Zimbabwe</td>\n",
              "      <td>95686.0</td>\n",
              "      <td>2265.0</td>\n",
              "      <td>2074.000</td>\n",
              "      <td>2961.0</td>\n",
              "      <td>91.0</td>\n",
              "      <td>63.000</td>\n",
              "      <td>6437.897</td>\n",
              "      <td>152.393</td>\n",
              "      <td>139.542</td>\n",
              "      <td>199.221</td>\n",
              "      <td>6.123</td>\n",
              "      <td>4.239</td>\n",
              "      <td>1.18</td>\n",
              "      <td>NaN</td>\n",
              "      <td>NaN</td>\n",
              "      <td>NaN</td>\n",
              "      <td>NaN</td>\n",
              "      <td>NaN</td>\n",
              "      <td>NaN</td>\n",
              "      <td>NaN</td>\n",
              "      <td>NaN</td>\n",
              "      <td>NaN</td>\n",
              "      <td>NaN</td>\n",
              "      <td>NaN</td>\n",
              "      <td>NaN</td>\n",
              "      <td>NaN</td>\n",
              "      <td>NaN</td>\n",
              "      <td>NaN</td>\n",
              "      <td>NaN</td>\n",
              "      <td>NaN</td>\n",
              "      <td>NaN</td>\n",
              "      <td>NaN</td>\n",
              "      <td>NaN</td>\n",
              "      <td>NaN</td>\n",
              "      <td>NaN</td>\n",
              "      <td>NaN</td>\n",
              "      <td>NaN</td>\n",
              "      <td>NaN</td>\n",
              "      <td>NaN</td>\n",
              "      <td>NaN</td>\n",
              "      <td>14862927.0</td>\n",
              "      <td>42.729</td>\n",
              "      <td>19.6</td>\n",
              "      <td>2.822</td>\n",
              "      <td>1.882</td>\n",
              "      <td>1899.775</td>\n",
              "      <td>21.4</td>\n",
              "      <td>307.846</td>\n",
              "      <td>1.82</td>\n",
              "      <td>1.6</td>\n",
              "      <td>30.7</td>\n",
              "      <td>36.791</td>\n",
              "      <td>1.7</td>\n",
              "      <td>61.49</td>\n",
              "      <td>0.571</td>\n",
              "      <td>NaN</td>\n",
              "    </tr>\n",
              "    <tr>\n",
              "      <th>2021-07-24</th>\n",
              "      <td>ZWE</td>\n",
              "      <td>Africa</td>\n",
              "      <td>Zimbabwe</td>\n",
              "      <td>97277.0</td>\n",
              "      <td>1591.0</td>\n",
              "      <td>2094.857</td>\n",
              "      <td>3050.0</td>\n",
              "      <td>89.0</td>\n",
              "      <td>66.000</td>\n",
              "      <td>6544.942</td>\n",
              "      <td>107.045</td>\n",
              "      <td>140.945</td>\n",
              "      <td>205.209</td>\n",
              "      <td>5.988</td>\n",
              "      <td>4.441</td>\n",
              "      <td>NaN</td>\n",
              "      <td>NaN</td>\n",
              "      <td>NaN</td>\n",
              "      <td>NaN</td>\n",
              "      <td>NaN</td>\n",
              "      <td>NaN</td>\n",
              "      <td>NaN</td>\n",
              "      <td>NaN</td>\n",
              "      <td>NaN</td>\n",
              "      <td>NaN</td>\n",
              "      <td>NaN</td>\n",
              "      <td>NaN</td>\n",
              "      <td>NaN</td>\n",
              "      <td>NaN</td>\n",
              "      <td>NaN</td>\n",
              "      <td>NaN</td>\n",
              "      <td>NaN</td>\n",
              "      <td>NaN</td>\n",
              "      <td>NaN</td>\n",
              "      <td>NaN</td>\n",
              "      <td>NaN</td>\n",
              "      <td>NaN</td>\n",
              "      <td>NaN</td>\n",
              "      <td>NaN</td>\n",
              "      <td>NaN</td>\n",
              "      <td>NaN</td>\n",
              "      <td>NaN</td>\n",
              "      <td>NaN</td>\n",
              "      <td>14862927.0</td>\n",
              "      <td>42.729</td>\n",
              "      <td>19.6</td>\n",
              "      <td>2.822</td>\n",
              "      <td>1.882</td>\n",
              "      <td>1899.775</td>\n",
              "      <td>21.4</td>\n",
              "      <td>307.846</td>\n",
              "      <td>1.82</td>\n",
              "      <td>1.6</td>\n",
              "      <td>30.7</td>\n",
              "      <td>36.791</td>\n",
              "      <td>1.7</td>\n",
              "      <td>61.49</td>\n",
              "      <td>0.571</td>\n",
              "      <td>NaN</td>\n",
              "    </tr>\n",
              "  </tbody>\n",
              "</table>\n",
              "</div>"
            ],
            "text/plain": [
              "           iso_code continent  ... human_development_index  excess_mortality\n",
              "date                           ...                                          \n",
              "2021-07-20      ZWE    Africa  ...                   0.571               NaN\n",
              "2021-07-21      ZWE    Africa  ...                   0.571               NaN\n",
              "2021-07-22      ZWE    Africa  ...                   0.571               NaN\n",
              "2021-07-23      ZWE    Africa  ...                   0.571               NaN\n",
              "2021-07-24      ZWE    Africa  ...                   0.571               NaN\n",
              "\n",
              "[5 rows x 59 columns]"
            ]
          },
          "metadata": {
            "tags": []
          },
          "execution_count": 325
        }
      ]
    },
    {
      "cell_type": "markdown",
      "metadata": {
        "id": "Wcq-6sQ8gBfZ"
      },
      "source": [
        "####Mapa de Variáveis\n",
        "Já tranformamos a coluna de data para Datetime e definimos como index, agora a próxima etapa será entender o que cada coluna significa para isso será criado um mapa para o entendimento do mesmo.\n"
      ]
    },
    {
      "cell_type": "markdown",
      "metadata": {
        "id": "sM_AubpV9On3"
      },
      "source": [
        "\n",
        "\n",
        "``iso_code``:(International Organization for Standardization) significa o código do país\n",
        "\n",
        "``continent``: Continente local\n",
        "\n",
        "``location``: País local\n",
        "\n",
        "``date``: Data da observação\n",
        "\n",
        "``total_cases``: Total de casos de COVID-19\n",
        "\n",
        "``new_cases``: Novos casos confirmados de COVID-19\n",
        "\n",
        "``new_cases_smoothed``: Novos casos com suavização de 7 dias\n",
        "\n",
        "``total_deaths``: Total de mortes pela COVID-19\n",
        "\n",
        "``new_deaths``: Novas mortes pela COVID-19\n",
        "\n",
        "``new_deaths_smoothed``:Novas mortes com suavização de 7-dias\n",
        "\n",
        "``total_cases_per_million``: Total de casos por milhão\n",
        "\n",
        "``new_cases_per_million``: Novos casos por milhão\n",
        "\n",
        "``new_cases_smoothed_per_million``: Novos casos por milhão com suavização de 7-dias\n",
        "\n",
        "``total_deaths_per_million``: Total de mortes por milhão\n",
        "\n",
        "``new_deaths_per_million``: Novas mortes por milhão\n",
        "\n",
        "``new_deaths_smoothed_per_million``: Novas mortes por milhão com suavização de 7-dias\n",
        "\n",
        "``reproduction_rate``: Estimativa em tempo real da taxa de reprodução efetiva (R) da COVID-19.\n",
        "\n",
        "``icu_patients``: Número de pacientes COVID-19 em unidades de terapia intensiva (UTIs) no mesmo dia\n",
        "\n",
        "``icu_patients_per_million``: Número de pacientes COVID-19 em unidades de terapia intensiva (UTIs) no mesmo dia, por milhão.\n",
        "\n",
        "``hosp_patients``: Número de pacientes da COVID-19 no hospital em um determinado dia.\n",
        "\n",
        "``hosp_patients_per_million``: Número de pacientes da COVID-19 no hospital em um determinado dia, por milhão.\n",
        "\n",
        "``weekly_icu_admissions``: Número de pacientes COVID-19 recém admitidos em unidades de terapia intensiva (UTIs) na mesma semana.\n",
        "\n",
        "``weekly_icu_admissions_per_million`` Número de pacientes COVID-19 recém admitidos em unidades de terapia intensiva (UTIs) na mesma semana, por milhão.\n",
        "\n",
        "``weekly_hosp_admissions``:\tNúmero de pacientes COVID-19 recém admitidos em hospitais na mesma semana\n",
        "\n",
        "``weekly_hosp_admissions_per_million``:\tNúmero de pacientes COVID-19 recém admitidos em hospitais na mesma semana, por milhão. \n",
        "\n",
        "``total_tests``: Total de teste de COVID-19 realizados\n",
        "\n",
        "``new_tests``: Novos testes para a COVID-19 (apenas calculados para dias consecutivos)\n",
        "\n",
        "``total_tests_per_thousand``: Total de testes por mil\n",
        "\n",
        "``new_tests_per_thousand``Novos testes de COVID-19 por mil\n",
        "\n",
        "``new_tests_smoothed``: Novos testes para COVID-19, suavizado.\n",
        "\n",
        "``new_tests_smoothed_per_thousand``: Novos testes para COVID-19, suavizados, por mil.\n",
        "\n",
        "``positive_rate``: A parte dos testes de COVID-19 que são positivos, dada como média móvel de 7 dias.\n",
        "\n",
        "``tests_per_case``: Testes realizados por novo caso confirmado de COVID-19, dado como uma média móvel de 7 dias.\n",
        "\n",
        "``tests_units``: Tipos de unidades usadas pelo local para relatar seus dados de teste\n",
        "\n",
        "``total_vaccinations``: Número total de doses de vacinação COVID-19 administradas\n",
        "\n",
        "``people_vaccinated``: Número total de pessoas que receberam pelo menos uma dose de vacina\n",
        "\n",
        "``people_fully_vaccinated``: Número total de pessoas que receberam todas as doses prescritas pelo protocolo de vacinação\n",
        "\n",
        "``new_vaccinations``: Novas doses de vacinação COVID-19 administradas (calculadas apenas para dias consecutivos)\n",
        "\n",
        "``new_vaccinations_smoothed``: Novas doses de vacinação COVID-19 administradas (7 dias de suvização).\n",
        "\n",
        "``total_vaccinations_per_hundred``: Número total de doses de vacinação COVID-19 administradas por 100 pessoas na população total\n",
        "\n",
        "``people_vaccinated_per_hundred``: Número total de pessoas que receberam pelo menos uma dose de vacina por 100 pessoas na população total\n",
        "\n",
        "``people_fully_vaccinated_per_hundred``: Número total de pessoas que receberam todas as doses prescritas pelo protocolo de vacinação por 100 pessoas na população total\n",
        "\n",
        "``new_vaccinations_smoothed_per_million``: Novas doses de vacinação COVID-19 administradas (suavizadas em 7 dias) por milhão de pessoas na população total\n",
        "\n",
        "``stringency_index``: Índice de Restrição de Resposta do Governo: medida composta com base em 9 indicadores de resposta (fechamentos de escolas, fechamentos de locais de trabalho e proibições de viagens, etc) valores de 0 a 100 (100 = resposta mais estrita)\n",
        "\n",
        "``population``: População em 2020\n",
        "\n",
        "``population_density``: Densidade populacional(Número de pessoas dividido por área, medido em quilômetros quadrados)\n",
        "\n",
        "``median_age``:Idade média da população\n",
        "\n",
        "``aged_65_older``: Parcela da população com 65 anos ou mais\n",
        "\n",
        "``aged_70_older``: Parcela da população com 70 anos ou mais em 2015\n",
        "\n",
        "``gdp_per_capita``: Produto interno bruto em paridade de poder de compra\n",
        "\n",
        "``extreme_poverty``: Parcela da população que vive em pobreza extrema, ano mais recente disponível desde 2010\n",
        "\n",
        "``cardiovasc_death_rate``: Taxa de mortalidade por doenças cardiovasculares em 2017 \n",
        "\n",
        "``diabetes_prevalence``: Prevalência de diabetes (% da população de 20 a 79 anos) em 2017\n",
        "\n",
        "``female_smokers``: Parcela de mulheres que fumam, ano mais recente disponível\n",
        "\n",
        "``male_smokers``: Parcela de homens que fumam, ano mais recente disponível\n",
        "\n",
        "``handwashing_facilities``: Parcela da população com instalações básicas para lavagem das mãos no local\n",
        "\n",
        "``hospital_beds_per_thousand``: Leitos hospitalares por 1.000 pessoas, ano mais recente disponível desde 2010\n",
        "\n",
        "``life_expectancy``: Expectativa de vida ao nascer em 2019\n",
        "\n",
        "``human_development_index``: Indice de desenvolvimento humano"
      ]
    },
    {
      "cell_type": "markdown",
      "metadata": {
        "id": "Ro-qaflFQLV8"
      },
      "source": [
        "###Tratamento dos Dados"
      ]
    },
    {
      "cell_type": "markdown",
      "metadata": {
        "id": "3LrgfhbaQnU8"
      },
      "source": [
        "\n",
        "\n",
        "> O dataset possue muitos dados, o que é bom para uma analise bem fundamentada e geração de insights, porém é importante resaltar se todas essas linhas estão prenchidas.\n",
        "\n",
        "\n"
      ]
    },
    {
      "cell_type": "code",
      "metadata": {
        "id": "jvVCTSulacyg",
        "colab": {
          "base_uri": "https://localhost:8080/"
        },
        "outputId": "7f3700f5-81e1-43f5-aa17-306dbf9ae174"
      },
      "source": [
        "df.shape"
      ],
      "execution_count": 326,
      "outputs": [
        {
          "output_type": "execute_result",
          "data": {
            "text/plain": [
              "(104802, 59)"
            ]
          },
          "metadata": {
            "tags": []
          },
          "execution_count": 326
        }
      ]
    },
    {
      "cell_type": "markdown",
      "metadata": {
        "id": "aP0CU3A6IC7u"
      },
      "source": [
        "\n",
        "\n",
        "> Importante analisar a porcentagem de valores nulos do dataset, neste exemplo é possível ver que algumas colunas chegam a ter níveis muito altos de valores NaN, para nossa análise a melhor opção é excluí-los. \n",
        "\n"
      ]
    },
    {
      "cell_type": "code",
      "metadata": {
        "id": "qZ7bJeUm-E6h",
        "colab": {
          "base_uri": "https://localhost:8080/"
        },
        "outputId": "3eef2f6e-009b-4d16-fb92-75f3222ed225"
      },
      "source": [
        "#Chegado porcentagem de elementos nulos\n",
        "#df.isnull().sum()/df.shape[0]*100\n",
        "(df.isnull().sum()/df.shape[0]*100).sort_values(ascending=False)"
      ],
      "execution_count": 327,
      "outputs": [
        {
          "output_type": "execute_result",
          "data": {
            "text/plain": [
              "weekly_icu_admissions                    99.078262\n",
              "weekly_icu_admissions_per_million        99.078262\n",
              "weekly_hosp_admissions                   98.358810\n",
              "weekly_hosp_admissions_per_million       98.358810\n",
              "excess_mortality                         96.497204\n",
              "icu_patients                             89.647144\n",
              "icu_patients_per_million                 89.647144\n",
              "hosp_patients                            87.492605\n",
              "hosp_patients_per_million                87.492605\n",
              "people_fully_vaccinated_per_hundred      85.275090\n",
              "people_fully_vaccinated                  85.275090\n",
              "new_vaccinations                         84.760787\n",
              "people_vaccinated                        82.485067\n",
              "people_vaccinated_per_hundred            82.485067\n",
              "total_vaccinations_per_hundred           81.708364\n",
              "total_vaccinations                       81.708364\n",
              "new_vaccinations_smoothed_per_million    68.050228\n",
              "new_vaccinations_smoothed                68.050228\n",
              "total_tests                              55.658289\n",
              "total_tests_per_thousand                 55.658289\n",
              "new_tests_per_thousand                   55.365356\n",
              "new_tests                                55.365356\n",
              "handwashing_facilities                   55.074331\n",
              "tests_per_case                           51.940803\n",
              "positive_rate                            51.350165\n",
              "new_tests_smoothed                       47.904620\n",
              "new_tests_smoothed_per_thousand          47.904620\n",
              "tests_units                              46.236713\n",
              "extreme_poverty                          39.719662\n",
              "male_smokers                             31.094826\n",
              "female_smokers                           30.071945\n",
              "reproduction_rate                        19.245816\n",
              "hospital_beds_per_thousand               18.564531\n",
              "stringency_index                         16.574111\n",
              "total_deaths_per_million                 14.324154\n",
              "new_deaths_per_million                   14.176256\n",
              "total_deaths                             13.827026\n",
              "new_deaths                               13.679128\n",
              "aged_65_older                            11.890994\n",
              "aged_70_older                            11.384325\n",
              "median_age                               10.892922\n",
              "cardiovasc_death_rate                    10.555142\n",
              "gdp_per_capita                           10.513158\n",
              "human_development_index                  10.441595\n",
              "diabetes_prevalence                       8.145837\n",
              "population_density                        7.178298\n",
              "new_deaths_smoothed_per_million           5.476995\n",
              "new_cases_smoothed_per_million            5.476995\n",
              "life_expectancy                           5.060972\n",
              "new_cases_smoothed                        4.972233\n",
              "new_deaths_smoothed                       4.972233\n",
              "continent                                 4.652583\n",
              "new_cases_per_million                     4.518044\n",
              "total_cases_per_million                   4.515181\n",
              "new_cases                                 4.008511\n",
              "total_cases                               4.005649\n",
              "population                                0.666972\n",
              "location                                  0.000000\n",
              "iso_code                                  0.000000\n",
              "dtype: float64"
            ]
          },
          "metadata": {
            "tags": []
          },
          "execution_count": 327
        }
      ]
    },
    {
      "cell_type": "code",
      "metadata": {
        "colab": {
          "base_uri": "https://localhost:8080/"
        },
        "id": "VZpQqxqzm1Nn",
        "outputId": "9e49f2ba-5f6f-46bb-dc89-087f55723aba"
      },
      "source": [
        "#Quantidade de valores nulos em cada tabela\n",
        "df.isnull().sum()"
      ],
      "execution_count": 328,
      "outputs": [
        {
          "output_type": "execute_result",
          "data": {
            "text/plain": [
              "iso_code                                      0\n",
              "continent                                  4876\n",
              "location                                      0\n",
              "total_cases                                4198\n",
              "new_cases                                  4201\n",
              "new_cases_smoothed                         5211\n",
              "total_deaths                              14491\n",
              "new_deaths                                14336\n",
              "new_deaths_smoothed                        5211\n",
              "total_cases_per_million                    4732\n",
              "new_cases_per_million                      4735\n",
              "new_cases_smoothed_per_million             5740\n",
              "total_deaths_per_million                  15012\n",
              "new_deaths_per_million                    14857\n",
              "new_deaths_smoothed_per_million            5740\n",
              "reproduction_rate                         20170\n",
              "icu_patients                              93952\n",
              "icu_patients_per_million                  93952\n",
              "hosp_patients                             91694\n",
              "hosp_patients_per_million                 91694\n",
              "weekly_icu_admissions                    103836\n",
              "weekly_icu_admissions_per_million        103836\n",
              "weekly_hosp_admissions                   103082\n",
              "weekly_hosp_admissions_per_million       103082\n",
              "new_tests                                 58024\n",
              "total_tests                               58331\n",
              "total_tests_per_thousand                  58331\n",
              "new_tests_per_thousand                    58024\n",
              "new_tests_smoothed                        50205\n",
              "new_tests_smoothed_per_thousand           50205\n",
              "positive_rate                             53816\n",
              "tests_per_case                            54435\n",
              "tests_units                               48457\n",
              "total_vaccinations                        85632\n",
              "people_vaccinated                         86446\n",
              "people_fully_vaccinated                   89370\n",
              "new_vaccinations                          88831\n",
              "new_vaccinations_smoothed                 71318\n",
              "total_vaccinations_per_hundred            85632\n",
              "people_vaccinated_per_hundred             86446\n",
              "people_fully_vaccinated_per_hundred       89370\n",
              "new_vaccinations_smoothed_per_million     71318\n",
              "stringency_index                          17370\n",
              "population                                  699\n",
              "population_density                         7523\n",
              "median_age                                11416\n",
              "aged_65_older                             12462\n",
              "aged_70_older                             11931\n",
              "gdp_per_capita                            11018\n",
              "extreme_poverty                           41627\n",
              "cardiovasc_death_rate                     11062\n",
              "diabetes_prevalence                        8537\n",
              "female_smokers                            31516\n",
              "male_smokers                              32588\n",
              "handwashing_facilities                    57719\n",
              "hospital_beds_per_thousand                19456\n",
              "life_expectancy                            5304\n",
              "human_development_index                   10943\n",
              "excess_mortality                         101131\n",
              "dtype: int64"
            ]
          },
          "metadata": {
            "tags": []
          },
          "execution_count": 328
        }
      ]
    },
    {
      "cell_type": "code",
      "metadata": {
        "colab": {
          "base_uri": "https://localhost:8080/"
        },
        "id": "Yz4AUFCGyKsL",
        "outputId": "55ce3429-2eaa-4978-d51f-9667a96eb739"
      },
      "source": [
        "#quantidade de linhas\n",
        "df.shape[0]"
      ],
      "execution_count": 329,
      "outputs": [
        {
          "output_type": "execute_result",
          "data": {
            "text/plain": [
              "104802"
            ]
          },
          "metadata": {
            "tags": []
          },
          "execution_count": 329
        }
      ]
    },
    {
      "cell_type": "code",
      "metadata": {
        "id": "uerpXC7ODxUF"
      },
      "source": [
        "#copiando o dataset df para df2, para poder trabalhar sem alterar o dataset original \n",
        "df2 = df"
      ],
      "execution_count": 331,
      "outputs": []
    },
    {
      "cell_type": "code",
      "metadata": {
        "id": "uceK9U5_yNhh"
      },
      "source": [
        "#Excluindo as colunas com até 90% de valores missing\n",
        "df2 = df2.dropna(thresh=int(df2.shape[0]*.1), axis=1)"
      ],
      "execution_count": 332,
      "outputs": []
    },
    {
      "cell_type": "markdown",
      "metadata": {
        "id": "XNbr32VcSO0h"
      },
      "source": [
        "\n",
        "\n",
        "> Veja que agora não temos aquelas colunas com porcentagens tão alta de valores missing\n",
        "\n"
      ]
    },
    {
      "cell_type": "code",
      "metadata": {
        "colab": {
          "base_uri": "https://localhost:8080/"
        },
        "id": "ucKolIz5Btf9",
        "outputId": "2a05577b-8fc3-4dab-8bdb-48afc55aafa2"
      },
      "source": [
        "df2.isnull().sum()/df.shape[0]*100"
      ],
      "execution_count": 333,
      "outputs": [
        {
          "output_type": "execute_result",
          "data": {
            "text/plain": [
              "iso_code                                  0.000000\n",
              "continent                                 4.652583\n",
              "location                                  0.000000\n",
              "total_cases                               4.005649\n",
              "new_cases                                 4.008511\n",
              "new_cases_smoothed                        4.972233\n",
              "total_deaths                             13.827026\n",
              "new_deaths                               13.679128\n",
              "new_deaths_smoothed                       4.972233\n",
              "total_cases_per_million                   4.515181\n",
              "new_cases_per_million                     4.518044\n",
              "new_cases_smoothed_per_million            5.476995\n",
              "total_deaths_per_million                 14.324154\n",
              "new_deaths_per_million                   14.176256\n",
              "new_deaths_smoothed_per_million           5.476995\n",
              "reproduction_rate                        19.245816\n",
              "icu_patients                             89.647144\n",
              "icu_patients_per_million                 89.647144\n",
              "hosp_patients                            87.492605\n",
              "hosp_patients_per_million                87.492605\n",
              "new_tests                                55.365356\n",
              "total_tests                              55.658289\n",
              "total_tests_per_thousand                 55.658289\n",
              "new_tests_per_thousand                   55.365356\n",
              "new_tests_smoothed                       47.904620\n",
              "new_tests_smoothed_per_thousand          47.904620\n",
              "positive_rate                            51.350165\n",
              "tests_per_case                           51.940803\n",
              "tests_units                              46.236713\n",
              "total_vaccinations                       81.708364\n",
              "people_vaccinated                        82.485067\n",
              "people_fully_vaccinated                  85.275090\n",
              "new_vaccinations                         84.760787\n",
              "new_vaccinations_smoothed                68.050228\n",
              "total_vaccinations_per_hundred           81.708364\n",
              "people_vaccinated_per_hundred            82.485067\n",
              "people_fully_vaccinated_per_hundred      85.275090\n",
              "new_vaccinations_smoothed_per_million    68.050228\n",
              "stringency_index                         16.574111\n",
              "population                                0.666972\n",
              "population_density                        7.178298\n",
              "median_age                               10.892922\n",
              "aged_65_older                            11.890994\n",
              "aged_70_older                            11.384325\n",
              "gdp_per_capita                           10.513158\n",
              "extreme_poverty                          39.719662\n",
              "cardiovasc_death_rate                    10.555142\n",
              "diabetes_prevalence                       8.145837\n",
              "female_smokers                           30.071945\n",
              "male_smokers                             31.094826\n",
              "handwashing_facilities                   55.074331\n",
              "hospital_beds_per_thousand               18.564531\n",
              "life_expectancy                           5.060972\n",
              "human_development_index                  10.441595\n",
              "dtype: float64"
            ]
          },
          "metadata": {
            "tags": []
          },
          "execution_count": 333
        }
      ]
    },
    {
      "cell_type": "markdown",
      "metadata": {
        "id": "CdKoWncwG4hE"
      },
      "source": [
        "###Análise Exploratória\n"
      ]
    },
    {
      "cell_type": "markdown",
      "metadata": {
        "id": "qo4Ix7MRprbl"
      },
      "source": [
        "#### 5 Paises com maior número de mortes\n",
        "Valor atualizado no dia \"2021-07-04\"(EUA format). \n",
        "\n",
        "A coluna ``locations`` mostra os continentes Europa, Africa, etc porém não queremos ver continentes e sim países então no código acima filtramos todos os continentes permanecendo somente os paises.\n",
        "\n",
        "`top5_Countries` irá mostrar os PAISES com maior número de mortes.\n",
        "\n"
      ]
    },
    {
      "cell_type": "code",
      "metadata": {
        "id": "1d9cBny23g5C",
        "cellView": "form"
      },
      "source": [
        "#@title\n",
        "#gráfico de barras paras os 5 paises com maior número de mortos\n",
        "\n",
        "top5_Countries = df2.loc[(df.index == \"2021-07-04\") & (df.location!=\"World\") & (df.location!=\"North America\") & (df.location!='South America') &\n",
        "                          (df.location!='Europe') & (df.location!='Africa') & (df.location!=\"Asia\") & (df['location']!=\"European Union\"),\n",
        "                         ['location', 'total_deaths']].sort_values(by='total_deaths', ascending=False)[0:5]\n"
      ],
      "execution_count": 334,
      "outputs": []
    },
    {
      "cell_type": "code",
      "metadata": {
        "colab": {
          "base_uri": "https://localhost:8080/",
          "height": 265
        },
        "id": "wfhwRXYrIajV",
        "outputId": "c25d1afc-2583-40e2-b7e6-4951f9da52dd"
      },
      "source": [
        "#maior número de mortes acumulado por país\n",
        "plt.bar('location', 'total_deaths', data=top5_Countries)\n",
        "plt.show()"
      ],
      "execution_count": 335,
      "outputs": [
        {
          "output_type": "display_data",
          "data": {
            "image/png": "[encoded data removed]",
            "text/plain": [
              "<Figure size 432x288 with 1 Axes>"
            ]
          },
          "metadata": {
            "tags": []
          }
        }
      ]
    },
    {
      "cell_type": "markdown",
      "metadata": {
        "id": "SLYuA_K0qqzF"
      },
      "source": [
        "Os 5 maiores valores de `locations` mostra o número de mortes se encontra nos continentes da Europa e America do Sul, o que faz total sentido já que os grupos são na verdade um conjunto de vários paises."
      ]
    },
    {
      "cell_type": "code",
      "metadata": {
        "id": "YtC1GYJXn_NL"
      },
      "source": [
        "top5_locations = df2.loc[df.index == \"2021-07-04\", ['location', 'total_deaths']].sort_values(by='total_deaths', ascending=False)[1:6]"
      ],
      "execution_count": 336,
      "outputs": []
    },
    {
      "cell_type": "code",
      "metadata": {
        "id": "qNNvGdg2LLbF",
        "colab": {
          "base_uri": "https://localhost:8080/",
          "height": 360
        },
        "outputId": "1e7e6790-57f9-408b-ef09-383e0fb10847"
      },
      "source": [
        "top5_locations.plot(kind=\"bar\", x='location', y='total_deaths')\n",
        "plt.show()"
      ],
      "execution_count": 337,
      "outputs": [
        {
          "output_type": "display_data",
          "data": {
            "image/png": "[encoded data removed]",
            "text/plain": [
              "<Figure size 432x288 with 1 Axes>"
            ]
          },
          "metadata": {
            "tags": []
          }
        }
      ]
    },
    {
      "cell_type": "markdown",
      "metadata": {
        "id": "l_P0u0iBmqJV"
      },
      "source": [
        "#### Fumantes e número de mortes\n",
        "Analisando a relação de pessoas fumantes e o número de mortes vemos que na verdade não existe uma correlação muito forte, na análise gráfica vemos que o sexo masculino possue uma corelaão maior que o publico feminino porém nada conclusivo. "
      ]
    },
    {
      "cell_type": "code",
      "metadata": {
        "id": "G3uCf5YiQEy2",
        "colab": {
          "base_uri": "https://localhost:8080/",
          "height": 236
        },
        "outputId": "417c1362-e7e1-4350-bb1b-33d2f2c6dee2"
      },
      "source": [
        "#Pegando a data mais recente juntamente com os valores NÃO nulos de fumantes(ambos os sexos) e ordenando por mortes por milhão\n",
        "df_fumo = df2.loc[(df2.index == \"2021-07-04\") & (df2['male_smokers'].isna() == False) & (df2['female_smokers'].isna() == False) \n",
        "& (df2['total_deaths_per_million'] >= 0),['male_smokers', 'female_smokers', 'total_deaths_per_million']].sort_values(by='total_deaths_per_million', ascending=False)[0:]\n",
        "\n",
        "df_fumo.head()"
      ],
      "execution_count": 338,
      "outputs": [
        {
          "output_type": "execute_result",
          "data": {
            "text/html": [
              "<div>\n",
              "<style scoped>\n",
              "    .dataframe tbody tr th:only-of-type {\n",
              "        vertical-align: middle;\n",
              "    }\n",
              "\n",
              "    .dataframe tbody tr th {\n",
              "        vertical-align: top;\n",
              "    }\n",
              "\n",
              "    .dataframe thead th {\n",
              "        text-align: right;\n",
              "    }\n",
              "</style>\n",
              "<table border=\"1\" class=\"dataframe\">\n",
              "  <thead>\n",
              "    <tr style=\"text-align: right;\">\n",
              "      <th></th>\n",
              "      <th>male_smokers</th>\n",
              "      <th>female_smokers</th>\n",
              "      <th>total_deaths_per_million</th>\n",
              "    </tr>\n",
              "    <tr>\n",
              "      <th>date</th>\n",
              "      <th></th>\n",
              "      <th></th>\n",
              "      <th></th>\n",
              "    </tr>\n",
              "  </thead>\n",
              "  <tbody>\n",
              "    <tr>\n",
              "      <th>2021-07-04</th>\n",
              "      <td>34.8</td>\n",
              "      <td>26.8</td>\n",
              "      <td>3104.649</td>\n",
              "    </tr>\n",
              "    <tr>\n",
              "      <th>2021-07-04</th>\n",
              "      <td>47.7</td>\n",
              "      <td>30.2</td>\n",
              "      <td>2946.524</td>\n",
              "    </tr>\n",
              "    <tr>\n",
              "      <th>2021-07-04</th>\n",
              "      <td>38.3</td>\n",
              "      <td>30.5</td>\n",
              "      <td>2830.334</td>\n",
              "    </tr>\n",
              "    <tr>\n",
              "      <th>2021-07-04</th>\n",
              "      <td>44.4</td>\n",
              "      <td>30.1</td>\n",
              "      <td>2602.597</td>\n",
              "    </tr>\n",
              "    <tr>\n",
              "      <th>2021-07-04</th>\n",
              "      <td>47.9</td>\n",
              "      <td>44.0</td>\n",
              "      <td>2571.402</td>\n",
              "    </tr>\n",
              "  </tbody>\n",
              "</table>\n",
              "</div>"
            ],
            "text/plain": [
              "            male_smokers  female_smokers  total_deaths_per_million\n",
              "date                                                              \n",
              "2021-07-04          34.8            26.8                  3104.649\n",
              "2021-07-04          47.7            30.2                  2946.524\n",
              "2021-07-04          38.3            30.5                  2830.334\n",
              "2021-07-04          44.4            30.1                  2602.597\n",
              "2021-07-04          47.9            44.0                  2571.402"
            ]
          },
          "metadata": {
            "tags": []
          },
          "execution_count": 338
        }
      ]
    },
    {
      "cell_type": "code",
      "metadata": {
        "colab": {
          "base_uri": "https://localhost:8080/",
          "height": 279
        },
        "id": "PQduBC4OBvL4",
        "cellView": "form",
        "outputId": "a500f12a-1e0c-4a31-eaf8-d10d8d099474"
      },
      "source": [
        "#@title\n",
        "fig, (ax1, ax2) = plt.subplots(nrows=1, ncols=2, figsize=(14,4))\n",
        "plt.subplot(1,2,1)\n",
        "plt.scatter(df_fumo.total_deaths_per_million, df_fumo.male_smokers)\n",
        "plt.ylabel('porcentagem de fumantes (feminino)')\n",
        "plt.xlabel('total de mortes por milhão')\n",
        "\n",
        "plt.subplot(1,2,2)\n",
        "plt.scatter(df_fumo.total_deaths_per_million, df_fumo.female_smokers)\n",
        "plt.ylabel('porcentagem de fumantes (masculino)')\n",
        "plt.xlabel('total de mortes por milhão')\n",
        "\n",
        "plt.show()"
      ],
      "execution_count": 339,
      "outputs": [
        {
          "output_type": "display_data",
          "data": {
            "image/png": "[encoded data removed]",
            "text/plain": [
              "<Figure size 1008x288 with 2 Axes>"
            ]
          },
          "metadata": {
            "tags": []
          }
        }
      ]
    },
    {
      "cell_type": "markdown",
      "metadata": {
        "id": "zWjYnWTtT00K"
      },
      "source": [
        "#### Renda per capita VS total de casos\n",
        "Relacionar a renda per capita com o total de casos, a fim de indetificar a contaminação é diferente em paises ricos e pobres.\n",
        "\n",
        "Como é possivel visualizar no gráfico ordenado por renda, há uma relação do total de casos com reda per capita uma vez que conforme esse indice vai diminuindo aumenta o número de casos. Para que essa relação tenha valor também fazemos a relação de total de casos com IDH(indice de desenvolvimento humano) "
      ]
    },
    {
      "cell_type": "markdown",
      "metadata": {
        "id": "FSM8Xqch8VJa"
      },
      "source": [
        "####Total de mortes"
      ]
    },
    {
      "cell_type": "code",
      "metadata": {
        "colab": {
          "base_uri": "https://localhost:8080/"
        },
        "id": "nqETwmMYTrqi",
        "outputId": "29ca191e-b9d6-461a-8c1d-24f36a0a22ea"
      },
      "source": [
        "#ordenado do 2 elemento para frente, uma vez que o primeiro na lista é o Word e não queremos ver o mundo\n",
        "#e sim as partes dele.\n",
        "df_renda = df2.loc[(df2.index == \"2021-07-04\") & (df2['gdp_per_capita'].isna() == False) \n",
        "& (df2['total_cases_per_million'] >= 0),['location', 'gdp_per_capita', 'total_cases_per_million']].sort_values(by='gdp_per_capita', ascending=False)[0:]\n",
        "print(\"Renda: \\n\", df_renda)"
      ],
      "execution_count": 340,
      "outputs": [
        {
          "output_type": "stream",
          "text": [
            "Renda: \n",
            "                                 location  ...  total_cases_per_million\n",
            "date                                      ...                         \n",
            "2021-07-04                         Qatar  ...                77254.205\n",
            "2021-07-04                    Luxembourg  ...               113472.401\n",
            "2021-07-04                     Singapore  ...                10703.133\n",
            "2021-07-04                        Brunei  ...                  598.880\n",
            "2021-07-04                       Ireland  ...                55552.315\n",
            "...                                  ...  ...                      ...\n",
            "2021-07-04                         Niger  ...                  227.458\n",
            "2021-07-04  Democratic Republic of Congo  ...                  470.973\n",
            "2021-07-04                       Liberia  ...                  893.691\n",
            "2021-07-04                       Burundi  ...                  462.039\n",
            "2021-07-04      Central African Republic  ...                 1478.540\n",
            "\n",
            "[185 rows x 3 columns]\n"
          ],
          "name": "stdout"
        }
      ]
    },
    {
      "cell_type": "code",
      "metadata": {
        "id": "dleDtQnXJ005"
      },
      "source": [
        "#pegando somente os dados do array\n",
        "df_Rarray = df_renda.values"
      ],
      "execution_count": 341,
      "outputs": []
    },
    {
      "cell_type": "code",
      "metadata": {
        "id": "-pi-V1wfpDe0",
        "cellView": "form"
      },
      "source": [
        "#@title\n",
        "#normalização do array de renda\n",
        "Rnormalized1 = (df_Rarray[:,1] - min(df_Rarray[:,1])) / (max(df_Rarray[:,1]) - min(df_Rarray[:,1]))\n",
        "Rnormalized2 = (df_Rarray[:,2] - min(df_Rarray[:,2])) / (max(df_Rarray[:,2]) - min(df_Rarray[:,2]))"
      ],
      "execution_count": 342,
      "outputs": []
    },
    {
      "cell_type": "code",
      "metadata": {
        "id": "mr_X9kvKhjLT",
        "colab": {
          "base_uri": "https://localhost:8080/"
        },
        "cellView": "form",
        "outputId": "4ebe0f81-fee3-4b01-9e69-c1efca0a3e76"
      },
      "source": [
        "#@title\n",
        "df01 = pd.DataFrame(df_Rarray[:,0])\n",
        "df02 = pd.DataFrame(Rnormalized1)\n",
        "df03 = pd.DataFrame(Rnormalized2)\n",
        "dfR_unido = pd.concat([df01, df02, df03], axis=1, join='inner')\n",
        "dfR_unido.set_axis(['pais', 'renda per capita', 'total de casos'], axis=1, inplace=True)\n",
        "print(dfR_unido)"
      ],
      "execution_count": 343,
      "outputs": [
        {
          "output_type": "stream",
          "text": [
            "                             pais renda per capita total de casos\n",
            "0                           Qatar                1       0.479078\n",
            "1                      Luxembourg         0.805136       0.703704\n",
            "2                       Singapore         0.729947       0.066328\n",
            "3                          Brunei         0.611898     0.00366141\n",
            "4                         Ireland          0.57342       0.344483\n",
            "..                            ...              ...            ...\n",
            "180                         Niger       0.00227703     0.00135785\n",
            "181  Democratic Republic of Congo       0.00126333     0.00286813\n",
            "182                       Liberia      0.000787345     0.00548983\n",
            "183                       Burundi      0.000352485     0.00281272\n",
            "184      Central African Republic                0     0.00911707\n",
            "\n",
            "[185 rows x 3 columns]\n"
          ],
          "name": "stdout"
        }
      ]
    },
    {
      "cell_type": "code",
      "metadata": {
        "colab": {
          "base_uri": "https://localhost:8080/",
          "height": 279
        },
        "id": "3B5IOpZ2WLbz",
        "cellView": "form",
        "outputId": "e0edcbd8-8716-4375-c85b-96de9b5e4db3"
      },
      "source": [
        "#@title\n",
        "labels = dfR_unido.pais\n",
        "y1 = dfR_unido['renda per capita']\n",
        "y2 = dfR_unido['total de casos']\n",
        "\n",
        "fig, ax1 = plt.subplots(nrows=1, ncols=1, figsize=(14,4))\n",
        "plt.subplot(1,2,1)\n",
        "plt.scatter(y1, y2)\n",
        "plt.ylabel('renda per capita')\n",
        "plt.xlabel('total de mortes por milhão')\n",
        "\n",
        "\n",
        "plt.show()"
      ],
      "execution_count": 344,
      "outputs": [
        {
          "output_type": "display_data",
          "data": {
            "image/png": "[encoded data removed]",
            "text/plain": [
              "<Figure size 1008x288 with 1 Axes>"
            ]
          },
          "metadata": {
            "tags": []
          }
        }
      ]
    },
    {
      "cell_type": "markdown",
      "metadata": {
        "id": "9cFg89hOt6U5"
      },
      "source": [
        "Analisando o IDH pelo número de mortes é possivel considerar que quando o IDH do país é alto há maior casos quando comparado com paises com IDH baixo. Existem vários fatores que podem fazer isso acontecer e analisar somente a relação entre duas variáveis é algo muito superfluo para se ter uma conclução. Alguns desses fatores só pode ser observado por quem vive o dia a dia no local que é algo não perceptivel apenas analisando dados. Uma hipótese formulada pelo autor é de que os paises com IDH mais alto possuem uma melhor estrutura para coletar dados de forma mais precisa, além de ter uma contagem populacional e de infectados mais exata, em comparação com os paises de IDH baixo, da tal são economicamente mais pobres. "
      ]
    },
    {
      "cell_type": "markdown",
      "metadata": {
        "id": "OI60TWk98Qic"
      },
      "source": [
        "####Total de casos"
      ]
    },
    {
      "cell_type": "code",
      "metadata": {
        "colab": {
          "base_uri": "https://localhost:8080/",
          "height": 454
        },
        "id": "R9qea3h_j69i",
        "outputId": "bd237184-73f2-4d52-b56e-38ebf3a3fda3"
      },
      "source": [
        "#filtrando com loc o IDH e totl de casos p/ milhão\n",
        "df_idh = df2.loc[(df2.index == \"2021-07-04\") & (df2['human_development_index'].isna() == False) \n",
        "& (df2['total_cases_per_million'] >= 0),['location', 'human_development_index', 'total_cases_per_million']].sort_values(by='human_development_index', ascending=False)[1:]\n",
        "df_idh"
      ],
      "execution_count": 345,
      "outputs": [
        {
          "output_type": "execute_result",
          "data": {
            "text/html": [
              "<div>\n",
              "<style scoped>\n",
              "    .dataframe tbody tr th:only-of-type {\n",
              "        vertical-align: middle;\n",
              "    }\n",
              "\n",
              "    .dataframe tbody tr th {\n",
              "        vertical-align: top;\n",
              "    }\n",
              "\n",
              "    .dataframe thead th {\n",
              "        text-align: right;\n",
              "    }\n",
              "</style>\n",
              "<table border=\"1\" class=\"dataframe\">\n",
              "  <thead>\n",
              "    <tr style=\"text-align: right;\">\n",
              "      <th></th>\n",
              "      <th>location</th>\n",
              "      <th>human_development_index</th>\n",
              "      <th>total_cases_per_million</th>\n",
              "    </tr>\n",
              "    <tr>\n",
              "      <th>date</th>\n",
              "      <th></th>\n",
              "      <th></th>\n",
              "      <th></th>\n",
              "    </tr>\n",
              "  </thead>\n",
              "  <tbody>\n",
              "    <tr>\n",
              "      <th>2021-07-04</th>\n",
              "      <td>Ireland</td>\n",
              "      <td>0.955</td>\n",
              "      <td>55552.315</td>\n",
              "    </tr>\n",
              "    <tr>\n",
              "      <th>2021-07-04</th>\n",
              "      <td>Switzerland</td>\n",
              "      <td>0.955</td>\n",
              "      <td>81266.903</td>\n",
              "    </tr>\n",
              "    <tr>\n",
              "      <th>2021-07-04</th>\n",
              "      <td>Hong Kong</td>\n",
              "      <td>0.949</td>\n",
              "      <td>1592.906</td>\n",
              "    </tr>\n",
              "    <tr>\n",
              "      <th>2021-07-04</th>\n",
              "      <td>Iceland</td>\n",
              "      <td>0.949</td>\n",
              "      <td>19498.901</td>\n",
              "    </tr>\n",
              "    <tr>\n",
              "      <th>2021-07-04</th>\n",
              "      <td>Germany</td>\n",
              "      <td>0.947</td>\n",
              "      <td>44620.363</td>\n",
              "    </tr>\n",
              "    <tr>\n",
              "      <th>...</th>\n",
              "      <td>...</td>\n",
              "      <td>...</td>\n",
              "      <td>...</td>\n",
              "    </tr>\n",
              "    <tr>\n",
              "      <th>2021-07-04</th>\n",
              "      <td>Burundi</td>\n",
              "      <td>0.433</td>\n",
              "      <td>462.039</td>\n",
              "    </tr>\n",
              "    <tr>\n",
              "      <th>2021-07-04</th>\n",
              "      <td>South Sudan</td>\n",
              "      <td>0.433</td>\n",
              "      <td>970.722</td>\n",
              "    </tr>\n",
              "    <tr>\n",
              "      <th>2021-07-04</th>\n",
              "      <td>Chad</td>\n",
              "      <td>0.398</td>\n",
              "      <td>301.415</td>\n",
              "    </tr>\n",
              "    <tr>\n",
              "      <th>2021-07-04</th>\n",
              "      <td>Central African Republic</td>\n",
              "      <td>0.397</td>\n",
              "      <td>1478.540</td>\n",
              "    </tr>\n",
              "    <tr>\n",
              "      <th>2021-07-04</th>\n",
              "      <td>Niger</td>\n",
              "      <td>0.394</td>\n",
              "      <td>227.458</td>\n",
              "    </tr>\n",
              "  </tbody>\n",
              "</table>\n",
              "<p>186 rows × 3 columns</p>\n",
              "</div>"
            ],
            "text/plain": [
              "                            location  ...  total_cases_per_million\n",
              "date                                  ...                         \n",
              "2021-07-04                   Ireland  ...                55552.315\n",
              "2021-07-04               Switzerland  ...                81266.903\n",
              "2021-07-04                 Hong Kong  ...                 1592.906\n",
              "2021-07-04                   Iceland  ...                19498.901\n",
              "2021-07-04                   Germany  ...                44620.363\n",
              "...                              ...  ...                      ...\n",
              "2021-07-04                   Burundi  ...                  462.039\n",
              "2021-07-04               South Sudan  ...                  970.722\n",
              "2021-07-04                      Chad  ...                  301.415\n",
              "2021-07-04  Central African Republic  ...                 1478.540\n",
              "2021-07-04                     Niger  ...                  227.458\n",
              "\n",
              "[186 rows x 3 columns]"
            ]
          },
          "metadata": {
            "tags": []
          },
          "execution_count": 345
        }
      ]
    },
    {
      "cell_type": "code",
      "metadata": {
        "id": "4KfUXJHXm7Oh"
      },
      "source": [
        "#pegando somente os dados do array\n",
        "df_Iarray = df_idh.values"
      ],
      "execution_count": 346,
      "outputs": []
    },
    {
      "cell_type": "code",
      "metadata": {
        "id": "Eun7e-OMonaw"
      },
      "source": [
        "#normalização do array de IDH e casos por milhão\n",
        "Inormalized1 = (df_Iarray[:,1] - min(df_Iarray[:,1])) / (max(df_Iarray[:,1]) - min(df_Iarray[:,1]))\n",
        "Inormalized2 = (df_Iarray[:,2] - min(df_Iarray[:,2])) / (max(df_Iarray[:,2]) - min(df_Iarray[:,2]))"
      ],
      "execution_count": 347,
      "outputs": []
    },
    {
      "cell_type": "code",
      "metadata": {
        "colab": {
          "base_uri": "https://localhost:8080/"
        },
        "id": "U12J1t0-ow3Q",
        "outputId": "ad5d5ab8-484d-4262-db15-40e054f28030"
      },
      "source": [
        "#Unindo em um único array os dados normalizados com os nomes\n",
        "df01 = pd.DataFrame(df_Iarray[:,0])\n",
        "df02 = pd.DataFrame(Inormalized1)\n",
        "df03 = pd.DataFrame(Inormalized2)\n",
        "dfI_unido = pd.concat([df01, df02, df03], axis=1, join='inner')\n",
        "dfI_unido.set_axis(['pais', 'IDH', 'total de casos por milhão'], axis=1, inplace=True)\n",
        "print(dfI_unido)"
      ],
      "execution_count": 348,
      "outputs": [
        {
          "output_type": "stream",
          "text": [
            "                         pais         IDH total de casos por milhão\n",
            "0                     Ireland           1                  0.308363\n",
            "1                 Switzerland           1                  0.451123\n",
            "2                   Hong Kong    0.989305                0.00879604\n",
            "3                     Iceland    0.989305                  0.108205\n",
            "4                     Germany     0.98574                  0.247672\n",
            "..                        ...         ...                       ...\n",
            "181                   Burundi   0.0695187                 0.0025178\n",
            "182               South Sudan   0.0695187                0.00534186\n",
            "183                      Chad  0.00713012                0.00162606\n",
            "184  Central African Republic  0.00534759                0.00816111\n",
            "185                     Niger           0                0.00121547\n",
            "\n",
            "[186 rows x 3 columns]\n"
          ],
          "name": "stdout"
        }
      ]
    },
    {
      "cell_type": "code",
      "metadata": {
        "colab": {
          "base_uri": "https://localhost:8080/",
          "height": 279
        },
        "id": "HCfTS3Wqo58Q",
        "outputId": "da9e8be5-2ba5-425e-b5ad-47fbae3d1835"
      },
      "source": [
        "#@title\n",
        "#plotando o gráfico\n",
        "labels = dfI_unido.pais\n",
        "y1 = dfI_unido['IDH']\n",
        "y2 = dfI_unido['total de casos por milhão']\n",
        "\n",
        "fig, ax1 = plt.subplots(nrows=1, ncols=1, figsize=(14,4))\n",
        "plt.subplot(1,2,1)\n",
        "plt.scatter(y1, y2)\n",
        "plt.ylabel('IDH')\n",
        "plt.xlabel('total de casos por milhão')\n",
        "\n",
        "\n",
        "plt.show()"
      ],
      "execution_count": 369,
      "outputs": [
        {
          "output_type": "display_data",
          "data": {
            "image/png": "[encoded data removed]",
            "text/plain": [
              "<Figure size 1008x288 with 1 Axes>"
            ]
          },
          "metadata": {
            "tags": []
          }
        }
      ]
    },
    {
      "cell_type": "markdown",
      "metadata": {
        "id": "UY6KZ3DEVNUe"
      },
      "source": [
        "Os dados de  total de casos mostram que paises com IDH maior possuem uma alta taxa de casos registrados, já os paises com IDH baixo tem menos casos registrados. "
      ]
    },
    {
      "cell_type": "code",
      "metadata": {
        "id": "hbc3VYiJpnpA"
      },
      "source": [
        "df_casos_mundo = df2.loc[(df2.location == 'World')\n",
        "& (df2['total_cases'] >= 0),['location', 'total_cases']].sort_values(by='total_cases', ascending=False)"
      ],
      "execution_count": 350,
      "outputs": []
    },
    {
      "cell_type": "code",
      "metadata": {
        "colab": {
          "base_uri": "https://localhost:8080/",
          "height": 297
        },
        "id": "ufwgkcpPWIy0",
        "cellView": "form",
        "outputId": "b5d0c134-27df-4f4b-895c-f353a8493601"
      },
      "source": [
        "#@title\n",
        "fig, ax = plt.subplots()\n",
        "\n",
        "df_casos_mundo['total_cases'].plot(kind='line', ax=ax)\n",
        "plt.xlabel('Data')\n",
        "plt.ylabel('Total de casos')\n",
        "plt.tight_layout()"
      ],
      "execution_count": 370,
      "outputs": [
        {
          "output_type": "display_data",
          "data": {
            "image/png": "[encoded data removed]",
            "text/plain": [
              "<Figure size 432x288 with 1 Axes>"
            ]
          },
          "metadata": {
            "tags": []
          }
        }
      ]
    },
    {
      "cell_type": "markdown",
      "metadata": {
        "id": "kqIdFy3XpT48"
      },
      "source": [
        "####Analise exploratória para o Brasil\n"
      ]
    },
    {
      "cell_type": "code",
      "metadata": {
        "id": "g0-8UuIldlQj"
      },
      "source": [
        "df_casos_Brasil = df2.loc[(df2.location == 'Brazil')\n",
        "& (df2['total_cases'] >= 0),['location', 'total_cases']].sort_values(by='total_cases', ascending=False)"
      ],
      "execution_count": 372,
      "outputs": []
    },
    {
      "cell_type": "code",
      "metadata": {
        "colab": {
          "base_uri": "https://localhost:8080/",
          "height": 297
        },
        "id": "wv7IfRiMyIuf",
        "outputId": "575bd7d3-a26a-4f35-fd67-5d015ac64743"
      },
      "source": [
        "fig, ax = plt.subplots()\n",
        "df_casos_Brasil['total_cases'].plot(kind='line', ax=ax)\n",
        "plt.xlabel('Data')\n",
        "plt.ylabel('Total de casos')\n",
        "plt.tight_layout()"
      ],
      "execution_count": 373,
      "outputs": [
        {
          "output_type": "display_data",
          "data": {
            "image/png": "[encoded data removed]",
            "text/plain": [
              "<Figure size 432x288 with 1 Axes>"
            ]
          },
          "metadata": {
            "tags": []
          }
        }
      ]
    },
    {
      "cell_type": "markdown",
      "metadata": {
        "id": "NR4zA3_az3HV"
      },
      "source": [
        "Até 04/07/2021 o Brasil registrou 18769808.0 casos confirmados de Covid."
      ]
    },
    {
      "cell_type": "code",
      "metadata": {
        "id": "sS1V7IYn0toQ"
      },
      "source": [
        "import seaborn as sns"
      ],
      "execution_count": 354,
      "outputs": []
    },
    {
      "cell_type": "code",
      "metadata": {
        "colab": {
          "base_uri": "https://localhost:8080/"
        },
        "id": "CB7lDkrgyqAL",
        "outputId": "4df1553e-b927-467f-eaca-52ba146edd00"
      },
      "source": [
        "df_casos_Brasil.loc[(df_casos_Brasil.index == \"2021-07-04\"), 'total_cases']"
      ],
      "execution_count": 355,
      "outputs": [
        {
          "output_type": "execute_result",
          "data": {
            "text/plain": [
              "date\n",
              "2021-07-04    18769808.0\n",
              "Name: total_cases, dtype: float64"
            ]
          },
          "metadata": {
            "tags": []
          },
          "execution_count": 355
        }
      ]
    },
    {
      "cell_type": "code",
      "metadata": {
        "id": "5Z8BzUrV9yP0"
      },
      "source": [
        " df_cases = df2.loc[(df.location!=\"World\") & (df.location!=\"North America\") & (df.location!='South America') &\n",
        "                          (df.location!='Europe') & (df.location!='Africa') & (df.location!=\"Asia\") & (df['location']!=\"European Union\"),\n",
        "                         ['location', 'total_cases', 'total_cases_per_million']]"
      ],
      "execution_count": 356,
      "outputs": []
    },
    {
      "cell_type": "code",
      "metadata": {
        "id": "Ia8B0dox0jEb"
      },
      "source": [
        "df_date = df_cases.reset_index()"
      ],
      "execution_count": 357,
      "outputs": []
    },
    {
      "cell_type": "markdown",
      "metadata": {
        "id": "IJlKlJ5a7FVe"
      },
      "source": [
        "Comparado ao resto do mundo o Brasil esta em terceiro lugar na contagem de casos confirmados.\n",
        "\n",
        "A India se deparou com um surto por conta de pessimas medidas tomadas em relação a pandemia. Em março,o governo Indiano chegou a afirmar que estava na \"fase final\" da pandemia de Covid-19.\n",
        "\n",
        "Uma combinação de fatores levou ao atual desastre humanitário, de acordo com o cientista Gautam Menon, em entrevista à agência Deutsche Welle.\n",
        "\n",
        "\"A negligência por parte dos cidadãos e das autoridades fez todos baixarem a guarda. Possíveis reinfecções por causa da perda de anticorpos e o surgimento de novas variantes contribuíram para o surto”, afirmou Menon."
      ]
    },
    {
      "cell_type": "code",
      "metadata": {
        "colab": {
          "base_uri": "https://localhost:8080/",
          "height": 526
        },
        "id": "1Sza50zezBTc",
        "cellView": "form",
        "outputId": "3132b96e-d502-4419-d4d0-10d2cd4c887a"
      },
      "source": [
        "#@title\n",
        "fig, ax = plt.subplots(figsize=(12,8))\n",
        "sns.set_style('dark')\n",
        "font = {'family': 'arial',\n",
        "        'color':  'black',\n",
        "        'weight': 'normal',\n",
        "        'size': 10}\n",
        "\n",
        "df_date.loc[df_date.location == 'Brazil'].plot('date', 'total_cases', kind='line', ax=ax, linewidth=2, legend=False)\n",
        "df_date.loc[df_date.location == 'India'].plot('date', 'total_cases', kind='line', ax=ax, color=\"lightgray\", legend=False)\n",
        "df_date.loc[df_date.location == 'Russia'].plot('date', 'total_cases', kind='line', ax=ax, color=\"lightgray\", legend=False)\n",
        "df_date.loc[df_date.location == 'France'].plot('date', 'total_cases', kind='line', ax=ax, color=\"lightgray\", legend=False)\n",
        "df_date.loc[df_date.location == 'Turkey'].plot('date', 'total_cases', kind='line', ax=ax, color=\"lightgray\", legend=False)\n",
        "df_date.loc[df_date.location == 'United States'].plot('date', 'total_cases', kind='line', ax=ax, color=\"lightgray\", legend=False)\n",
        "\n",
        "plt.text(x='2021-07-04', y=20000000, s='Brasil', fontdict=font)\n",
        "plt.text(x='2021-07-04', y=7000000, s='França', fontdict=font)\n",
        "plt.text(x='2021-07-04', y=6100000, s='Russia', fontdict=font)\n",
        "plt.text(x='2021-07-04', y=5000000, s='Turquia', fontdict=font)\n",
        "plt.text(x='2021-07-04', y=31000000, s='India', fontdict=font)\n",
        "plt.text(x='2021-07-04', y=34399900, s='United States', fontdict=font)\n",
        "\n",
        "plt.title(\"Casos confirmados de COVID-19 por milhão de habitantes\", fontsize=15)\n",
        "plt.xticks(color=\"gray\")\n",
        "plt.yticks(color=\"gray\")\n",
        "\n",
        "plt.show()"
      ],
      "execution_count": 358,
      "outputs": [
        {
          "output_type": "display_data",
          "data": {
            "image/png": "[encoded data removed]",
            "text/plain": [
              "<Figure size 864x576 with 1 Axes>"
            ]
          },
          "metadata": {
            "tags": []
          }
        }
      ]
    },
    {
      "cell_type": "markdown",
      "metadata": {
        "id": "ZGRj0CRAsNv3"
      },
      "source": [
        "Vamos analisar a Evolução da Vacinação no Brasil e comparar com os paises que mais vacinam"
      ]
    },
    {
      "cell_type": "code",
      "metadata": {
        "id": "Brb_qLwV82kH"
      },
      "source": [
        "df_casos_Brasil = df2.loc[(df2.location == 'Brazil')\n",
        "& (df2['total_cases'] >= 0),['location', 'total_vaccinations']].sort_values(by='total_vaccinations', ascending=False)"
      ],
      "execution_count": 375,
      "outputs": []
    },
    {
      "cell_type": "code",
      "metadata": {
        "colab": {
          "base_uri": "https://localhost:8080/",
          "height": 297
        },
        "id": "AmzkEtO9st2E",
        "outputId": "fcbdcf4a-1d2b-40aa-e37a-06d43b1baaed"
      },
      "source": [
        "fig, ax = plt.subplots()\n",
        "df_casos_Brasil['total_vaccinations'].plot(kind='line', ax=ax)\n",
        "plt.xlabel('Data')\n",
        "plt.tight_layout()"
      ],
      "execution_count": 376,
      "outputs": [
        {
          "output_type": "display_data",
          "data": {
            "image/png": "[encoded data removed]",
            "text/plain": [
              "<Figure size 432x288 with 1 Axes>"
            ]
          },
          "metadata": {
            "tags": []
          }
        }
      ]
    },
    {
      "cell_type": "markdown",
      "metadata": {
        "id": "BrY8HnwJbJCE"
      },
      "source": [
        "Em relação ao total de vacinados munidalmente o Brasil se encontra em Quarta posição, apesar de não ser a ideal ainda sim está entre os 10 paises que mais vacina. Até o presente momento(20/07/2021) foram **126643283** vacinas aplicadas\n",
        "\n"
      ]
    },
    {
      "cell_type": "code",
      "metadata": {
        "id": "xRHUJW-m7Y7C"
      },
      "source": [
        " df_vacina = df2.loc[(df.location!=\"World\") & (df.location!=\"North America\") & (df.location!='South America') &\n",
        "                          (df.location!='Europe') & (df.location!='Africa') & (df.location!=\"Asia\") & (df['location']!=\"European Union\"),\n",
        "                         ['location', 'total_vaccinations']]"
      ],
      "execution_count": 361,
      "outputs": []
    },
    {
      "cell_type": "code",
      "metadata": {
        "id": "VXNpq-ka7Rrt"
      },
      "source": [
        "df_vacina.dropna(inplace=True)"
      ],
      "execution_count": 362,
      "outputs": []
    },
    {
      "cell_type": "code",
      "metadata": {
        "id": "jB8z2NVpmeLc"
      },
      "source": [
        "df_vacina = df_vacina.reset_index()"
      ],
      "execution_count": 363,
      "outputs": []
    },
    {
      "cell_type": "code",
      "metadata": {
        "colab": {
          "base_uri": "https://localhost:8080/",
          "height": 81
        },
        "id": "1jLbcgwxj8ZA",
        "outputId": "a64990a3-2249-4724-82aa-edd5639d1aff"
      },
      "source": [
        "df_vacina.loc[(df_vacina.date == '2021-07-20') & (df_vacina.location == \"Brazil\"), ['location', 'total_vaccinations']].sort_values(by='total_vaccinations', ascending=False)[0:6]"
      ],
      "execution_count": 364,
      "outputs": [
        {
          "output_type": "execute_result",
          "data": {
            "text/html": [
              "<div>\n",
              "<style scoped>\n",
              "    .dataframe tbody tr th:only-of-type {\n",
              "        vertical-align: middle;\n",
              "    }\n",
              "\n",
              "    .dataframe tbody tr th {\n",
              "        vertical-align: top;\n",
              "    }\n",
              "\n",
              "    .dataframe thead th {\n",
              "        text-align: right;\n",
              "    }\n",
              "</style>\n",
              "<table border=\"1\" class=\"dataframe\">\n",
              "  <thead>\n",
              "    <tr style=\"text-align: right;\">\n",
              "      <th></th>\n",
              "      <th>location</th>\n",
              "      <th>total_vaccinations</th>\n",
              "    </tr>\n",
              "  </thead>\n",
              "  <tbody>\n",
              "    <tr>\n",
              "      <th>2152</th>\n",
              "      <td>Brazil</td>\n",
              "      <td>126643283.0</td>\n",
              "    </tr>\n",
              "  </tbody>\n",
              "</table>\n",
              "</div>"
            ],
            "text/plain": [
              "     location  total_vaccinations\n",
              "2152   Brazil         126643283.0"
            ]
          },
          "metadata": {
            "tags": []
          },
          "execution_count": 364
        }
      ]
    },
    {
      "cell_type": "code",
      "metadata": {
        "id": "HEx8wjjUj6ck"
      },
      "source": [
        "df_vacina['total_vaccinations'] = (df_vacina['total_vaccinations'] - min(df_vacina['total_vaccinations'])) / (max(df_vacina['total_vaccinations']) - min(df_vacina['total_vaccinations']))"
      ],
      "execution_count": 365,
      "outputs": []
    },
    {
      "cell_type": "code",
      "metadata": {
        "colab": {
          "base_uri": "https://localhost:8080/",
          "height": 236
        },
        "id": "sp-vfmuJ8U3d",
        "outputId": "68b65b87-d534-417f-8ca5-2816b67eb4dd"
      },
      "source": [
        "df_vacina.loc[(df_vacina.date == '2021-07-20'), ['location', 'total_vaccinations']].sort_values(by='total_vaccinations', ascending=False)[0:6]"
      ],
      "execution_count": 366,
      "outputs": [
        {
          "output_type": "execute_result",
          "data": {
            "text/html": [
              "<div>\n",
              "<style scoped>\n",
              "    .dataframe tbody tr th:only-of-type {\n",
              "        vertical-align: middle;\n",
              "    }\n",
              "\n",
              "    .dataframe tbody tr th {\n",
              "        vertical-align: top;\n",
              "    }\n",
              "\n",
              "    .dataframe thead th {\n",
              "        text-align: right;\n",
              "    }\n",
              "</style>\n",
              "<table border=\"1\" class=\"dataframe\">\n",
              "  <thead>\n",
              "    <tr style=\"text-align: right;\">\n",
              "      <th></th>\n",
              "      <th>location</th>\n",
              "      <th>total_vaccinations</th>\n",
              "    </tr>\n",
              "  </thead>\n",
              "  <tbody>\n",
              "    <tr>\n",
              "      <th>3284</th>\n",
              "      <td>China</td>\n",
              "      <td>0.960861</td>\n",
              "    </tr>\n",
              "    <tr>\n",
              "      <th>7152</th>\n",
              "      <td>India</td>\n",
              "      <td>0.270014</td>\n",
              "    </tr>\n",
              "    <tr>\n",
              "      <th>17092</th>\n",
              "      <td>United States</td>\n",
              "      <td>0.219984</td>\n",
              "    </tr>\n",
              "    <tr>\n",
              "      <th>2152</th>\n",
              "      <td>Brazil</td>\n",
              "      <td>0.082305</td>\n",
              "    </tr>\n",
              "    <tr>\n",
              "      <th>5865</th>\n",
              "      <td>Germany</td>\n",
              "      <td>0.056670</td>\n",
              "    </tr>\n",
              "    <tr>\n",
              "      <th>16892</th>\n",
              "      <td>United Kingdom</td>\n",
              "      <td>0.053807</td>\n",
              "    </tr>\n",
              "  </tbody>\n",
              "</table>\n",
              "</div>"
            ],
            "text/plain": [
              "             location  total_vaccinations\n",
              "3284            China            0.960861\n",
              "7152            India            0.270014\n",
              "17092   United States            0.219984\n",
              "2152           Brazil            0.082305\n",
              "5865          Germany            0.056670\n",
              "16892  United Kingdom            0.053807"
            ]
          },
          "metadata": {
            "tags": []
          },
          "execution_count": 366
        }
      ]
    },
    {
      "cell_type": "code",
      "metadata": {
        "colab": {
          "base_uri": "https://localhost:8080/",
          "height": 843
        },
        "id": "Z8RHH5EGmogc",
        "cellView": "form",
        "outputId": "10539dd6-835a-4684-fdc6-3d2ce8d80c71"
      },
      "source": [
        "#@title\n",
        "fig, ax = plt.subplots(figsize=(18,14))\n",
        "sns.set_style('dark')\n",
        "font = {'family': 'arial',\n",
        "        'color':  'black',\n",
        "        'weight': 'normal',\n",
        "        'size': 12}\n",
        "\n",
        "df_vacina.loc[df_vacina.location == 'Brazil'].plot('date', 'total_vaccinations', kind='line', lw=2, ax=ax, linewidth=2, legend=False);\n",
        "df_vacina.loc[df_vacina.location == 'China'].plot('date', 'total_vaccinations', kind='line', lw=2, ax=ax, color=\"lightgray\", legend=False);\n",
        "df_vacina.loc[df_vacina.location == 'United States'].plot('date', 'total_vaccinations', kind='line', lw=2, ax=ax, color=\"lightgray\", legend=False);\n",
        "df_vacina.loc[df_vacina.location == 'India'].plot('date', 'total_vaccinations', kind='line', lw=2, ax=ax, color=\"lightgray\", legend=False);\n",
        "df_vacina.loc[df_vacina.location == 'Germany'].plot('date', 'total_vaccinations', kind='line', lw=2, ax=ax, color=\"lightgray\", legend=False);\n",
        "df_vacina.loc[df_vacina.location == 'United Kingdom'].plot('date', 'total_vaccinations', kind='line', lw=2, ax=ax, color=\"lightgray\", legend=False);\n",
        "\n",
        "plt.text(x='2021-07-19', y=0.1, s='Brasil', fontdict=font)\n",
        "plt.text(x='2021-07-19', y=1, s='China', fontdict=font)\n",
        "plt.text(x='2021-07-19', y=0.3, s='India', fontdict=font)\n",
        "plt.text(x='2021-07-19', y=0.22, s='United States', fontdict=font)\n",
        "plt.text(x='2021-07-19', y=0.03, s='Germany', fontdict=font)\n",
        "plt.text(x='2021-07-19', y=0.05, s='United Kingdom', fontdict=font)\n",
        "\n",
        "plt.title(\"Top 5 paises com maior número de vacinação\", fontsize=15)\n",
        "plt.xticks(color=\"gray\")\n",
        "plt.yticks(color=\"gray\")\n",
        "\n",
        "plt.show()"
      ],
      "execution_count": 377,
      "outputs": [
        {
          "output_type": "stream",
          "text": [
            "/usr/local/lib/python3.7/dist-packages/pandas/plotting/_matplotlib/core.py:668: MatplotlibDeprecationWarning: Saw kwargs ['lw', 'linewidth'] which are all aliases for 'linewidth'.  Kept value from 'linewidth'.  Passing multiple aliases for the same property will raise a TypeError in 3.3.\n",
            "  return ax.plot(*args, **kwds)\n"
          ],
          "name": "stderr"
        },
        {
          "output_type": "display_data",
          "data": {
            "image/png": "[encoded data removed]",
            "text/plain": [
              "<Figure size 1296x1008 with 1 Axes>"
            ]
          },
          "metadata": {
            "tags": []
          }
        }
      ]
    },
    {
      "cell_type": "markdown",
      "metadata": {
        "id": "u9jBWaSsKPm3"
      },
      "source": [
        "###Previna-se\n",
        "\n",
        "<center><img alt=\"Colaboratory logo\" width=\"60%\" src=\"https://www.aemflo-cdlsj.org.br/ckfinder/images/Coronavirus_Prancheta%201.png\"></center>"
      ]
    }
  ]
}