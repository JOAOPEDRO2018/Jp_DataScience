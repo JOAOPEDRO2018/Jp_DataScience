{
  "nbformat": 4,
  "nbformat_minor": 0,
  "metadata": {
    "colab": {
      "name": "Detecção de fraudes em cartão de credito",
      "provenance": [],
      "collapsed_sections": [],
      "mount_file_id": "1ooOn5AeXNYK907IjFiOYUoOjUHcw9tBA",
      "authorship_tag": "ABX9TyOTDtvL2J45shYQgQ9//vLo",
      "include_colab_link": true
    },
    "kernelspec": {
      "name": "python3",
      "display_name": "Python 3"
    },
    "language_info": {
      "name": "python"
    }
  },
  "cells": [
    {
      "cell_type": "markdown",
      "metadata": {
        "id": "view-in-github",
        "colab_type": "text"
      },
      "source": [
        "<a href=\"https://colab.research.google.com/github/JOAOPEDRO2018/Jp_DataScience/blob/dados/Detec%C3%A7%C3%A3o_de_fraudes_em_cart%C3%A3o_de_credito.ipynb\" target=\"_parent\"><img src=\"https://colab.research.google.com/assets/colab-badge.svg\" alt=\"Open In Colab\"/></a>"
      ]
    },
    {
      "cell_type": "markdown",
      "metadata": {
        "id": "mCdFEzUgsKwQ"
      },
      "source": [
        "##Detecção de fraudes em cartão de credito usando Machine Learning\n",
        "\n",
        "<p align=center>\n",
        "<img src=\"https://exame.com/wp-content/uploads/2016/09/size_960_16_9_fraude-pagamento-online-pagamento-virtual-hacker-e-commerce-cartao-de-credito2.jpg\" width=\"70%\"></p>\n",
        "\n",
        "O Brasil sofreu aumento de 32,7% nas tentativas de fraudes em e-commerce no primeiro semestre de 2021 na comparação com o mesmo período do ano passado, conforme mostra o estudo Mapa da Fraude, da consultoria Clearsale.\n",
        "\n",
        "Hoje em dia o principal meio de fraudes continua sendo a internet. Parte dessas fraudes visam o e-commerce por segundo Adriano Volpini, diretor da Comissão Executiva de Prevenção a Fraudes da Febraban, os fraudadores intensificaram duas modalidades de ataque se aproveitando do aumento do uso do comércio eletrônico: o phishing, que cresceu 80%, e a utilização de técnicas de engenharia social, que estão vinculadas à 70% das fraudes:\n",
        "\n",
        "— No phishing, os golpistas utilizam técnicas para solicitar informações por meio de sites ou páginas falsas, capturando dados como números de cartão e senhas, para serem usadas em transações fraudulentas. Meio pelo qual os criminosos atuaram com força depois que a maior parte das pessoas entrou em isolamento social e passou a fazer mais compras pela internet, explicou Omar Jarouche, diretor de marketing e soluções da Clearsale. \n",
        "\n",
        "O outro tipo de fraude acontece por meio de engenharia social foi o que aconteceu com a empresária Fátima Vilani, ela recebeu uma ligação de seu banco sobre uma suposta compra realizada com cartão de crédito na cidade de Campinas (SP). Não reconheceu o pagamento e foi orientada pelo atendente a entrar em contato com a instituição financeira. Fátima ligou para o número localizado na parte de trás do cartão, falou com um funcionário e aceitou a oferta de entregar o cartão ao motoboy para uma averiguação. No dia seguinte, Fátima descobriu que a compra nunca aconteceu. Que não havia telefonado para banco. Que o motoboy não levou o cartão para a investigação. E que o prejuízo disso tudo superava R$ 80 mil."
      ]
    },
    {
      "cell_type": "code",
      "metadata": {
        "id": "dr_L9DtowNZX"
      },
      "source": [
        "from warnings import simplefilter\n",
        "simplefilter(action='ignore', category=FutureWarning)\n",
        "\n",
        "# instalar a biblioteca scikit-plot\n",
        "!pip install -q scikit-plot"
      ],
      "execution_count": null,
      "outputs": []
    },
    {
      "cell_type": "code",
      "metadata": {
        "id": "qtQlszUerGyy",
        "colab": {
          "base_uri": "https://localhost:8080/"
        },
        "outputId": "1cc2a06e-abf6-451f-c394-6f16511fcfcd"
      },
      "source": [
        "import pandas as pd\n",
        "import matplotlib.pyplot as plt\n",
        "from sklearn.model_selection import train_test_split\n",
        "from sklearn.linear_model import LogisticRegression\n",
        "from sklearn.metrics import classification_report, accuracy_score, confusion_matrix\n",
        "from imblearn.under_sampling import NearMiss\n",
        "from sklearn.preprocessing import StandardScaler\n",
        "import seaborn as sns\n",
        "import matplotlib.pyplot as plt\n",
        "import numpy as np\n",
        "from sklearn.tree import DecisionTreeClassifier\n",
        "from imblearn.under_sampling import RandomUnderSampler\n",
        "from yellowbrick.classifier import ConfusionMatrix"
      ],
      "execution_count": 1,
      "outputs": [
        {
          "output_type": "stream",
          "name": "stderr",
          "text": [
            "/usr/local/lib/python3.7/dist-packages/sklearn/externals/six.py:31: FutureWarning: The module is deprecated in version 0.21 and will be removed in version 0.23 since we've dropped support for Python 2.7. Please rely on the official version of six (https://pypi.org/project/six/).\n",
            "  \"(https://pypi.org/project/six/).\", FutureWarning)\n",
            "/usr/local/lib/python3.7/dist-packages/sklearn/utils/deprecation.py:144: FutureWarning: The sklearn.neighbors.base module is  deprecated in version 0.22 and will be removed in version 0.24. The corresponding classes / functions should instead be imported from sklearn.neighbors. Anything that cannot be imported from sklearn.neighbors is now part of the private API.\n",
            "  warnings.warn(message, FutureWarning)\n",
            "/usr/local/lib/python3.7/dist-packages/sklearn/utils/deprecation.py:144: FutureWarning: The sklearn.metrics.classification module is  deprecated in version 0.22 and will be removed in version 0.24. The corresponding classes / functions should instead be imported from sklearn.metrics. Anything that cannot be imported from sklearn.metrics is now part of the private API.\n",
            "  warnings.warn(message, FutureWarning)\n"
          ]
        }
      ]
    },
    {
      "cell_type": "markdown",
      "metadata": {
        "id": "7gPpMQ7eH463"
      },
      "source": [
        "Esta base de dados traz uma série transações de cartão de crédito e features em PCA que não sabemos quais são as suas descrições, isso é feito para proteger o significado e dono dos dados, porém limita nossa capacidade de feature engineering.\n",
        ">Análise de Componentes Principais ou PCA serve para encontrar um meio de condensar a informação contida em várias variáveis originais em um conjunto menor de variáveis estatísticas (componentes) com uma perda mínima de informação, Resuminto pega as variáveis originais e transforma em outro padrão de dados a fim de proteger o significados dos dados originais.\n",
        "\n",
        "O conjunto de dados usado de exemplo contém transações feitas por cartões de crédito em setembro de 2013 por titulares europeus.\n",
        "\n",
        "Este conjunto de dados apresenta as transações que ocorreram em dois dias, onde temos 492 fraudes em 284.807 transações. O conjunto de dados é altamente desequilibrado, a classe positiva (fraudes) responde por 0,172% de todas as transações.\n",
        "\n"
      ]
    },
    {
      "cell_type": "code",
      "metadata": {
        "colab": {
          "base_uri": "https://localhost:8080/"
        },
        "id": "I-Zv7VziNOOy",
        "outputId": "4817ea2d-4200-4c38-b80b-65bee40bf123"
      },
      "source": [
        "df = pd.read_csv('/content/drive/MyDrive/DataSets/creditcard.csv')\n",
        "print(df.head())"
      ],
      "execution_count": 4,
      "outputs": [
        {
          "output_type": "stream",
          "name": "stdout",
          "text": [
            "   Time        V1        V2        V3  ...       V27       V28  Amount  Class\n",
            "0   0.0 -1.359807 -0.072781  2.536347  ...  0.133558 -0.021053  149.62      0\n",
            "1   0.0  1.191857  0.266151  0.166480  ... -0.008983  0.014724    2.69      0\n",
            "2   1.0 -1.358354 -1.340163  1.773209  ... -0.055353 -0.059752  378.66      0\n",
            "3   1.0 -0.966272 -0.185226  1.792993  ...  0.062723  0.061458  123.50      0\n",
            "4   2.0 -1.158233  0.877737  1.548718  ...  0.219422  0.215153   69.99      0\n",
            "\n",
            "[5 rows x 31 columns]\n"
          ]
        }
      ]
    },
    {
      "cell_type": "markdown",
      "metadata": {
        "id": "FgGbb71LN6XJ"
      },
      "source": [
        "###Análise exploratória\n",
        ">1 casos de fraude\n",
        ">\n",
        ">0 Não fraude\n",
        "\n",
        "\n",
        ">Dados nulos \n",
        "\n",
        ">Balancear os dados"
      ]
    },
    {
      "cell_type": "markdown",
      "metadata": {
        "id": "sS81fqox-GaJ"
      },
      "source": [
        "A função ``info()`` mostrou que todas as colunas estão com os dados preechidos, sem nenhum dado faltante."
      ]
    },
    {
      "cell_type": "code",
      "metadata": {
        "colab": {
          "base_uri": "https://localhost:8080/"
        },
        "id": "j2NqfzYiNeBj",
        "outputId": "9ce14aa1-f762-40f8-8d36-55dd6a527570"
      },
      "source": [
        "df.info()"
      ],
      "execution_count": null,
      "outputs": [
        {
          "output_type": "stream",
          "name": "stdout",
          "text": [
            "<class 'pandas.core.frame.DataFrame'>\n",
            "RangeIndex: 284807 entries, 0 to 284806\n",
            "Data columns (total 31 columns):\n",
            " #   Column  Non-Null Count   Dtype  \n",
            "---  ------  --------------   -----  \n",
            " 0   Time    284807 non-null  float64\n",
            " 1   V1      284807 non-null  float64\n",
            " 2   V2      284807 non-null  float64\n",
            " 3   V3      284807 non-null  float64\n",
            " 4   V4      284807 non-null  float64\n",
            " 5   V5      284807 non-null  float64\n",
            " 6   V6      284807 non-null  float64\n",
            " 7   V7      284807 non-null  float64\n",
            " 8   V8      284807 non-null  float64\n",
            " 9   V9      284807 non-null  float64\n",
            " 10  V10     284807 non-null  float64\n",
            " 11  V11     284807 non-null  float64\n",
            " 12  V12     284807 non-null  float64\n",
            " 13  V13     284807 non-null  float64\n",
            " 14  V14     284807 non-null  float64\n",
            " 15  V15     284807 non-null  float64\n",
            " 16  V16     284807 non-null  float64\n",
            " 17  V17     284807 non-null  float64\n",
            " 18  V18     284807 non-null  float64\n",
            " 19  V19     284807 non-null  float64\n",
            " 20  V20     284807 non-null  float64\n",
            " 21  V21     284807 non-null  float64\n",
            " 22  V22     284807 non-null  float64\n",
            " 23  V23     284807 non-null  float64\n",
            " 24  V24     284807 non-null  float64\n",
            " 25  V25     284807 non-null  float64\n",
            " 26  V26     284807 non-null  float64\n",
            " 27  V27     284807 non-null  float64\n",
            " 28  V28     284807 non-null  float64\n",
            " 29  Amount  284807 non-null  float64\n",
            " 30  Class   284807 non-null  int64  \n",
            "dtypes: float64(30), int64(1)\n",
            "memory usage: 67.4 MB\n"
          ]
        }
      ]
    },
    {
      "cell_type": "markdown",
      "metadata": {
        "id": "PsB9rFWI-okg"
      },
      "source": [
        "Porém ao analisar o gráfico abaixo vemos que a classe usada para classificação possui um grande valor de desbalanceamento, mais pra frente iremos usar uma técnica para balancealos."
      ]
    },
    {
      "cell_type": "code",
      "metadata": {
        "colab": {
          "base_uri": "https://localhost:8080/",
          "height": 360
        },
        "id": "xpXQa1IaOQgk",
        "outputId": "21c6254b-6d3c-4806-cab3-a6b63fbc0c34"
      },
      "source": [
        "df['Class'].value_counts().plot(kind='bar')"
      ],
      "execution_count": null,
      "outputs": [
        {
          "output_type": "execute_result",
          "data": {
            "text/plain": [
              "<matplotlib.axes._subplots.AxesSubplot at 0x7f2ea66e81d0>"
            ]
          },
          "metadata": {},
          "execution_count": 7
        },
        {
          "output_type": "display_data",
          "data": {
            "image/png": "[encoded data removed]",
            "text/plain": [
              "<Figure size 576x396 with 1 Axes>"
            ]
          },
          "metadata": {}
        }
      ]
    },
    {
      "cell_type": "markdown",
      "metadata": {
        "id": "XejmYdE1VEig"
      },
      "source": [
        "A presença de outliers nos dados também acaba por afetar a análise do histograma de transações como também o boxplot plotado em sequência."
      ]
    },
    {
      "cell_type": "code",
      "metadata": {
        "colab": {
          "base_uri": "https://localhost:8080/",
          "height": 581
        },
        "id": "8cOAT4yac0K1",
        "outputId": "6a6e247f-4b7e-4d19-9a79-a3a84d52b6e0"
      },
      "source": [
        "fig, axes = plt.subplots(2, figsize=(10,8))\n",
        "\n",
        "df_f=df.loc[df['Class']==1].copy()\n",
        "df_n_f=df.loc[df['Class']==0].copy()\n",
        "num_bins = 40\n",
        "\n",
        "sns.histplot(df_n_f, x='Amount', ax=axes[0], bins=num_bins)\n",
        "axes[0].set_title('transações não fraudulentas')\n",
        "\n",
        "sns.histplot(df_f, x='Amount', ax=axes[1], bins=num_bins)\n",
        "axes[1].set_title('transações fraudulentas')\n",
        "\n",
        "\n",
        "plt.xlabel('Valor da transação')\n",
        "plt.ylabel('Transações')\n",
        "plt.tight_layout()"
      ],
      "execution_count": null,
      "outputs": [
        {
          "output_type": "display_data",
          "data": {
            "image/png": "[encoded data removed]",
            "text/plain": [
              "<Figure size 720x576 with 2 Axes>"
            ]
          },
          "metadata": {}
        }
      ]
    },
    {
      "cell_type": "code",
      "metadata": {
        "colab": {
          "base_uri": "https://localhost:8080/",
          "height": 437
        },
        "id": "w1OG5rZ-m-FX",
        "outputId": "a63b907b-8a7a-45ca-eca4-989d61cdf9cd"
      },
      "source": [
        "fig, ax = plt.subplots(2, figsize=(12,6))\n",
        "df_f=df.loc[df['Class']==1].copy()\n",
        "df_n_f=df.loc[df['Class']==0].copy()\n",
        "\n",
        "sns.boxplot(data=df_n_f, x='Amount', ax=ax[0])\n",
        "#plt.ylim((-20, 2000))\n",
        "ax[0].set_title(\"Normal\")\n",
        "\n",
        "sns.boxplot(data=df_f, x='Amount', ax=ax[1])\n",
        "#plt.ylim((-20, 2000))\n",
        "ax[1].set_title('Fraude')\n",
        "\n",
        "plt.tight_layout()"
      ],
      "execution_count": null,
      "outputs": [
        {
          "output_type": "display_data",
          "data": {
            "image/png": "[encoded data removed]",
            "text/plain": [
              "<Figure size 864x432 with 2 Axes>"
            ]
          },
          "metadata": {}
        }
      ]
    },
    {
      "cell_type": "code",
      "metadata": {
        "colab": {
          "base_uri": "https://localhost:8080/"
        },
        "id": "TN37doX9oHSM",
        "outputId": "37d985ae-3df2-4814-940d-955b25cfdb13"
      },
      "source": [
        "df['Amount'].describe()"
      ],
      "execution_count": null,
      "outputs": [
        {
          "output_type": "execute_result",
          "data": {
            "text/plain": [
              "count    284807.000000\n",
              "mean         88.349619\n",
              "std         250.120109\n",
              "min           0.000000\n",
              "25%           5.600000\n",
              "50%          22.000000\n",
              "75%          77.165000\n",
              "max       25691.160000\n",
              "Name: Amount, dtype: float64"
            ]
          },
          "metadata": {},
          "execution_count": 10
        }
      ]
    },
    {
      "cell_type": "markdown",
      "metadata": {
        "id": "2Dz057Uzwkeo"
      },
      "source": [
        "###Processo de retirar outliers"
      ]
    },
    {
      "cell_type": "code",
      "metadata": {
        "colab": {
          "base_uri": "https://localhost:8080/"
        },
        "id": "aqIlsivKB83X",
        "outputId": "deda9793-1dc2-461f-db97-6bf9e8914d14"
      },
      "source": [
        "q1=df.Amount.quantile(0.25)\n",
        "q=df.Amount.quantile(0.75)\n",
        "IQR_amount= q-q1\n",
        "inf_amount=q1 - IQR_amount*1.5\n",
        "sup_amount=q + IQR_amount*1.5\n",
        "print(inf_amount, sup_amount)"
      ],
      "execution_count": null,
      "outputs": [
        {
          "output_type": "stream",
          "name": "stdout",
          "text": [
            "-101.7475 184.5125\n"
          ]
        }
      ]
    },
    {
      "cell_type": "code",
      "metadata": {
        "id": "Ndf83rRtp_3f"
      },
      "source": [
        "df_out = df.drop(df[df.Amount>sup_amount].index, axis=0)"
      ],
      "execution_count": null,
      "outputs": []
    },
    {
      "cell_type": "code",
      "metadata": {
        "colab": {
          "base_uri": "https://localhost:8080/"
        },
        "id": "6KxnymnYqduB",
        "outputId": "85be4254-bd0b-4e43-ddec-fa1ddcb9b144"
      },
      "source": [
        "df_out['Amount'].describe()"
      ],
      "execution_count": null,
      "outputs": [
        {
          "output_type": "execute_result",
          "data": {
            "text/plain": [
              "count    252903.000000\n",
              "mean         34.974887\n",
              "std          42.172250\n",
              "min           0.000000\n",
              "25%           4.490000\n",
              "50%          16.000000\n",
              "75%          49.990000\n",
              "max         184.500000\n",
              "Name: Amount, dtype: float64"
            ]
          },
          "metadata": {},
          "execution_count": 13
        }
      ]
    },
    {
      "cell_type": "markdown",
      "metadata": {
        "id": "V3u9Sjp9tJW-"
      },
      "source": [
        "O tratamento de outliers retornou dados dentro do padrão esperado, mesmo que os outliers estivessem representado dados corretos, o algoritmo de predição iria apresentar overfit, então na dúvida o melhor a se fazer é tratar."
      ]
    },
    {
      "cell_type": "code",
      "metadata": {
        "colab": {
          "base_uri": "https://localhost:8080/",
          "height": 437
        },
        "id": "oaEPiSczqgs3",
        "outputId": "68055a65-06e8-4674-d508-69eb0b256059"
      },
      "source": [
        "fig, ax = plt.subplots(2, figsize=(12,6))\n",
        "df_f=df_out.loc[df_out['Class']==1].copy()\n",
        "df_n_f=df_out.loc[df_out['Class']==0].copy()\n",
        "\n",
        "sns.boxplot(data=df_n_f, x='Amount', ax=ax[0])\n",
        "#plt.ylim((-2, 200))\n",
        "ax[0].set_title(\"Normal\")\n",
        "\n",
        "sns.boxplot(data=df_f, x='Amount', ax=ax[1])\n",
        "#plt.ylim((-2, 200))\n",
        "ax[1].set_title('Fraude')\n",
        "\n",
        "plt.tight_layout()"
      ],
      "execution_count": null,
      "outputs": [
        {
          "output_type": "display_data",
          "data": {
            "image/png": "[encoded data removed]",
            "text/plain": [
              "<Figure size 864x432 with 2 Axes>"
            ]
          },
          "metadata": {}
        }
      ]
    },
    {
      "cell_type": "markdown",
      "metadata": {
        "id": "QIXUYFfGUOtH"
      },
      "source": [
        "Plotou-se dois histogramas a fim de analisar a quantidade de transações e os seus valores, não há uma discrepancia muito grande entre com e sem fraude, o que é interessante analisar é que as transações fraudulentas tem uma grande distribuição e o segundo maior pico próximos aos valores de 100, pois o primeiro está mais próximos de valores perto de 0 isso acontece tanto para transações fraudulentas quando para as não fraudulentas."
      ]
    },
    {
      "cell_type": "code",
      "metadata": {
        "colab": {
          "base_uri": "https://localhost:8080/",
          "height": 581
        },
        "id": "RZ_S-r6H6K_b",
        "outputId": "2a98fe0a-0130-4238-ac3a-30b594e33d6f"
      },
      "source": [
        "fig, axes = plt.subplots(2, figsize=(10,8))\n",
        "\n",
        "df_temp = df_out.loc[df['Amount'] >= 1].sort_values(by='Amount', ascending=True)\n",
        "\n",
        "df_f = df_temp.loc[df_temp['Class']==1].copy()\n",
        "df_n_f = df_temp.loc[df_temp['Class']==0].copy()\n",
        "num_bins = 40\n",
        "\n",
        "sns.histplot(df_n_f, x='Amount', ax=axes[0], bins=num_bins)\n",
        "axes[0].set_title('transações não fraudulentas')\n",
        "\n",
        "sns.histplot(df_f, x='Amount', ax=axes[1], bins=num_bins)\n",
        "axes[1].set_title('transações fraudulentas')\n",
        "\n",
        "\n",
        "plt.xlabel('Valor da transação')\n",
        "plt.ylabel('Transações')\n",
        "plt.tight_layout()"
      ],
      "execution_count": null,
      "outputs": [
        {
          "output_type": "display_data",
          "data": {
            "image/png": "[encoded data removed]",
            "text/plain": [
              "<Figure size 720x576 with 2 Axes>"
            ]
          },
          "metadata": {}
        }
      ]
    },
    {
      "cell_type": "markdown",
      "metadata": {
        "id": "rYI9gU_KnWwt"
      },
      "source": [
        "###Normalizar os dados"
      ]
    },
    {
      "cell_type": "code",
      "metadata": {
        "colab": {
          "base_uri": "https://localhost:8080/",
          "height": 223
        },
        "id": "BO4xywUPSJ3m",
        "outputId": "2b7a9cd4-3f85-41a2-8bb7-d4150190b951"
      },
      "source": [
        "scaler = StandardScaler()\n",
        "df_out['Amount'] = scaler.fit_transform(df_out['Amount'].values.reshape(-1,1))\n",
        "df_out['Time'] = scaler.fit_transform(df_out['Time'].values.reshape(-1,1))\n",
        "\n",
        "df_out.head()"
      ],
      "execution_count": null,
      "outputs": [
        {
          "output_type": "execute_result",
          "data": {
            "text/html": [
              "<div>\n",
              "<style scoped>\n",
              "    .dataframe tbody tr th:only-of-type {\n",
              "        vertical-align: middle;\n",
              "    }\n",
              "\n",
              "    .dataframe tbody tr th {\n",
              "        vertical-align: top;\n",
              "    }\n",
              "\n",
              "    .dataframe thead th {\n",
              "        text-align: right;\n",
              "    }\n",
              "</style>\n",
              "<table border=\"1\" class=\"dataframe\">\n",
              "  <thead>\n",
              "    <tr style=\"text-align: right;\">\n",
              "      <th></th>\n",
              "      <th>Time</th>\n",
              "      <th>V1</th>\n",
              "      <th>V2</th>\n",
              "      <th>V3</th>\n",
              "      <th>V4</th>\n",
              "      <th>V5</th>\n",
              "      <th>V6</th>\n",
              "      <th>V7</th>\n",
              "      <th>V8</th>\n",
              "      <th>V9</th>\n",
              "      <th>V10</th>\n",
              "      <th>V11</th>\n",
              "      <th>V12</th>\n",
              "      <th>V13</th>\n",
              "      <th>V14</th>\n",
              "      <th>V15</th>\n",
              "      <th>V16</th>\n",
              "      <th>V17</th>\n",
              "      <th>V18</th>\n",
              "      <th>V19</th>\n",
              "      <th>V20</th>\n",
              "      <th>V21</th>\n",
              "      <th>V22</th>\n",
              "      <th>V23</th>\n",
              "      <th>V24</th>\n",
              "      <th>V25</th>\n",
              "      <th>V26</th>\n",
              "      <th>V27</th>\n",
              "      <th>V28</th>\n",
              "      <th>Amount</th>\n",
              "      <th>Class</th>\n",
              "    </tr>\n",
              "  </thead>\n",
              "  <tbody>\n",
              "    <tr>\n",
              "      <th>0</th>\n",
              "      <td>-1.995729</td>\n",
              "      <td>-1.359807</td>\n",
              "      <td>-0.072781</td>\n",
              "      <td>2.536347</td>\n",
              "      <td>1.378155</td>\n",
              "      <td>-0.338321</td>\n",
              "      <td>0.462388</td>\n",
              "      <td>0.239599</td>\n",
              "      <td>0.098698</td>\n",
              "      <td>0.363787</td>\n",
              "      <td>0.090794</td>\n",
              "      <td>-0.551600</td>\n",
              "      <td>-0.617801</td>\n",
              "      <td>-0.991390</td>\n",
              "      <td>-0.311169</td>\n",
              "      <td>1.468177</td>\n",
              "      <td>-0.470401</td>\n",
              "      <td>0.207971</td>\n",
              "      <td>0.025791</td>\n",
              "      <td>0.403993</td>\n",
              "      <td>0.251412</td>\n",
              "      <td>-0.018307</td>\n",
              "      <td>0.277838</td>\n",
              "      <td>-0.110474</td>\n",
              "      <td>0.066928</td>\n",
              "      <td>0.128539</td>\n",
              "      <td>-0.189115</td>\n",
              "      <td>0.133558</td>\n",
              "      <td>-0.021053</td>\n",
              "      <td>2.718502</td>\n",
              "      <td>0</td>\n",
              "    </tr>\n",
              "    <tr>\n",
              "      <th>1</th>\n",
              "      <td>-1.995729</td>\n",
              "      <td>1.191857</td>\n",
              "      <td>0.266151</td>\n",
              "      <td>0.166480</td>\n",
              "      <td>0.448154</td>\n",
              "      <td>0.060018</td>\n",
              "      <td>-0.082361</td>\n",
              "      <td>-0.078803</td>\n",
              "      <td>0.085102</td>\n",
              "      <td>-0.255425</td>\n",
              "      <td>-0.166974</td>\n",
              "      <td>1.612727</td>\n",
              "      <td>1.065235</td>\n",
              "      <td>0.489095</td>\n",
              "      <td>-0.143772</td>\n",
              "      <td>0.635558</td>\n",
              "      <td>0.463917</td>\n",
              "      <td>-0.114805</td>\n",
              "      <td>-0.183361</td>\n",
              "      <td>-0.145783</td>\n",
              "      <td>-0.069083</td>\n",
              "      <td>-0.225775</td>\n",
              "      <td>-0.638672</td>\n",
              "      <td>0.101288</td>\n",
              "      <td>-0.339846</td>\n",
              "      <td>0.167170</td>\n",
              "      <td>0.125895</td>\n",
              "      <td>-0.008983</td>\n",
              "      <td>0.014724</td>\n",
              "      <td>-0.765550</td>\n",
              "      <td>0</td>\n",
              "    </tr>\n",
              "    <tr>\n",
              "      <th>3</th>\n",
              "      <td>-1.995708</td>\n",
              "      <td>-0.966272</td>\n",
              "      <td>-0.185226</td>\n",
              "      <td>1.792993</td>\n",
              "      <td>-0.863291</td>\n",
              "      <td>-0.010309</td>\n",
              "      <td>1.247203</td>\n",
              "      <td>0.237609</td>\n",
              "      <td>0.377436</td>\n",
              "      <td>-1.387024</td>\n",
              "      <td>-0.054952</td>\n",
              "      <td>-0.226487</td>\n",
              "      <td>0.178228</td>\n",
              "      <td>0.507757</td>\n",
              "      <td>-0.287924</td>\n",
              "      <td>-0.631418</td>\n",
              "      <td>-1.059647</td>\n",
              "      <td>-0.684093</td>\n",
              "      <td>1.965775</td>\n",
              "      <td>-1.232622</td>\n",
              "      <td>-0.208038</td>\n",
              "      <td>-0.108300</td>\n",
              "      <td>0.005274</td>\n",
              "      <td>-0.190321</td>\n",
              "      <td>-1.175575</td>\n",
              "      <td>0.647376</td>\n",
              "      <td>-0.221929</td>\n",
              "      <td>0.062723</td>\n",
              "      <td>0.061458</td>\n",
              "      <td>2.099136</td>\n",
              "      <td>0</td>\n",
              "    </tr>\n",
              "    <tr>\n",
              "      <th>4</th>\n",
              "      <td>-1.995687</td>\n",
              "      <td>-1.158233</td>\n",
              "      <td>0.877737</td>\n",
              "      <td>1.548718</td>\n",
              "      <td>0.403034</td>\n",
              "      <td>-0.407193</td>\n",
              "      <td>0.095921</td>\n",
              "      <td>0.592941</td>\n",
              "      <td>-0.270533</td>\n",
              "      <td>0.817739</td>\n",
              "      <td>0.753074</td>\n",
              "      <td>-0.822843</td>\n",
              "      <td>0.538196</td>\n",
              "      <td>1.345852</td>\n",
              "      <td>-1.119670</td>\n",
              "      <td>0.175121</td>\n",
              "      <td>-0.451449</td>\n",
              "      <td>-0.237033</td>\n",
              "      <td>-0.038195</td>\n",
              "      <td>0.803487</td>\n",
              "      <td>0.408542</td>\n",
              "      <td>-0.009431</td>\n",
              "      <td>0.798278</td>\n",
              "      <td>-0.137458</td>\n",
              "      <td>0.141267</td>\n",
              "      <td>-0.206010</td>\n",
              "      <td>0.502292</td>\n",
              "      <td>0.219422</td>\n",
              "      <td>0.215153</td>\n",
              "      <td>0.830290</td>\n",
              "      <td>0</td>\n",
              "    </tr>\n",
              "    <tr>\n",
              "      <th>5</th>\n",
              "      <td>-1.995687</td>\n",
              "      <td>-0.425966</td>\n",
              "      <td>0.960523</td>\n",
              "      <td>1.141109</td>\n",
              "      <td>-0.168252</td>\n",
              "      <td>0.420987</td>\n",
              "      <td>-0.029728</td>\n",
              "      <td>0.476201</td>\n",
              "      <td>0.260314</td>\n",
              "      <td>-0.568671</td>\n",
              "      <td>-0.371407</td>\n",
              "      <td>1.341262</td>\n",
              "      <td>0.359894</td>\n",
              "      <td>-0.358091</td>\n",
              "      <td>-0.137134</td>\n",
              "      <td>0.517617</td>\n",
              "      <td>0.401726</td>\n",
              "      <td>-0.058133</td>\n",
              "      <td>0.068653</td>\n",
              "      <td>-0.033194</td>\n",
              "      <td>0.084968</td>\n",
              "      <td>-0.208254</td>\n",
              "      <td>-0.559825</td>\n",
              "      <td>-0.026398</td>\n",
              "      <td>-0.371427</td>\n",
              "      <td>-0.232794</td>\n",
              "      <td>0.105915</td>\n",
              "      <td>0.253844</td>\n",
              "      <td>0.081080</td>\n",
              "      <td>-0.742312</td>\n",
              "      <td>0</td>\n",
              "    </tr>\n",
              "  </tbody>\n",
              "</table>\n",
              "</div>"
            ],
            "text/plain": [
              "       Time        V1        V2        V3  ...       V27       V28    Amount  Class\n",
              "0 -1.995729 -1.359807 -0.072781  2.536347  ...  0.133558 -0.021053  2.718502      0\n",
              "1 -1.995729  1.191857  0.266151  0.166480  ... -0.008983  0.014724 -0.765550      0\n",
              "3 -1.995708 -0.966272 -0.185226  1.792993  ...  0.062723  0.061458  2.099136      0\n",
              "4 -1.995687 -1.158233  0.877737  1.548718  ...  0.219422  0.215153  0.830290      0\n",
              "5 -1.995687 -0.425966  0.960523  1.141109  ...  0.253844  0.081080 -0.742312      0\n",
              "\n",
              "[5 rows x 31 columns]"
            ]
          },
          "metadata": {},
          "execution_count": 16
        }
      ]
    },
    {
      "cell_type": "markdown",
      "metadata": {
        "id": "ARw1s19noQGG"
      },
      "source": [
        "###Balanceamento\n",
        "Então agora entraremos no processo de balanceamento dos dados. \n",
        "\n",
        "O método que irei usar é o de NearMiss, ele reduz o volume da classe majoritária, levando  em consideração a distância dos pontos."
      ]
    },
    {
      "cell_type": "code",
      "metadata": {
        "id": "ubTZAVaxnqs8"
      },
      "source": [
        "X_b = df_out.drop(\"Class\", axis=1)\n",
        "Y_b = df_out['Class']\n",
        "x_bruto_train, x_bruto_test, y_bruto_train, y_bruto_test = train_test_split(X_b, Y_b, stratify=Y_b, test_size=0.20,  shuffle=True,)"
      ],
      "execution_count": null,
      "outputs": []
    },
    {
      "cell_type": "code",
      "metadata": {
        "id": "-HC3nJx5ir2e"
      },
      "source": [
        "X = df_out.drop(\"Class\", axis=1)\n",
        "Y = df_out['Class']"
      ],
      "execution_count": null,
      "outputs": []
    },
    {
      "cell_type": "code",
      "metadata": {
        "id": "QzylN1ULw1EK"
      },
      "source": [
        "rus = RandomUnderSampler()\n",
        "X, y = rus.fit_sample(x_bruto_train, y_bruto_train)"
      ],
      "execution_count": null,
      "outputs": []
    },
    {
      "cell_type": "code",
      "metadata": {
        "id": "jo0NSbfsWbBC",
        "colab": {
          "base_uri": "https://localhost:8080/"
        },
        "outputId": "6eda6037-f9ec-4ec6-d2e5-5ee63158ba4f"
      },
      "source": [
        "X.shape, y.shape"
      ],
      "execution_count": null,
      "outputs": [
        {
          "output_type": "execute_result",
          "data": {
            "text/plain": [
              "((642, 30), (642,))"
            ]
          },
          "metadata": {},
          "execution_count": 20
        }
      ]
    },
    {
      "cell_type": "code",
      "metadata": {
        "id": "7fKHC8b5WiXa",
        "colab": {
          "base_uri": "https://localhost:8080/",
          "height": 347
        },
        "outputId": "0002a86e-fdc5-4dce-c172-acf61c0a81ef"
      },
      "source": [
        "ax = sns.countplot(x=y)"
      ],
      "execution_count": null,
      "outputs": [
        {
          "output_type": "display_data",
          "data": {
            "image/png": "[encoded data removed]",
            "text/plain": [
              "<Figure size 576x396 with 1 Axes>"
            ]
          },
          "metadata": {}
        }
      ]
    },
    {
      "cell_type": "code",
      "metadata": {
        "id": "dYIagZmGE58S"
      },
      "source": [
        "#separando os dados para o treino do modelo\n",
        "x_train, x_test, y_train, y_test = train_test_split(X, y, stratify=y, test_size=0.20,  shuffle=True,)"
      ],
      "execution_count": null,
      "outputs": []
    },
    {
      "cell_type": "code",
      "metadata": {
        "id": "aR1aGBYMFdDw",
        "colab": {
          "base_uri": "https://localhost:8080/"
        },
        "outputId": "affe06c8-487c-47a9-f8fd-f3d9e29c1f70"
      },
      "source": [
        "print(\"treino: \",x_train.shape, y_train.shape)\n",
        "print(\"test: \",x_test.shape, y_test.shape)"
      ],
      "execution_count": null,
      "outputs": [
        {
          "output_type": "stream",
          "name": "stdout",
          "text": [
            "treino:  (513, 30) (513,)\n",
            "test:  (129, 30) (129,)\n"
          ]
        }
      ]
    },
    {
      "cell_type": "markdown",
      "metadata": {
        "id": "MmquaWlGkl0y"
      },
      "source": [
        "##Modelagem de Machine Learning\n",
        "\n",
        "Após a analise exploratória feita e iremos fazer a predição com machine learning para dado iremos usar três modelos difenrentes para a análise, regressão logistica, Naive Bayes e Arvore de descisão."
      ]
    },
    {
      "cell_type": "markdown",
      "metadata": {
        "id": "1sh-7pYty9uj"
      },
      "source": [
        "###Regressão Logística\n",
        "\n",
        "A regressão logística é uma técnica estatística que tem como objetivo produzir, a partir de um conjunto de observações, um modelo que permita a predição de valores tomados por uma variável categórica, frequentemente binária, a partir de uma série de variáveis explicativas contínuas e/ou binárias"
      ]
    },
    {
      "cell_type": "code",
      "metadata": {
        "id": "9RJhpa_1LOel",
        "colab": {
          "base_uri": "https://localhost:8080/"
        },
        "outputId": "aa1ecddf-ff92-48cd-e564-ce78ed66a886"
      },
      "source": [
        "#treino do modelo\n",
        "model = LogisticRegression()\n",
        "model.fit(X, y)"
      ],
      "execution_count": null,
      "outputs": [
        {
          "output_type": "execute_result",
          "data": {
            "text/plain": [
              "LogisticRegression(C=1.0, class_weight=None, dual=False, fit_intercept=True,\n",
              "                   intercept_scaling=1, l1_ratio=None, max_iter=100,\n",
              "                   multi_class='auto', n_jobs=None, penalty='l2',\n",
              "                   random_state=None, solver='lbfgs', tol=0.0001, verbose=0,\n",
              "                   warm_start=False)"
            ]
          },
          "metadata": {},
          "execution_count": 38
        }
      ]
    },
    {
      "cell_type": "code",
      "metadata": {
        "id": "v-NG8I8jNKjq",
        "colab": {
          "base_uri": "https://localhost:8080/"
        },
        "outputId": "4aee2e55-7ff5-42cd-9af6-566de74cc90d"
      },
      "source": [
        "pred = model.predict(x_bruto_test)\n",
        "accuracy_score(y_bruto_test, pred)"
      ],
      "execution_count": null,
      "outputs": [
        {
          "output_type": "execute_result",
          "data": {
            "text/plain": [
              "0.9795180008303513"
            ]
          },
          "metadata": {},
          "execution_count": 39
        }
      ]
    },
    {
      "cell_type": "code",
      "metadata": {
        "id": "DepQIRveL2Lm",
        "colab": {
          "base_uri": "https://localhost:8080/"
        },
        "outputId": "70f443f3-633d-4f5a-d8d2-87dd1ddc9c69"
      },
      "source": [
        "print(classification_report(y_bruto_test, pred))"
      ],
      "execution_count": null,
      "outputs": [
        {
          "output_type": "stream",
          "name": "stdout",
          "text": [
            "              precision    recall  f1-score   support\n",
            "\n",
            "           0       1.00      0.98      0.99     50501\n",
            "           1       0.07      0.90      0.12        80\n",
            "\n",
            "    accuracy                           0.98     50581\n",
            "   macro avg       0.53      0.94      0.56     50581\n",
            "weighted avg       1.00      0.98      0.99     50581\n",
            "\n"
          ]
        }
      ]
    },
    {
      "cell_type": "code",
      "metadata": {
        "colab": {
          "base_uri": "https://localhost:8080/",
          "height": 361
        },
        "id": "Gjt70Lb8ks5q",
        "outputId": "8fa76fd1-f84a-47b1-808f-fe4208e42edd"
      },
      "source": [
        "cm = ConfusionMatrix(model)\n",
        "cm.fit(X, y)\n",
        "cm.score(x_bruto_test, y_bruto_test)"
      ],
      "execution_count": null,
      "outputs": [
        {
          "output_type": "execute_result",
          "data": {
            "text/plain": [
              "0.9795180008303513"
            ]
          },
          "metadata": {},
          "execution_count": 36
        },
        {
          "output_type": "display_data",
          "data": {
            "image/png": "[encoded data removed]",
            "text/plain": [
              "<Figure size 576x396 with 1 Axes>"
            ]
          },
          "metadata": {}
        }
      ]
    },
    {
      "cell_type": "markdown",
      "metadata": {
        "id": "EfY_qYtUNqYV"
      },
      "source": [
        "A quantidade de falsos negativo (algoritmo previu não fraude porém é fraude) foram apenas de **8** ocorrencias. Comparando com os valores de falso positivo (algoritmo disse que é fraude mas na verdade não é) de **1028** ocorrecias\n",
        "\n",
        "Ou seja na prática esse modelo está definindo como falsos casos fraudulentos em uma razão de **1028 ocorrencias para 50501**. \n",
        "\n",
        "Partindo de uma visão otimista essa situação é melhor do que se ele tivesse tomando como falsos negativos pois dai o algoritmo estaria deixando passar vários casos de fraudes reais achando que são casos não fraudulentas. "
      ]
    },
    {
      "cell_type": "markdown",
      "metadata": {
        "id": "fqlMW482j0rX"
      },
      "source": [
        "###Naive Bayes"
      ]
    },
    {
      "cell_type": "code",
      "metadata": {
        "id": "XKRt58rzWqM3"
      },
      "source": [
        "from sklearn.naive_bayes import GaussianNB"
      ],
      "execution_count": null,
      "outputs": []
    },
    {
      "cell_type": "code",
      "metadata": {
        "colab": {
          "base_uri": "https://localhost:8080/"
        },
        "id": "JFCj3PDXXp_0",
        "outputId": "f689374f-5ba3-4e0a-c812-3c50c6c7a622"
      },
      "source": [
        "naive_bayes = GaussianNB()\n",
        "naive_bayes.fit(X, y)"
      ],
      "execution_count": null,
      "outputs": [
        {
          "output_type": "execute_result",
          "data": {
            "text/plain": [
              "GaussianNB(priors=None, var_smoothing=1e-09)"
            ]
          },
          "metadata": {},
          "execution_count": 29
        }
      ]
    },
    {
      "cell_type": "code",
      "metadata": {
        "colab": {
          "base_uri": "https://localhost:8080/"
        },
        "id": "enwZ_GtTYPJz",
        "outputId": "0dadc795-50e5-42c7-c681-a1b96d306097"
      },
      "source": [
        "prev_naive = naive_bayes.predict(x_bruto_test)\n",
        "accuracy_score(y_bruto_test, prev_naive)"
      ],
      "execution_count": null,
      "outputs": [
        {
          "output_type": "execute_result",
          "data": {
            "text/plain": [
              "0.9714912714260295"
            ]
          },
          "metadata": {},
          "execution_count": 30
        }
      ]
    },
    {
      "cell_type": "code",
      "metadata": {
        "colab": {
          "base_uri": "https://localhost:8080/"
        },
        "id": "kzCaO6REYqrA",
        "outputId": "e21af96a-de4c-4809-b895-c63415d05059"
      },
      "source": [
        "print(classification_report(y_bruto_test, prev_naive))"
      ],
      "execution_count": null,
      "outputs": [
        {
          "output_type": "stream",
          "name": "stdout",
          "text": [
            "              precision    recall  f1-score   support\n",
            "\n",
            "           0       1.00      0.97      0.99     50501\n",
            "           1       0.05      0.89      0.09        80\n",
            "\n",
            "    accuracy                           0.97     50581\n",
            "   macro avg       0.52      0.93      0.54     50581\n",
            "weighted avg       1.00      0.97      0.98     50581\n",
            "\n"
          ]
        }
      ]
    },
    {
      "cell_type": "code",
      "metadata": {
        "colab": {
          "base_uri": "https://localhost:8080/",
          "height": 361
        },
        "id": "d1_I7Ma8H_iq",
        "outputId": "c0056a90-7d0c-4b89-c9be-bee273d668a6"
      },
      "source": [
        "cm = ConfusionMatrix(naive_bayes)\n",
        "cm.fit(X, y)\n",
        "cm.score(x_bruto_test, y_bruto_test)"
      ],
      "execution_count": null,
      "outputs": [
        {
          "output_type": "execute_result",
          "data": {
            "text/plain": [
              "0.9714912714260295"
            ]
          },
          "metadata": {},
          "execution_count": 35
        },
        {
          "output_type": "display_data",
          "data": {
            "image/png": "[encoded data removed]",
            "text/plain": [
              "<Figure size 576x396 with 1 Axes>"
            ]
          },
          "metadata": {}
        }
      ]
    },
    {
      "cell_type": "markdown",
      "metadata": {
        "id": "9lcFImwTK6Yk"
      },
      "source": [
        "\n",
        "\n",
        "*   Quantidade de falso positivo aumentou quando comparado com o primeiro modelo, Regressão Logistica, **1433 contra 1028**, apenas para título de refoso falso positivo é quando o código detectar a fransação como fraude porém ela na verdade não era fraude. \n",
        "*   A quantidade de falsos negativos se manteve muito próxima a anterior apenas **9** detecções. Sobrando apenas **71** detecções, corretas, de transações fraudulentas das **80** amostras \n",
        "\n"
      ]
    },
    {
      "cell_type": "markdown",
      "metadata": {
        "id": "7dbwwsHsy5KQ"
      },
      "source": [
        "###Árvore de decisão"
      ]
    },
    {
      "cell_type": "code",
      "metadata": {
        "id": "O2q-E-64Mppo",
        "colab": {
          "base_uri": "https://localhost:8080/"
        },
        "outputId": "923bc092-1d56-44e9-cad9-a88d9186e975"
      },
      "source": [
        "modelo_arv = DecisionTreeClassifier(criterion='entropy', random_state=0)\n",
        "modelo_arv.fit(X, y)"
      ],
      "execution_count": null,
      "outputs": [
        {
          "output_type": "execute_result",
          "data": {
            "text/plain": [
              "DecisionTreeClassifier(ccp_alpha=0.0, class_weight=None, criterion='entropy',\n",
              "                       max_depth=None, max_features=None, max_leaf_nodes=None,\n",
              "                       min_impurity_decrease=0.0, min_impurity_split=None,\n",
              "                       min_samples_leaf=1, min_samples_split=2,\n",
              "                       min_weight_fraction_leaf=0.0, presort='deprecated',\n",
              "                       random_state=0, splitter='best')"
            ]
          },
          "metadata": {},
          "execution_count": 32
        }
      ]
    },
    {
      "cell_type": "code",
      "metadata": {
        "colab": {
          "base_uri": "https://localhost:8080/"
        },
        "id": "SG_EupuosTb4",
        "outputId": "2a03d5ea-50e4-4bbb-943b-23e0120f95a9"
      },
      "source": [
        "prev = modelo_arv.predict(x_bruto_test)\n",
        "accuracy_score(y_bruto_test, prev)"
      ],
      "execution_count": null,
      "outputs": [
        {
          "output_type": "execute_result",
          "data": {
            "text/plain": [
              "0.9292224353017932"
            ]
          },
          "metadata": {},
          "execution_count": 33
        }
      ]
    },
    {
      "cell_type": "code",
      "metadata": {
        "colab": {
          "base_uri": "https://localhost:8080/"
        },
        "id": "sxCzPy2RyiiB",
        "outputId": "62f9b178-66c1-4c49-b02e-f26140677685"
      },
      "source": [
        "print(classification_report(y_bruto_test, prev))"
      ],
      "execution_count": null,
      "outputs": [
        {
          "output_type": "stream",
          "name": "stdout",
          "text": [
            "              precision    recall  f1-score   support\n",
            "\n",
            "           0       1.00      0.93      0.96     50501\n",
            "           1       0.02      0.90      0.04        80\n",
            "\n",
            "    accuracy                           0.93     50581\n",
            "   macro avg       0.51      0.91      0.50     50581\n",
            "weighted avg       1.00      0.93      0.96     50581\n",
            "\n"
          ]
        }
      ]
    },
    {
      "cell_type": "code",
      "metadata": {
        "id": "zp5_kj7hy0hH",
        "colab": {
          "base_uri": "https://localhost:8080/",
          "height": 361
        },
        "outputId": "d2ce3c90-edea-42e8-ef5a-31a4c113aa4a"
      },
      "source": [
        "cm = ConfusionMatrix(modelo_arv)\n",
        "cm.fit(X, y)\n",
        "cm.score(x_bruto_test, y_bruto_test)"
      ],
      "execution_count": null,
      "outputs": [
        {
          "output_type": "execute_result",
          "data": {
            "text/plain": [
              "0.9292224353017932"
            ]
          },
          "metadata": {},
          "execution_count": 41
        },
        {
          "output_type": "display_data",
          "data": {
            "image/png": "[encoded data removed]",
            "text/plain": [
              "<Figure size 576x396 with 1 Axes>"
            ]
          },
          "metadata": {}
        }
      ]
    },
    {
      "cell_type": "markdown",
      "metadata": {
        "id": "Vg5vEONcTsDW"
      },
      "source": [
        "\n",
        "\n",
        "*   O comportamento do modelo de Árvore de decisão foi muito parecido com o modelo de regressão. A diferença ficou para os **falsos positivos** no qual o modelo em questão identificou de **50501** amostras **3572** delas como sendo falso positivo \n",
        "\n"
      ]
    },
    {
      "cell_type": "markdown",
      "metadata": {
        "id": "BLeklnLQtc1D"
      },
      "source": [
        "##Conclusão\n",
        "\n",
        "Os resultados obtidos até aqui se mostraram bem satisfatórios, para o conjunto de dados que nos foi fornecido, uma vez que para o cliente de um banco é mais vantajoso ter seu cartão bloqueado por uma compra que ele mesmo vez **(falso positivo)** do que por uma fraude real de fato, isso mostra que o algoritmo de detecção de fraudes do banco é precavido e provavelmente o cliente acabe por uma notificação do banco perguntando sobre uma compra suspeita que na verdade foi o próprio cliente que fez.\n",
        "\n",
        "Vale resaltar que esse é apenas um projeto usando dados públicos disponibilizados no Kaggle os quais foram obtidos em um curto período de tempo estando desbalanceados e com transformações PCA.\n",
        "\n",
        "Na opinião do autor o modelo de **Regressão Logistica** se saiu superior quanto aos outros modelos usados."
      ]
    },
    {
      "cell_type": "code",
      "metadata": {
        "id": "D7oO4txC-zVq"
      },
      "source": [
        ""
      ],
      "execution_count": null,
      "outputs": []
    }
  ]
}